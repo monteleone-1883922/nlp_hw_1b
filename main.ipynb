{
  "cells": [
    {
      "cell_type": "code",
      "execution_count": 1,
      "id": "initial_id",
      "metadata": {
        "collapsed": true,
        "id": "initial_id",
        "colab": {
          "base_uri": "https://localhost:8080/"
        },
        "outputId": "6ca251ab-46cd-45bd-a54f-222697599c0f"
      },
      "outputs": [
        {
          "output_type": "stream",
          "name": "stdout",
          "text": [
            "Collecting wandb\n",
            "  Downloading wandb-0.16.6-py3-none-any.whl (2.2 MB)\n",
            "\u001b[2K     \u001b[90m━━━━━━━━━━━━━━━━━━━━━━━━━━━━━━━━━━━━━━━━\u001b[0m \u001b[32m2.2/2.2 MB\u001b[0m \u001b[31m19.6 MB/s\u001b[0m eta \u001b[36m0:00:00\u001b[0m\n",
            "\u001b[?25hCollecting fasttext\n",
            "  Downloading fasttext-0.9.2.tar.gz (68 kB)\n",
            "\u001b[2K     \u001b[90m━━━━━━━━━━━━━━━━━━━━━━━━━━━━━━━━━━━━━━━━\u001b[0m \u001b[32m68.8/68.8 kB\u001b[0m \u001b[31m7.4 MB/s\u001b[0m eta \u001b[36m0:00:00\u001b[0m\n",
            "\u001b[?25h  Preparing metadata (setup.py) ... \u001b[?25l\u001b[?25hdone\n",
            "Requirement already satisfied: plotly in /usr/local/lib/python3.10/dist-packages (5.15.0)\n",
            "Requirement already satisfied: Click!=8.0.0,>=7.1 in /usr/local/lib/python3.10/dist-packages (from wandb) (8.1.7)\n",
            "Collecting GitPython!=3.1.29,>=1.0.0 (from wandb)\n",
            "  Downloading GitPython-3.1.43-py3-none-any.whl (207 kB)\n",
            "\u001b[2K     \u001b[90m━━━━━━━━━━━━━━━━━━━━━━━━━━━━━━━━━━━━━━━━\u001b[0m \u001b[32m207.3/207.3 kB\u001b[0m \u001b[31m18.2 MB/s\u001b[0m eta \u001b[36m0:00:00\u001b[0m\n",
            "\u001b[?25hRequirement already satisfied: requests<3,>=2.0.0 in /usr/local/lib/python3.10/dist-packages (from wandb) (2.31.0)\n",
            "Requirement already satisfied: psutil>=5.0.0 in /usr/local/lib/python3.10/dist-packages (from wandb) (5.9.5)\n",
            "Collecting sentry-sdk>=1.0.0 (from wandb)\n",
            "  Downloading sentry_sdk-1.45.0-py2.py3-none-any.whl (267 kB)\n",
            "\u001b[2K     \u001b[90m━━━━━━━━━━━━━━━━━━━━━━━━━━━━━━━━━━━━━━━━\u001b[0m \u001b[32m267.1/267.1 kB\u001b[0m \u001b[31m23.3 MB/s\u001b[0m eta \u001b[36m0:00:00\u001b[0m\n",
            "\u001b[?25hCollecting docker-pycreds>=0.4.0 (from wandb)\n",
            "  Downloading docker_pycreds-0.4.0-py2.py3-none-any.whl (9.0 kB)\n",
            "Requirement already satisfied: PyYAML in /usr/local/lib/python3.10/dist-packages (from wandb) (6.0.1)\n",
            "Collecting setproctitle (from wandb)\n",
            "  Downloading setproctitle-1.3.3-cp310-cp310-manylinux_2_5_x86_64.manylinux1_x86_64.manylinux_2_17_x86_64.manylinux2014_x86_64.whl (30 kB)\n",
            "Requirement already satisfied: setuptools in /usr/local/lib/python3.10/dist-packages (from wandb) (67.7.2)\n",
            "Requirement already satisfied: appdirs>=1.4.3 in /usr/local/lib/python3.10/dist-packages (from wandb) (1.4.4)\n",
            "Requirement already satisfied: protobuf!=4.21.0,<5,>=3.19.0 in /usr/local/lib/python3.10/dist-packages (from wandb) (3.20.3)\n",
            "Collecting pybind11>=2.2 (from fasttext)\n",
            "  Using cached pybind11-2.12.0-py3-none-any.whl (234 kB)\n",
            "Requirement already satisfied: numpy in /usr/local/lib/python3.10/dist-packages (from fasttext) (1.25.2)\n",
            "Requirement already satisfied: tenacity>=6.2.0 in /usr/local/lib/python3.10/dist-packages (from plotly) (8.2.3)\n",
            "Requirement already satisfied: packaging in /usr/local/lib/python3.10/dist-packages (from plotly) (24.0)\n",
            "Requirement already satisfied: six>=1.4.0 in /usr/local/lib/python3.10/dist-packages (from docker-pycreds>=0.4.0->wandb) (1.16.0)\n",
            "Collecting gitdb<5,>=4.0.1 (from GitPython!=3.1.29,>=1.0.0->wandb)\n",
            "  Downloading gitdb-4.0.11-py3-none-any.whl (62 kB)\n",
            "\u001b[2K     \u001b[90m━━━━━━━━━━━━━━━━━━━━━━━━━━━━━━━━━━━━━━━━\u001b[0m \u001b[32m62.7/62.7 kB\u001b[0m \u001b[31m6.2 MB/s\u001b[0m eta \u001b[36m0:00:00\u001b[0m\n",
            "\u001b[?25hRequirement already satisfied: charset-normalizer<4,>=2 in /usr/local/lib/python3.10/dist-packages (from requests<3,>=2.0.0->wandb) (3.3.2)\n",
            "Requirement already satisfied: idna<4,>=2.5 in /usr/local/lib/python3.10/dist-packages (from requests<3,>=2.0.0->wandb) (3.6)\n",
            "Requirement already satisfied: urllib3<3,>=1.21.1 in /usr/local/lib/python3.10/dist-packages (from requests<3,>=2.0.0->wandb) (2.0.7)\n",
            "Requirement already satisfied: certifi>=2017.4.17 in /usr/local/lib/python3.10/dist-packages (from requests<3,>=2.0.0->wandb) (2024.2.2)\n",
            "Collecting smmap<6,>=3.0.1 (from gitdb<5,>=4.0.1->GitPython!=3.1.29,>=1.0.0->wandb)\n",
            "  Downloading smmap-5.0.1-py3-none-any.whl (24 kB)\n",
            "Building wheels for collected packages: fasttext\n",
            "  Building wheel for fasttext (setup.py) ... \u001b[?25l\u001b[?25hdone\n",
            "  Created wheel for fasttext: filename=fasttext-0.9.2-cp310-cp310-linux_x86_64.whl size=4227137 sha256=c65a3d4d0bac01ccde2354da0bd95f11b5e864c3e8509dff04019b1e93ba5fd5\n",
            "  Stored in directory: /root/.cache/pip/wheels/a5/13/75/f811c84a8ab36eedbaef977a6a58a98990e8e0f1967f98f394\n",
            "Successfully built fasttext\n",
            "Installing collected packages: smmap, setproctitle, sentry-sdk, pybind11, docker-pycreds, gitdb, fasttext, GitPython, wandb\n",
            "Successfully installed GitPython-3.1.43 docker-pycreds-0.4.0 fasttext-0.9.2 gitdb-4.0.11 pybind11-2.12.0 sentry-sdk-1.45.0 setproctitle-1.3.3 smmap-5.0.1 wandb-0.16.6\n"
          ]
        }
      ],
      "source": [
        "!pip install wandb fasttext plotly"
      ]
    },
    {
      "cell_type": "code",
      "source": [
        "from google.colab import drive\n",
        "drive.mount('/content/drive')"
      ],
      "metadata": {
        "id": "wNSux8-tDrJM",
        "outputId": "6bbe37ed-a342-4c24-87fd-674f393ccf12",
        "colab": {
          "base_uri": "https://localhost:8080/"
        }
      },
      "id": "wNSux8-tDrJM",
      "execution_count": 2,
      "outputs": [
        {
          "output_type": "stream",
          "name": "stdout",
          "text": [
            "Mounted at /content/drive\n"
          ]
        }
      ]
    },
    {
      "cell_type": "code",
      "source": [
        "import json\n",
        "import numpy as np\n",
        "from sklearn.metrics import confusion_matrix, precision_score, recall_score, f1_score, accuracy_score\n",
        "import torch\n",
        "from torch.utils.data import Dataset, DataLoader\n",
        "from torch import nn\n",
        "import fasttext.util\n",
        "import plotly.express as px\n",
        "import sys\n",
        "import wandb\n",
        "from torch.nn.utils.rnn import pad_sequence, pack_padded_sequence, pad_packed_sequence\n",
        "from torch.nn.functional import sigmoid\n",
        "import pdb\n",
        "from torch.optim import Adam\n"
      ],
      "metadata": {
        "id": "IMGr7gQSGWQn"
      },
      "id": "IMGr7gQSGWQn",
      "execution_count": 3,
      "outputs": []
    },
    {
      "cell_type": "code",
      "source": [
        "# \"neutrale\", \"odio\" aaf831dabc88d936d4e6b439b798bb4cb42814ea\n",
        "\n",
        "ROOT_PATH = \"/content/drive/MyDrive/uni/nlp/nlp2024-hw1-b\"\n",
        "\n"
      ],
      "metadata": {
        "id": "2qvDmn3hEWX7"
      },
      "id": "2qvDmn3hEWX7",
      "execution_count": 4,
      "outputs": []
    },
    {
      "metadata": {
        "id": "b7edc7de2e121aa0"
      },
      "cell_type": "code",
      "outputs": [],
      "execution_count": null,
      "source": [
        "wandb.login()"
      ],
      "id": "b7edc7de2e121aa0"
    },
    {
      "cell_type": "code",
      "source": [
        "\n",
        "\n",
        "class HaSpeeDe_Dataset(Dataset):\n",
        "\n",
        "\n",
        "    def __init__(self, data_path: str, data: list[tuple[list, int]]=None, use_embeddings: bool=False, stopwords_file_path: str=\"\", device=\"cpu\") -> None:\n",
        "        self.device = device\n",
        "        if data is not None:\n",
        "            self.data = data\n",
        "        else:\n",
        "            if stopwords_file_path != \"\":\n",
        "                with open(stopwords_file_path, 'r', encoding=\"UTF8\") as f:\n",
        "                    stopwords = f.readlines() #controllare carattere di andare a capo\n",
        "            if use_embeddings:\n",
        "                fasttext.util.download_model('it', if_exists='ignore')\n",
        "                embeddings = fasttext.load_model('cc.it.300.bin')\n",
        "            self.data = []\n",
        "            with open(data_path, 'r', encoding=\"UTF8\") as f:\n",
        "                for line in f:\n",
        "                    item = json.loads(line)\n",
        "                    sentence = item['text'].split()\n",
        "                    if stopwords_file_path != \"\":\n",
        "                        sentence = [word for word in sentence if word not in stopwords]\n",
        "                    if use_embeddings:\n",
        "                        embedded_sentence = []\n",
        "                        for word in sentence:\n",
        "                            embedded_sentence.append(embeddings.get_word_vector(word))\n",
        "                        sentence = embedded_sentence\n",
        "                    self.data.append((sentence, item['label']))\n",
        "\n",
        "    def __len__(self) -> int:\n",
        "        return len(self.data)\n",
        "\n",
        "    def __getitem__(self, idx: int) -> tuple[list, int]:\n",
        "        return self.data[idx]\n",
        "\n",
        "    def split(self, prc: float) -> list[tuple[list, int]]:\n",
        "        validation_size = int(prc * len(self.data))\n",
        "        train_size = len(self.data) - validation_size\n",
        "        validation_data, self.data = torch.utils.data.random_split(self.data, [validation_size, train_size])\n",
        "        return validation_data\n",
        "\n",
        "\n",
        "    def collate(self, batch: list[tuple[list, int]]) -> tuple[torch.Tensor, torch.Tensor, torch.Tensor]:\n",
        "        texts, labels = zip(*batch)\n",
        "        lens = [len(text) for text in texts]\n",
        "        texts = pad_sequence([torch.tensor(text) for text in texts], batch_first=True)\n",
        "        return texts.to(self.device), torch.tensor(labels, dtype=torch.float).to(self.device), torch.tensor(lens).to(self.device)\n",
        "\n",
        "    def get_dataloader(self, batch_size: int, shuffle: bool) -> DataLoader:\n",
        "        return DataLoader(self, batch_size=batch_size, shuffle=shuffle, collate_fn=self.collate)\n",
        "\n",
        "\n",
        "    def print_data_analysis(self):\n",
        "        y= [0,0]\n",
        "        for el in self.data:\n",
        "            if el[1] == 1:\n",
        "                y[1] += 1\n",
        "            else:\n",
        "                y[0] += 1\n",
        "        self.neutral_count = y[0]\n",
        "        self.hateful_count = y[1]\n",
        "        fig = px.bar(x=[\"neutrale\", \"odio\"], y=y)\n",
        "        fig.show()\n",
        "\n",
        "\n",
        "\n",
        "\n"
      ],
      "metadata": {
        "id": "h7bb8_RtGcHn"
      },
      "id": "h7bb8_RtGcHn",
      "execution_count": 14,
      "outputs": []
    },
    {
      "metadata": {
        "id": "cdbbe622d4a727bc"
      },
      "cell_type": "code",
      "outputs": [],
      "execution_count": 6,
      "source": [
        "# Function to print a progress bar\n",
        "def print_progress_bar(percentuale: float, lunghezza_barra: int = 30) -> None:\n",
        "    blocchi_compilati = int(lunghezza_barra * percentuale)\n",
        "    barra = \"[\" + \"=\" * (blocchi_compilati - 1) + \">\" + \" \" * (lunghezza_barra - blocchi_compilati) + \"]\"\n",
        "    sys.stdout.write(f\"\\r{barra} {percentuale * 100:.2f}% complete\")\n",
        "    sys.stdout.flush()"
      ],
      "id": "cdbbe622d4a727bc"
    },
    {
      "metadata": {
        "id": "7f1bfbd3e87da811"
      },
      "cell_type": "code",
      "outputs": [],
      "execution_count": 12,
      "source": [
        "\n",
        "\n",
        "class Trainer():\n",
        "\n",
        "    def __init__(self, model,train_dataloader, validation_dataloader, optimizer, loss_function, device):\n",
        "        self.model = model.to(device)\n",
        "        self.train_dataloader = train_dataloader\n",
        "        self.validation_dataloader = validation_dataloader\n",
        "        self.optimizer = optimizer\n",
        "        self.loss_function = loss_function\n",
        "        self.device = device\n",
        "\n",
        "\n",
        "    @staticmethod\n",
        "    def evaluation_parameters(y_true, y_pred):\n",
        "        cm = confusion_matrix(y_true, y_pred).ravel()\n",
        "        precision = precision_score(y_true, y_pred)\n",
        "        recall = recall_score(y_true, y_pred)\n",
        "        f1 = f1_score(y_true, y_pred)\n",
        "        accuracy = accuracy_score(y_true, y_pred)\n",
        "        return cm, precision, recall, f1, accuracy\n",
        "\n",
        "\n",
        "    def train(self, epochs: int, use_wandb: bool = False, config: dict = {}):\n",
        "        if use_wandb:\n",
        "            wandb.init(\n",
        "                # Set the project where this run will be logged\n",
        "                project=\"nlp-hw-1b\",\n",
        "                # Track hyperparameters and run metadata\n",
        "                config=config\n",
        "            )\n",
        "        for epoch in range(epochs):\n",
        "            self.model.train()  # Set the model to training mode\n",
        "            total_loss = 0\n",
        "            breakpoint()\n",
        "            for i, batch in enumerate(self.train_dataloader):\n",
        "                print_progress_bar(i / len(self.train_dataloader))\n",
        "                # Get the inputs and targets from the batch\n",
        "                inputs, targets, lens = batch\n",
        "                # Zero the gradients\n",
        "                self.optimizer.zero_grad()\n",
        "                # Forward pass\n",
        "                outputs = self.model((inputs, lens))\n",
        "                breakpoint()\n",
        "                # Compute loss\n",
        "                loss = self.loss_function(outputs, targets)\n",
        "                # Backward pass and optimize\n",
        "                loss.backward()\n",
        "                self.optimizer.step()\n",
        "                # Accumulate the total loss\n",
        "                total_loss += loss.item()\n",
        "\n",
        "            # Print the average loss for this epoch\n",
        "            if use_wandb:\n",
        "                wandb.log({\"train_loss\": total_loss / len(self.train_dataloader)})\n",
        "            self.validate(use_wandb)\n",
        "\n",
        "\n",
        "    def validate(self, use_wandb: bool = False):\n",
        "        self.model.eval()  # Set the model to evaluation mode\n",
        "        total_loss = 0\n",
        "        all_predictions = torch.tensor([], device=self.device)\n",
        "        all_targets = torch.tensor([], device=self.device)\n",
        "        with torch.no_grad():  # Do not calculate gradients\n",
        "            for i, batch in enumerate(self.validation_dataloader):\n",
        "                print_progress_bar(i / len(self.validation_dataloader))\n",
        "                # Get the inputs and targets from the batch\n",
        "                inputs, targets, lens = batch\n",
        "                # Forward pass\n",
        "                outputs = self.model((inputs,lens))\n",
        "                # Compute loss\n",
        "                loss = self.loss_function(outputs, targets)\n",
        "                # Accumulate the total loss\n",
        "                total_loss += loss.item()\n",
        "                # Store predictions and targets\n",
        "                all_predictions = torch.cat((all_predictions, outputs.squeeze().round()))\n",
        "                all_targets = torch.cat((all_targets, targets))\n",
        "\n",
        "        if use_wandb:\n",
        "            validation_loss = total_loss / len(self.validation_dataloader)\n",
        "            precision = precision_score(all_targets, all_predictions)\n",
        "            recall = recall_score(all_targets, all_predictions)\n",
        "            f1 = f1_score(all_targets, all_predictions)\n",
        "            accuracy = accuracy_score(all_targets, all_predictions)\n",
        "\n",
        "            wandb.log({\"validation_loss\": validation_loss,\n",
        "                      \"precision\": precision,\n",
        "                      \"recall\": recall,\n",
        "                      \"f1\": f1,\n",
        "                      \"accuracy\": accuracy})\n",
        "\n",
        "        return validation_loss, precision, recall, f1, accuracy\n",
        "\n",
        "\n"
      ],
      "id": "7f1bfbd3e87da811"
    },
    {
      "metadata": {
        "id": "7b8f80c18c765ff"
      },
      "cell_type": "code",
      "outputs": [],
      "execution_count": 13,
      "source": [
        "\n",
        "\n",
        "class BaselineStratifiedModel(nn.Module):\n",
        "\n",
        "    def __init__(self, len0, len1):\n",
        "        super(BaselineStratifiedModel, self).__init__()\n",
        "        self.p = len0/(len0+len1)\n",
        "\n",
        "    def forward(self, x):\n",
        "        return torch.tensor([0 if np.random.rand() < self.p else 1 for _ in range(x[0].shape[0])])\n",
        "\n",
        "\n",
        "\n",
        "class BaselineSimpleModel(nn.Module):\n",
        "\n",
        "    def __init__(self, input_size, output_size):\n",
        "        super(BaselineSimpleModel, self).__init__()\n",
        "        self.linear = nn.Linear(input_size, output_size)\n",
        "\n",
        "    def forward(self, x):\n",
        "        breakpoint()\n",
        "        seq, lens = x\n",
        "        packed = pack_padded_sequence(seq, lens, batch_first=True, enforce_sorted=False)\n",
        "        data = self.linear(packed.data).squeeze()\n",
        "        data = sigmoid(data)\n",
        "        packed = torch.nn.utils.rnn.PackedSequence(data, packed.batch_sizes, packed.sorted_indices, packed.unsorted_indices)\n",
        "        seq, lens = pad_packed_sequence(packed, batch_first=True)\n",
        "        return torch.tensor([sum(el)/len(el) for el in seq])\n",
        "\n",
        "\n",
        "\n"
      ],
      "id": "7b8f80c18c765ff"
    },
    {
      "cell_type": "code",
      "source": [
        "\n",
        "test_dataset = HaSpeeDe_Dataset(ROOT_PATH + \"/test-news-taskA.jsonl\", use_embeddings=True)\n",
        "test_dataset.print_data_analysis()"
      ],
      "metadata": {
        "colab": {
          "base_uri": "https://localhost:8080/"
        },
        "id": "ZxbpWZKi2hR7",
        "outputId": "30dd4583-346a-4c83-db54-e27663de8d5b"
      },
      "id": "ZxbpWZKi2hR7",
      "execution_count": 15,
      "outputs": [
        {
          "output_type": "stream",
          "name": "stderr",
          "text": [
            "Warning : `load_model` does not return WordVectorModel or SupervisedModel any more, but a `FastText` object which is very similar.\n"
          ]
        }
      ]
    },
    {
      "cell_type": "code",
      "source": [
        "val_data = test_dataset.split(0.5)\n",
        "val_dataset = HaSpeeDe_Dataset(\"\", data=val_data)"
      ],
      "metadata": {
        "id": "hirgWRaEINxI"
      },
      "id": "hirgWRaEINxI",
      "execution_count": 16,
      "outputs": []
    },
    {
      "cell_type": "code",
      "source": [
        "model = BaselineSimpleModel(300,1)\n",
        "\n",
        "train_loader = test_dataset.get_dataloader(64, False)\n",
        "val_loader = val_dataset.get_dataloader(64, False)\n",
        "trainer = Trainer(model,train_loader, val_loader, Adam(model.parameters()), nn.BCELoss(), \"cpu\")"
      ],
      "metadata": {
        "id": "1cg4OOQC3RBX"
      },
      "id": "1cg4OOQC3RBX",
      "execution_count": 17,
      "outputs": []
    },
    {
      "cell_type": "code",
      "source": [
        "\n",
        "model = BaselineStratifiedModel(test_dataset.neutral_count, test_dataset.hateful_count)\n",
        "\n",
        "\n"
      ],
      "metadata": {
        "id": "0xzc6iUfRFpA"
      },
      "id": "0xzc6iUfRFpA",
      "execution_count": null,
      "outputs": []
    },
    {
      "cell_type": "code",
      "source": [
        "\n",
        "trainer.train(2)\n",
        "\n",
        "\n",
        "\n",
        "\n"
      ],
      "metadata": {
        "colab": {
          "base_uri": "https://localhost:8080/"
        },
        "id": "obao2mepklTb",
        "outputId": "9344afab-9787-4b2e-e014-97392166fde7"
      },
      "id": "obao2mepklTb",
      "execution_count": null,
      "outputs": [
        {
          "name": "stdout",
          "output_type": "stream",
          "text": [
            "> \u001b[0;32m<ipython-input-26-69909da844d7>\u001b[0m(34)\u001b[0;36mtrain\u001b[0;34m()\u001b[0m\n",
            "\u001b[0;32m     32 \u001b[0;31m            \u001b[0mtotal_loss\u001b[0m \u001b[0;34m=\u001b[0m \u001b[0;36m0\u001b[0m\u001b[0;34m\u001b[0m\u001b[0;34m\u001b[0m\u001b[0m\n",
            "\u001b[0m\u001b[0;32m     33 \u001b[0;31m            \u001b[0mbreakpoint\u001b[0m\u001b[0;34m(\u001b[0m\u001b[0;34m)\u001b[0m\u001b[0;34m\u001b[0m\u001b[0;34m\u001b[0m\u001b[0m\n",
            "\u001b[0m\u001b[0;32m---> 34 \u001b[0;31m            \u001b[0;32mfor\u001b[0m \u001b[0mi\u001b[0m\u001b[0;34m,\u001b[0m \u001b[0mbatch\u001b[0m \u001b[0;32min\u001b[0m \u001b[0menumerate\u001b[0m\u001b[0;34m(\u001b[0m\u001b[0mself\u001b[0m\u001b[0;34m.\u001b[0m\u001b[0mtrain_dataloader\u001b[0m\u001b[0;34m)\u001b[0m\u001b[0;34m:\u001b[0m\u001b[0;34m\u001b[0m\u001b[0;34m\u001b[0m\u001b[0m\n",
            "\u001b[0m\u001b[0;32m     35 \u001b[0;31m                \u001b[0mprint_progress_bar\u001b[0m\u001b[0;34m(\u001b[0m\u001b[0mi\u001b[0m \u001b[0;34m/\u001b[0m \u001b[0mlen\u001b[0m\u001b[0;34m(\u001b[0m\u001b[0mself\u001b[0m\u001b[0;34m.\u001b[0m\u001b[0mtrain_dataloader\u001b[0m\u001b[0;34m)\u001b[0m\u001b[0;34m)\u001b[0m\u001b[0;34m\u001b[0m\u001b[0;34m\u001b[0m\u001b[0m\n",
            "\u001b[0m\u001b[0;32m     36 \u001b[0;31m                \u001b[0;31m# Get the inputs and targets from the batch\u001b[0m\u001b[0;34m\u001b[0m\u001b[0;34m\u001b[0m\u001b[0m\n",
            "\u001b[0m\n",
            "ipdb> c\n",
            "[>                              ] 0.00% complete> \u001b[0;32m<ipython-input-20-a9920643eb92>\u001b[0m(20)\u001b[0;36mforward\u001b[0;34m()\u001b[0m\n",
            "\u001b[0;32m     18 \u001b[0;31m    \u001b[0;32mdef\u001b[0m \u001b[0mforward\u001b[0m\u001b[0;34m(\u001b[0m\u001b[0mself\u001b[0m\u001b[0;34m,\u001b[0m \u001b[0mx\u001b[0m\u001b[0;34m)\u001b[0m\u001b[0;34m:\u001b[0m\u001b[0;34m\u001b[0m\u001b[0;34m\u001b[0m\u001b[0m\n",
            "\u001b[0m\u001b[0;32m     19 \u001b[0;31m        \u001b[0mbreakpoint\u001b[0m\u001b[0;34m(\u001b[0m\u001b[0;34m)\u001b[0m\u001b[0;34m\u001b[0m\u001b[0;34m\u001b[0m\u001b[0m\n",
            "\u001b[0m\u001b[0;32m---> 20 \u001b[0;31m        \u001b[0mseq\u001b[0m\u001b[0;34m,\u001b[0m \u001b[0mlens\u001b[0m \u001b[0;34m=\u001b[0m \u001b[0mx\u001b[0m\u001b[0;34m\u001b[0m\u001b[0;34m\u001b[0m\u001b[0m\n",
            "\u001b[0m\u001b[0;32m     21 \u001b[0;31m        \u001b[0mpacked\u001b[0m \u001b[0;34m=\u001b[0m \u001b[0mpack_padded_sequence\u001b[0m\u001b[0;34m(\u001b[0m\u001b[0mseq\u001b[0m\u001b[0;34m,\u001b[0m \u001b[0mlens\u001b[0m\u001b[0;34m,\u001b[0m \u001b[0mbatch_first\u001b[0m\u001b[0;34m=\u001b[0m\u001b[0;32mTrue\u001b[0m\u001b[0;34m,\u001b[0m \u001b[0menforce_sorted\u001b[0m\u001b[0;34m=\u001b[0m\u001b[0;32mFalse\u001b[0m\u001b[0;34m)\u001b[0m\u001b[0;34m\u001b[0m\u001b[0;34m\u001b[0m\u001b[0m\n",
            "\u001b[0m\u001b[0;32m     22 \u001b[0;31m        \u001b[0mdata\u001b[0m \u001b[0;34m=\u001b[0m \u001b[0mself\u001b[0m\u001b[0;34m.\u001b[0m\u001b[0mlinear\u001b[0m\u001b[0;34m(\u001b[0m\u001b[0mpacked\u001b[0m\u001b[0;34m.\u001b[0m\u001b[0mdata\u001b[0m\u001b[0;34m)\u001b[0m\u001b[0;34m.\u001b[0m\u001b[0msqueeze\u001b[0m\u001b[0;34m(\u001b[0m\u001b[0;34m)\u001b[0m\u001b[0;34m\u001b[0m\u001b[0;34m\u001b[0m\u001b[0m\n",
            "\u001b[0m\n",
            "ipdb> c\n",
            "> \u001b[0;32m<ipython-input-26-69909da844d7>\u001b[0m(44)\u001b[0;36mtrain\u001b[0;34m()\u001b[0m\n",
            "\u001b[0;32m     42 \u001b[0;31m                \u001b[0mbreakpoint\u001b[0m\u001b[0;34m(\u001b[0m\u001b[0;34m)\u001b[0m\u001b[0;34m\u001b[0m\u001b[0;34m\u001b[0m\u001b[0m\n",
            "\u001b[0m\u001b[0;32m     43 \u001b[0;31m                \u001b[0;31m# Compute loss\u001b[0m\u001b[0;34m\u001b[0m\u001b[0;34m\u001b[0m\u001b[0m\n",
            "\u001b[0m\u001b[0;32m---> 44 \u001b[0;31m                \u001b[0mloss\u001b[0m \u001b[0;34m=\u001b[0m \u001b[0mself\u001b[0m\u001b[0;34m.\u001b[0m\u001b[0mloss_function\u001b[0m\u001b[0;34m(\u001b[0m\u001b[0moutputs\u001b[0m\u001b[0;34m,\u001b[0m \u001b[0mtargets\u001b[0m\u001b[0;34m)\u001b[0m\u001b[0;34m\u001b[0m\u001b[0;34m\u001b[0m\u001b[0m\n",
            "\u001b[0m\u001b[0;32m     45 \u001b[0;31m                \u001b[0;31m# Backward pass and optimize\u001b[0m\u001b[0;34m\u001b[0m\u001b[0;34m\u001b[0m\u001b[0m\n",
            "\u001b[0m\u001b[0;32m     46 \u001b[0;31m                \u001b[0mloss\u001b[0m\u001b[0;34m.\u001b[0m\u001b[0mbackward\u001b[0m\u001b[0;34m(\u001b[0m\u001b[0;34m)\u001b[0m\u001b[0;34m\u001b[0m\u001b[0;34m\u001b[0m\u001b[0m\n",
            "\u001b[0m\n",
            "ipdb> outputs.shape\n",
            "torch.Size([64])\n",
            "ipdb> targets.shape\n",
            "torch.Size([64])\n",
            "ipdb> outputs.dtype\n",
            "torch.float32\n",
            "ipdb> targets.dtype\n",
            "torch.int64\n",
            "ipdb> q\n"
          ]
        }
      ]
    }
  ],
  "metadata": {
    "kernelspec": {
      "display_name": "Python 3",
      "language": "python",
      "name": "python3"
    },
    "language_info": {
      "codemirror_mode": {
        "name": "ipython",
        "version": 2
      },
      "file_extension": ".py",
      "mimetype": "text/x-python",
      "name": "python",
      "nbconvert_exporter": "python",
      "pygments_lexer": "ipython2",
      "version": "2.7.6"
    },
    "colab": {
      "provenance": []
    }
  },
  "nbformat": 4,
  "nbformat_minor": 5
}