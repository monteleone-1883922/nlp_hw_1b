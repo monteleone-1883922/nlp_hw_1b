{
 "cells": [
  {
   "cell_type": "code",
   "execution_count": 2,
   "id": "initial_id",
   "metadata": {
    "collapsed": true,
    "id": "initial_id",
    "colab": {
     "base_uri": "https://localhost:8080/"
    },
    "outputId": "f8047480-55db-4b75-ed53-bfbca8ffc28d"
   },
   "outputs": [
    {
     "output_type": "stream",
     "name": "stdout",
     "text": [
      "Collecting wandb\n",
      "  Downloading wandb-0.16.6-py3-none-any.whl (2.2 MB)\n",
      "\u001B[2K     \u001B[90m━━━━━━━━━━━━━━━━━━━━━━━━━━━━━━━━━━━━━━━━\u001B[0m \u001B[32m2.2/2.2 MB\u001B[0m \u001B[31m5.4 MB/s\u001B[0m eta \u001B[36m0:00:00\u001B[0m\n",
      "\u001B[?25hCollecting fasttext\n",
      "  Downloading fasttext-0.9.2.tar.gz (68 kB)\n",
      "\u001B[2K     \u001B[90m━━━━━━━━━━━━━━━━━━━━━━━━━━━━━━━━━━━━━━━━\u001B[0m \u001B[32m68.8/68.8 kB\u001B[0m \u001B[31m3.3 MB/s\u001B[0m eta \u001B[36m0:00:00\u001B[0m\n",
      "\u001B[?25h  Preparing metadata (setup.py) ... \u001B[?25l\u001B[?25hdone\n",
      "Requirement already satisfied: plotly in /usr/local/lib/python3.10/dist-packages (5.15.0)\n",
      "Requirement already satisfied: Click!=8.0.0,>=7.1 in /usr/local/lib/python3.10/dist-packages (from wandb) (8.1.7)\n",
      "Collecting GitPython!=3.1.29,>=1.0.0 (from wandb)\n",
      "  Downloading GitPython-3.1.43-py3-none-any.whl (207 kB)\n",
      "\u001B[2K     \u001B[90m━━━━━━━━━━━━━━━━━━━━━━━━━━━━━━━━━━━━━━━━\u001B[0m \u001B[32m207.3/207.3 kB\u001B[0m \u001B[31m8.0 MB/s\u001B[0m eta \u001B[36m0:00:00\u001B[0m\n",
      "\u001B[?25hRequirement already satisfied: requests<3,>=2.0.0 in /usr/local/lib/python3.10/dist-packages (from wandb) (2.31.0)\n",
      "Requirement already satisfied: psutil>=5.0.0 in /usr/local/lib/python3.10/dist-packages (from wandb) (5.9.5)\n",
      "Collecting sentry-sdk>=1.0.0 (from wandb)\n",
      "  Downloading sentry_sdk-1.45.0-py2.py3-none-any.whl (267 kB)\n",
      "\u001B[2K     \u001B[90m━━━━━━━━━━━━━━━━━━━━━━━━━━━━━━━━━━━━━━━━\u001B[0m \u001B[32m267.1/267.1 kB\u001B[0m \u001B[31m13.7 MB/s\u001B[0m eta \u001B[36m0:00:00\u001B[0m\n",
      "\u001B[?25hCollecting docker-pycreds>=0.4.0 (from wandb)\n",
      "  Downloading docker_pycreds-0.4.0-py2.py3-none-any.whl (9.0 kB)\n",
      "Requirement already satisfied: PyYAML in /usr/local/lib/python3.10/dist-packages (from wandb) (6.0.1)\n",
      "Collecting setproctitle (from wandb)\n",
      "  Downloading setproctitle-1.3.3-cp310-cp310-manylinux_2_5_x86_64.manylinux1_x86_64.manylinux_2_17_x86_64.manylinux2014_x86_64.whl (30 kB)\n",
      "Requirement already satisfied: setuptools in /usr/local/lib/python3.10/dist-packages (from wandb) (67.7.2)\n",
      "Requirement already satisfied: appdirs>=1.4.3 in /usr/local/lib/python3.10/dist-packages (from wandb) (1.4.4)\n",
      "Requirement already satisfied: protobuf!=4.21.0,<5,>=3.19.0 in /usr/local/lib/python3.10/dist-packages (from wandb) (3.20.3)\n",
      "Collecting pybind11>=2.2 (from fasttext)\n",
      "  Using cached pybind11-2.12.0-py3-none-any.whl (234 kB)\n",
      "Requirement already satisfied: numpy in /usr/local/lib/python3.10/dist-packages (from fasttext) (1.25.2)\n",
      "Requirement already satisfied: tenacity>=6.2.0 in /usr/local/lib/python3.10/dist-packages (from plotly) (8.2.3)\n",
      "Requirement already satisfied: packaging in /usr/local/lib/python3.10/dist-packages (from plotly) (24.0)\n",
      "Requirement already satisfied: six>=1.4.0 in /usr/local/lib/python3.10/dist-packages (from docker-pycreds>=0.4.0->wandb) (1.16.0)\n",
      "Collecting gitdb<5,>=4.0.1 (from GitPython!=3.1.29,>=1.0.0->wandb)\n",
      "  Downloading gitdb-4.0.11-py3-none-any.whl (62 kB)\n",
      "\u001B[2K     \u001B[90m━━━━━━━━━━━━━━━━━━━━━━━━━━━━━━━━━━━━━━━━\u001B[0m \u001B[32m62.7/62.7 kB\u001B[0m \u001B[31m5.6 MB/s\u001B[0m eta \u001B[36m0:00:00\u001B[0m\n",
      "\u001B[?25hRequirement already satisfied: charset-normalizer<4,>=2 in /usr/local/lib/python3.10/dist-packages (from requests<3,>=2.0.0->wandb) (3.3.2)\n",
      "Requirement already satisfied: idna<4,>=2.5 in /usr/local/lib/python3.10/dist-packages (from requests<3,>=2.0.0->wandb) (3.7)\n",
      "Requirement already satisfied: urllib3<3,>=1.21.1 in /usr/local/lib/python3.10/dist-packages (from requests<3,>=2.0.0->wandb) (2.0.7)\n",
      "Requirement already satisfied: certifi>=2017.4.17 in /usr/local/lib/python3.10/dist-packages (from requests<3,>=2.0.0->wandb) (2024.2.2)\n",
      "Collecting smmap<6,>=3.0.1 (from gitdb<5,>=4.0.1->GitPython!=3.1.29,>=1.0.0->wandb)\n",
      "  Downloading smmap-5.0.1-py3-none-any.whl (24 kB)\n",
      "Building wheels for collected packages: fasttext\n",
      "  Building wheel for fasttext (setup.py) ... \u001B[?25l\u001B[?25hdone\n",
      "  Created wheel for fasttext: filename=fasttext-0.9.2-cp310-cp310-linux_x86_64.whl size=4227139 sha256=67f06e50cc967bbd3d0861c7b804c34ed0825c875458adb0a55c878f5a74dd0d\n",
      "  Stored in directory: /root/.cache/pip/wheels/a5/13/75/f811c84a8ab36eedbaef977a6a58a98990e8e0f1967f98f394\n",
      "Successfully built fasttext\n",
      "Installing collected packages: smmap, setproctitle, sentry-sdk, pybind11, docker-pycreds, gitdb, fasttext, GitPython, wandb\n",
      "Successfully installed GitPython-3.1.43 docker-pycreds-0.4.0 fasttext-0.9.2 gitdb-4.0.11 pybind11-2.12.0 sentry-sdk-1.45.0 setproctitle-1.3.3 smmap-5.0.1 wandb-0.16.6\n"
     ]
    }
   ],
   "source": [
    "!pip install wandb fasttext plotly"
   ]
  },
  {
   "cell_type": "code",
   "source": [
    "from google.colab import drive\n",
    "drive.mount('/content/drive')"
   ],
   "metadata": {
    "id": "wNSux8-tDrJM",
    "outputId": "7f1b3308-cf71-4bce-b50a-38ff7ae82ae0",
    "colab": {
     "base_uri": "https://localhost:8080/"
    }
   },
   "id": "wNSux8-tDrJM",
   "execution_count": 3,
   "outputs": [
    {
     "output_type": "stream",
     "name": "stdout",
     "text": [
      "Mounted at /content/drive\n"
     ]
    }
   ]
  },
  {
   "cell_type": "code",
   "source": [
    "import json\n",
    "import numpy as np\n",
    "from sklearn.metrics import confusion_matrix, precision_score, recall_score, f1_score, accuracy_score\n",
    "import torch\n",
    "from torch.utils.data import Dataset, DataLoader\n",
    "from torch import nn\n",
    "import fasttext.util\n",
    "import plotly.express as px\n",
    "import sys\n",
    "import wandb\n",
    "from torch.nn.utils.rnn import pad_sequence, pack_padded_sequence, pad_packed_sequence\n",
    "from torch.nn.functional import sigmoid\n",
    "import pdb\n",
    "from torch.optim import Adam\n",
    "import random as rnd\n",
    "import nltk\n",
    "nltk.download('punkt')\n"
   ],
   "metadata": {
    "id": "IMGr7gQSGWQn",
    "colab": {
     "base_uri": "https://localhost:8080/"
    },
    "outputId": "f9631bbd-9e38-44e0-948a-78332343f3a8"
   },
   "id": "IMGr7gQSGWQn",
   "execution_count": 4,
   "outputs": [
    {
     "output_type": "stream",
     "name": "stderr",
     "text": [
      "[nltk_data] Downloading package punkt to /root/nltk_data...\n",
      "[nltk_data]   Unzipping tokenizers/punkt.zip.\n"
     ]
    },
    {
     "output_type": "execute_result",
     "data": {
      "text/plain": [
       "True"
      ]
     },
     "metadata": {},
     "execution_count": 4
    }
   ]
  },
  {
   "cell_type": "code",
   "source": [
    "def set_seed(seed):\n",
    "    np.random.seed(seed)\n",
    "    rnd.seed(seed)\n",
    "    torch.manual_seed(seed)\n",
    "    torch.cuda.manual_seed_all(seed)  # Se stai usando GPU\n",
    "\n",
    "# Imposta il seed per avere riproducibilità\n",
    "seed = 42\n",
    "set_seed(seed)"
   ],
   "metadata": {
    "id": "ROsYLnyS_0YJ"
   },
   "id": "ROsYLnyS_0YJ",
   "execution_count": 5,
   "outputs": []
  },
  {
   "cell_type": "code",
   "source": [
    "# \"neutrale\", \"odio\" aaf831dabc88d936d4e6b439b798bb4cb42814ea\n",
    "\n",
    "ROOT_PATH = \"/content/drive/MyDrive/uni/nlp/nlp2024-hw1-b\"\n",
    "\n"
   ],
   "metadata": {
    "id": "2qvDmn3hEWX7"
   },
   "id": "2qvDmn3hEWX7",
   "execution_count": 6,
   "outputs": []
  },
  {
   "metadata": {
    "id": "b7edc7de2e121aa0",
    "colab": {
     "base_uri": "https://localhost:8080/"
    },
    "outputId": "14aa2a97-a533-4a99-a91b-35d9996eb8c4"
   },
   "cell_type": "code",
   "outputs": [
    {
     "output_type": "stream",
     "name": "stderr",
     "text": [
      "\u001B[34m\u001B[1mwandb\u001B[0m: W&B API key is configured. Use \u001B[1m`wandb login --relogin`\u001B[0m to force relogin\n",
      "\u001B[34m\u001B[1mwandb\u001B[0m: \u001B[33mWARNING\u001B[0m If you're specifying your api key in code, ensure this code is not shared publicly.\n",
      "\u001B[34m\u001B[1mwandb\u001B[0m: \u001B[33mWARNING\u001B[0m Consider setting the WANDB_API_KEY environment variable, or running `wandb login` from the command line.\n",
      "\u001B[34m\u001B[1mwandb\u001B[0m: Appending key for api.wandb.ai to your netrc file: /root/.netrc\n"
     ]
    },
    {
     "output_type": "execute_result",
     "data": {
      "text/plain": [
       "True"
      ]
     },
     "metadata": {},
     "execution_count": 7
    }
   ],
   "execution_count": 7,
   "source": [
    "wandb.login(key='aaf831dabc88d936d4e6b439b798bb4cb42814ea')"
   ],
   "id": "b7edc7de2e121aa0"
  },
  {
   "cell_type": "code",
   "source": [
    "\n",
    "\n",
    "class HaSpeeDe_Dataset(Dataset):\n",
    "\n",
    "\n",
    "    def __init__(self, data_path: str, data: list[tuple[list, int]]=None, use_embeddings: bool=False, stopwords_file_path: str=\"\", device=\"cpu\") -> None:\n",
    "        self.device = device\n",
    "        if data is not None:\n",
    "            self.data = data\n",
    "        else:\n",
    "            stopwords = []\n",
    "            if stopwords_file_path != \"\":\n",
    "                with open(stopwords_file_path, 'r', encoding=\"UTF8\") as f:\n",
    "                    stopwords = f.readlines() #controllare carattere di andare a capo\n",
    "            if use_embeddings:\n",
    "                fasttext.util.download_model('it', if_exists='ignore')\n",
    "                embeddings = fasttext.load_model('cc.it.300.bin')\n",
    "            self.data = []\n",
    "            with open(data_path, 'r', encoding=\"UTF8\") as f:\n",
    "                for line in f:\n",
    "                    item = json.loads(line)\n",
    "                    sentence = nltk.word_tokenize(item['text'], language='italian')\n",
    "                    filtered_sentence = []\n",
    "                    i=0\n",
    "                    while i < len(sentence):\n",
    "                        word = sentence[i]\n",
    "                        if (word == \"#\" or word == \"@\") and i+1 < len(sentence):\n",
    "                            word = word + sentence[i+1]\n",
    "                            i+=1\n",
    "                        if stopwords_file_path == \"\" or word not in stopwords:\n",
    "                            filtered_sentence.append(word)\n",
    "                        i+=1\n",
    "                    if use_embeddings:\n",
    "                        embedded_sentence = []\n",
    "                        for word in sentence:\n",
    "                            embedded_sentence.append(embeddings.get_word_vector(word))\n",
    "                        sentence = embedded_sentence\n",
    "                    self.data.append((sentence, item['label']))\n",
    "\n",
    "    def __len__(self) -> int:\n",
    "        return len(self.data)\n",
    "\n",
    "    def __getitem__(self, idx: int) -> tuple[list, int]:\n",
    "        return self.data[idx]\n",
    "\n",
    "    def split(self, prc: float) -> list[tuple[list, int]]:\n",
    "        validation_size = int(prc * len(self.data))\n",
    "        train_size = len(self.data) - validation_size\n",
    "        validation_data, self.data = torch.utils.data.random_split(self.data, [validation_size, train_size])\n",
    "        return validation_data\n",
    "\n",
    "\n",
    "    def collate(self, batch: list[tuple[list, int]]) -> tuple[torch.Tensor, torch.Tensor, torch.Tensor]:\n",
    "        texts, labels = zip(*batch)\n",
    "        lens = [len(text) for text in texts]\n",
    "        texts = pad_sequence([torch.tensor(text) for text in texts], batch_first=True)\n",
    "        return texts.to(self.device), torch.tensor(labels, dtype=torch.float).to(self.device), torch.tensor(lens).to(self.device)\n",
    "\n",
    "    def get_dataloader(self, batch_size: int, shuffle: bool) -> DataLoader:\n",
    "        return DataLoader(self, batch_size=batch_size, shuffle=shuffle, collate_fn=self.collate)\n",
    "\n",
    "\n",
    "    def print_data_analysis(self):\n",
    "        y= [0,0]\n",
    "        for el in self.data:\n",
    "            if el[1] == 1:\n",
    "                y[1] += 1\n",
    "            else:\n",
    "                y[0] += 1\n",
    "        self.neutral_count = y[0]\n",
    "        self.hateful_count = y[1]\n",
    "        fig = px.bar(x=[\"neutrale\", \"odio\"], y=y)\n",
    "        fig.show()\n",
    "\n",
    "\n",
    "\n",
    "\n"
   ],
   "metadata": {
    "id": "h7bb8_RtGcHn"
   },
   "id": "h7bb8_RtGcHn",
   "execution_count": 8,
   "outputs": []
  },
  {
   "metadata": {
    "id": "cdbbe622d4a727bc"
   },
   "cell_type": "code",
   "outputs": [],
   "execution_count": 9,
   "source": [
    "# Function to print a progress bar\n",
    "def print_progress_bar(percentuale: float, lunghezza_barra: int = 30, text: str=\"\") -> None:\n",
    "    blocchi_compilati = int(lunghezza_barra * percentuale)\n",
    "    barra = \"[\" + \"=\" * (blocchi_compilati - 1) + \">\" + \" \" * (lunghezza_barra - blocchi_compilati) + \"]\"\n",
    "    sys.stdout.write(f\"\\r{barra} {percentuale * 100:.2f}% complete \" + text)\n",
    "    sys.stdout.flush()"
   ],
   "id": "cdbbe622d4a727bc"
  },
  {
   "metadata": {
    "id": "7f1bfbd3e87da811"
   },
   "cell_type": "code",
   "outputs": [],
   "execution_count": 10,
   "source": [
    "\n",
    "\n",
    "class Trainer():\n",
    "\n",
    "    def __init__(self, model,train_dataloader, validation_dataloader, optimizer, loss_function, device, test_dataloader=None):\n",
    "        self.model = model.to(device)\n",
    "        self.train_dataloader = train_dataloader\n",
    "        self.validation_dataloader = validation_dataloader\n",
    "        self.optimizer = optimizer\n",
    "        self.loss_function = loss_function\n",
    "        self.device = device\n",
    "        self.test_dataloader = test_dataloader\n",
    "\n",
    "\n",
    "    @staticmethod\n",
    "    def evaluation_parameters(y_true, y_pred):\n",
    "        cm = confusion_matrix(y_true, y_pred).ravel()\n",
    "        precision = precision_score(y_true, y_pred)\n",
    "        recall = recall_score(y_true, y_pred)\n",
    "        f1 = f1_score(y_true, y_pred)\n",
    "        accuracy = accuracy_score(y_true, y_pred)\n",
    "        return cm, precision, recall, f1, accuracy\n",
    "\n",
    "\n",
    "    def train(self, epochs: int, use_wandb: bool = False, config: dict = {}, name: str=\"\"):\n",
    "        if use_wandb:\n",
    "            wandb.init(\n",
    "                # Set the project where this run will be logged\n",
    "                project=\"nlp-hw-1b\",\n",
    "                name=name,\n",
    "                # Track hyperparameters and run metadata\n",
    "                config=config\n",
    "            )\n",
    "        for epoch in range(epochs):\n",
    "            self.model.train()  # Set the model to training mode\n",
    "            total_loss = 0\n",
    "            #breakpoint()\n",
    "            for i, batch in enumerate(self.train_dataloader):\n",
    "                print_progress_bar(i / len(self.train_dataloader), text=f\"| training epoch {epoch}\")\n",
    "                # Get the inputs and targets from the batch\n",
    "                inputs, targets, lens = batch\n",
    "                # Zero the gradients\n",
    "                self.optimizer.zero_grad()\n",
    "                # Forward pass\n",
    "                outputs = self.model((inputs, lens))\n",
    "                #breakpoint()\n",
    "                # Compute loss\n",
    "                loss = self.loss_function(outputs, targets)\n",
    "                # Backward pass and optimize\n",
    "                loss.backward()\n",
    "                self.optimizer.step()\n",
    "                # Accumulate the total loss\n",
    "                total_loss += loss.item()\n",
    "\n",
    "            # Print the average loss for this epoch\n",
    "            validation_loss, precision, recall, f1, accuracy = self.validate(use_wandb)\n",
    "            if use_wandb:\n",
    "                wandb.log({\"validation_loss\": validation_loss,\n",
    "                      \"precision\": precision,\n",
    "                      \"recall\": recall,\n",
    "                      \"f1\": f1,\n",
    "                      \"accuracy\": accuracy,\n",
    "                      \"train_loss\": total_loss / len(self.train_dataloader)})\n",
    "\n",
    "        if use_wandb:\n",
    "            wandb.finish()\n",
    "\n",
    "\n",
    "\n",
    "    def validate(self, use_wandb: bool = False, test=False):\n",
    "        dataloader = self.test_dataloader if test else self.validation_dataloader\n",
    "        if dataloader is None:\n",
    "            print(\"empty dataloader!\")\n",
    "            exit(1)\n",
    "        self.model.eval()  # Set the model to evaluation mode\n",
    "        total_loss = 0\n",
    "        all_predictions = torch.tensor([], device=self.device)\n",
    "        all_targets = torch.tensor([], device=self.device)\n",
    "        with torch.no_grad():  # Do not calculate gradients\n",
    "            for i, batch in enumerate(self.validation_dataloader):\n",
    "                print_progress_bar(i / len(dataloader), text=\"| validation\")\n",
    "                # Get the inputs and targets from the batch\n",
    "                inputs, targets, lens = batch\n",
    "                # Forward pass\n",
    "                outputs = self.model((inputs,lens))\n",
    "                # Compute loss\n",
    "                loss = self.loss_function(outputs, targets)\n",
    "                # Accumulate the total loss\n",
    "                total_loss += loss.item()\n",
    "                # Store predictions and targets\n",
    "                all_predictions = torch.cat((all_predictions, outputs.squeeze().round()))\n",
    "                all_targets = torch.cat((all_targets, targets))\n",
    "        validation_loss = total_loss / len(self.validation_dataloader)\n",
    "        precision = precision_score(all_targets, all_predictions)\n",
    "        recall = recall_score(all_targets, all_predictions)\n",
    "        f1 = f1_score(all_targets, all_predictions)\n",
    "        accuracy = accuracy_score(all_targets, all_predictions)\n",
    "        return validation_loss, precision, recall, f1, accuracy\n",
    "\n",
    "\n"
   ],
   "id": "7f1bfbd3e87da811"
  },
  {
   "metadata": {
    "id": "7b8f80c18c765ff"
   },
   "cell_type": "code",
   "outputs": [],
   "execution_count": null,
   "source": [
    "\n",
    "\n",
    "class BaselineStratifiedModel(nn.Module):\n",
    "\n",
    "    def __init__(self, len0, len1):\n",
    "        super(BaselineStratifiedModel, self).__init__()\n",
    "        self.p = len0/(len0+len1)\n",
    "\n",
    "    def forward(self, x):\n",
    "        return torch.tensor([0 if np.random.rand() < self.p else 1 for _ in range(x[0].shape[0])], dtype=torch.float)\n",
    "\n",
    "\n",
    "\n",
    "class BaselineSimpleModel(nn.Module):\n",
    "\n",
    "    def __init__(self, input_size, output_size):\n",
    "        super(BaselineSimpleModel, self).__init__()\n",
    "        self.linear = nn.Linear(input_size, output_size)\n",
    "        # for param in self.linear.parameters():\n",
    "        #     param.requires_grad = True\n",
    "\n",
    "    def forward(self, x):\n",
    "        #breakpoint()\n",
    "        seq, lens = x\n",
    "        packed = pack_padded_sequence(seq, lens, batch_first=True, enforce_sorted=False)\n",
    "        data = self.linear(packed.data).squeeze()\n",
    "        data = sigmoid(data)\n",
    "        packed = torch.nn.utils.rnn.PackedSequence(data, packed.batch_sizes, packed.sorted_indices, packed.unsorted_indices)\n",
    "        seq, lens = pad_packed_sequence(packed, batch_first=True)\n",
    "        seq_mean = seq.sum(dim=1) / lens.float() #torch.tensor([sum(el)/len(el) for el in seq])\n",
    "        #breakpoint()\n",
    "        return seq_mean\n",
    "\n",
    "\n",
    "\n"
   ],
   "id": "7b8f80c18c765ff"
  },
  {
   "metadata": {
    "id": "b812033cd8b586bf"
   },
   "cell_type": "code",
   "outputs": [],
   "execution_count": 11,
   "source": [
    "\n",
    "class ClassifierModule(nn.Module):\n",
    "    def __init__(self,sizes, dropout=0):\n",
    "        super(ClassifierModule,self).__init__()\n",
    "        sequence = []\n",
    "        for i in range(len(sizes)-1):\n",
    "            sequence += [nn.Linear(sizes[i],sizes[i+1]), nn.ReLU(), nn.Dropout(dropout)]\n",
    "        self.classifier = nn.Sequential(*sequence)\n",
    "\n",
    "\n",
    "    def forward(self,inputs):\n",
    "        return self.classifier(inputs)\n",
    "\n",
    "\n",
    "\n"
   ],
   "id": "b812033cd8b586bf"
  },
  {
   "metadata": {
    "id": "c21cab974cff8cac"
   },
   "cell_type": "code",
   "outputs": [],
   "execution_count": 12,
   "source": [
    "\n",
    "class HateDetectionModule(nn.Module):\n",
    "\n",
    "    def __init__(self,classifier, input_size, hidden_size, dropout=0):\n",
    "        super(HateDetectionModule,self).__init__()\n",
    "        self.classifier = classifier\n",
    "        self.lstm = nn.LSTM(input_size, hidden_size, batch_first=True, dropout=dropout, bidirectional=True)\n",
    "        self.sigmoid = nn.Sigmoid()\n",
    "\n",
    "\n",
    "    def forward(self,x):\n",
    "\n",
    "        input,lengths = x\n",
    "\n",
    "        padded = pack_padded_sequence(input,lengths, batch_first=True,enforce_sorted=False)\n",
    "\n",
    "        o, (h, c) = self.lstm(padded)\n",
    "\n",
    "        out = pad_packed_sequence(o,batch_first=True)[0]\n",
    "\n",
    "        output = self.classifier(out)\n",
    "        return  self.sigmoid(output)\n",
    "\n",
    "\n"
   ],
   "id": "c21cab974cff8cac"
  },
  {
   "cell_type": "code",
   "source": [
    "\n",
    "train_dataset = HaSpeeDe_Dataset(ROOT_PATH + \"/train-taskA.jsonl\", use_embeddings=True)\n",
    "train_dataset.print_data_analysis()"
   ],
   "metadata": {
    "colab": {
     "base_uri": "https://localhost:8080/"
    },
    "id": "ZxbpWZKi2hR7",
    "outputId": "98769418-854e-44a5-baad-65c2a003c7e2"
   },
   "id": "ZxbpWZKi2hR7",
   "execution_count": 12,
   "outputs": [
    {
     "output_type": "stream",
     "name": "stdout",
     "text": [
      "Downloading https://dl.fbaipublicfiles.com/fasttext/vectors-crawl/cc.it.300.bin.gz\n"
     ]
    }
   ]
  },
  {
   "cell_type": "code",
   "source": [
    "val_data = train_dataset.split(0.2)\n",
    "val_dataset = HaSpeeDe_Dataset(\"\", data=val_data)\n",
    "train_loader = train_dataset.get_dataloader(64, True)\n",
    "val_loader = val_dataset.get_dataloader(64, True)\n",
    "test_dataset = HaSpeeDe_Dataset(ROOT_PATH + \"/test-news-taskA.jsonl\", use_embeddings=True) #/test-tweets-taskA.jsonl\n",
    "test_loader = test_dataset.get_dataloader(64, True)"
   ],
   "metadata": {
    "id": "hirgWRaEINxI"
   },
   "id": "hirgWRaEINxI",
   "execution_count": null,
   "outputs": []
  },
  {
   "cell_type": "code",
   "source": [
    "model = BaselineSimpleModel(300,1)\n",
    "\n",
    "\n",
    "trainer = Trainer(model,train_loader, val_loader, Adam(model.parameters(), lr=2e-1, weight_decay=1e-4), nn.BCELoss(), \"cpu\",test_dataloader=test_loader)"
   ],
   "metadata": {
    "id": "1cg4OOQC3RBX"
   },
   "id": "1cg4OOQC3RBX",
   "execution_count": null,
   "outputs": []
  },
  {
   "cell_type": "code",
   "source": [
    "\n",
    "classifier = ClassifierModule([2048, 1024, 1])\n",
    "hate_detector = HateDetectionModule(classifier, 300, 1024)\n",
    "\n",
    "\n",
    "hate_trainer = Trainer(hate_detector,train_loader, val_loader, Adam(model.parameters()), nn.BCELoss(), \"cuda\",test_dataloader=test_loader)"
   ],
   "metadata": {
    "id": "oQdFIdGc2lwd"
   },
   "id": "oQdFIdGc2lwd",
   "execution_count": null,
   "outputs": []
  },
  {
   "cell_type": "code",
   "source": [
    "\n",
    "baseline_model = BaselineStratifiedModel(train_dataset.neutral_count, train_dataset.hateful_count)\n",
    "\n",
    "\n",
    "trainer_baseline = Trainer(baseline_model,train_loader, val_loader, Adam(model.parameters()), nn.BCELoss(), \"cpu\",test_dataloader=test_loader)\n",
    "\n",
    "\n"
   ],
   "metadata": {
    "id": "0xzc6iUfRFpA"
   },
   "id": "0xzc6iUfRFpA",
   "execution_count": null,
   "outputs": []
  },
  {
   "cell_type": "code",
   "source": [
    "\n",
    "validation_loss, precision, recall, f1, accuracy = trainer_baseline.validate()\n",
    "\n"
   ],
   "metadata": {
    "colab": {
     "base_uri": "https://localhost:8080/"
    },
    "id": "obao2mepklTb",
    "outputId": "22793b58-1155-4804-ade6-ac3d053f6b24"
   },
   "id": "obao2mepklTb",
   "execution_count": null,
   "outputs": [
    {
     "output_type": "stream",
     "name": "stdout",
     "text": [
      "[===========================>  ] 95.45% complete"
     ]
    }
   ]
  },
  {
   "cell_type": "code",
   "source": [
    "\n",
    "\n",
    "trainer.train(30, use_wandb=True , name=\"simple-baseline-lr0.2\")\n"
   ],
   "metadata": {
    "colab": {
     "base_uri": "https://localhost:8080/",
     "height": 391
    },
    "id": "xAaIsmS0dRgH",
    "outputId": "f8ce9f0c-f07d-4e69-c017-56f21e8d9ff8"
   },
   "id": "xAaIsmS0dRgH",
   "execution_count": null,
   "outputs": [
    {
     "output_type": "display_data",
     "data": {
      "text/plain": [
       "<IPython.core.display.HTML object>"
      ],
      "text/html": [
       "Tracking run with wandb version 0.16.6"
      ]
     },
     "metadata": {}
    },
    {
     "output_type": "display_data",
     "data": {
      "text/plain": [
       "<IPython.core.display.HTML object>"
      ],
      "text/html": [
       "Run data is saved locally in <code>/content/wandb/run-20240417_220320-ptrgxffm</code>"
      ]
     },
     "metadata": {}
    },
    {
     "output_type": "display_data",
     "data": {
      "text/plain": [
       "<IPython.core.display.HTML object>"
      ],
      "text/html": [
       "Syncing run <strong><a href='https://wandb.ai/monteleone/nlp-hw-1b/runs/ptrgxffm' target=\"_blank\">simple-baseline-lr0.2</a></strong> to <a href='https://wandb.ai/monteleone/nlp-hw-1b' target=\"_blank\">Weights & Biases</a> (<a href='https://wandb.me/run' target=\"_blank\">docs</a>)<br/>"
      ]
     },
     "metadata": {}
    },
    {
     "output_type": "display_data",
     "data": {
      "text/plain": [
       "<IPython.core.display.HTML object>"
      ],
      "text/html": [
       " View project at <a href='https://wandb.ai/monteleone/nlp-hw-1b' target=\"_blank\">https://wandb.ai/monteleone/nlp-hw-1b</a>"
      ]
     },
     "metadata": {}
    },
    {
     "output_type": "display_data",
     "data": {
      "text/plain": [
       "<IPython.core.display.HTML object>"
      ],
      "text/html": [
       " View run at <a href='https://wandb.ai/monteleone/nlp-hw-1b/runs/ptrgxffm' target=\"_blank\">https://wandb.ai/monteleone/nlp-hw-1b/runs/ptrgxffm</a>"
      ]
     },
     "metadata": {}
    },
    {
     "output_type": "stream",
     "name": "stdout",
     "text": [
      "[==========================>   ] 90.70% complete | training epoch 9"
     ]
    },
    {
     "output_type": "error",
     "ename": "KeyboardInterrupt",
     "evalue": "",
     "traceback": [
      "\u001B[0;31m---------------------------------------------------------------------------\u001B[0m",
      "\u001B[0;31mKeyboardInterrupt\u001B[0m                         Traceback (most recent call last)",
      "\u001B[0;32m<ipython-input-31-576cff4f3807>\u001B[0m in \u001B[0;36m<cell line: 1>\u001B[0;34m()\u001B[0m\n\u001B[0;32m----> 1\u001B[0;31m \u001B[0mtrainer\u001B[0m\u001B[0;34m.\u001B[0m\u001B[0mtrain\u001B[0m\u001B[0;34m(\u001B[0m\u001B[0;36m30\u001B[0m\u001B[0;34m,\u001B[0m \u001B[0muse_wandb\u001B[0m\u001B[0;34m=\u001B[0m\u001B[0;32mTrue\u001B[0m \u001B[0;34m,\u001B[0m \u001B[0mname\u001B[0m\u001B[0;34m=\u001B[0m\u001B[0;34m\"simple-baseline-lr0.2\"\u001B[0m\u001B[0;34m)\u001B[0m\u001B[0;34m\u001B[0m\u001B[0;34m\u001B[0m\u001B[0m\n\u001B[0m",
      "\u001B[0;32m<ipython-input-18-cfecfd75131a>\u001B[0m in \u001B[0;36mtrain\u001B[0;34m(self, epochs, use_wandb, config, name)\u001B[0m\n\u001B[1;32m     33\u001B[0m             \u001B[0mtotal_loss\u001B[0m \u001B[0;34m=\u001B[0m \u001B[0;36m0\u001B[0m\u001B[0;34m\u001B[0m\u001B[0;34m\u001B[0m\u001B[0m\n\u001B[1;32m     34\u001B[0m             \u001B[0;31m#breakpoint()\u001B[0m\u001B[0;34m\u001B[0m\u001B[0;34m\u001B[0m\u001B[0m\n\u001B[0;32m---> 35\u001B[0;31m             \u001B[0;32mfor\u001B[0m \u001B[0mi\u001B[0m\u001B[0;34m,\u001B[0m \u001B[0mbatch\u001B[0m \u001B[0;32min\u001B[0m \u001B[0menumerate\u001B[0m\u001B[0;34m(\u001B[0m\u001B[0mself\u001B[0m\u001B[0;34m.\u001B[0m\u001B[0mtrain_dataloader\u001B[0m\u001B[0;34m)\u001B[0m\u001B[0;34m:\u001B[0m\u001B[0;34m\u001B[0m\u001B[0;34m\u001B[0m\u001B[0m\n\u001B[0m\u001B[1;32m     36\u001B[0m                 \u001B[0mprint_progress_bar\u001B[0m\u001B[0;34m(\u001B[0m\u001B[0mi\u001B[0m \u001B[0;34m/\u001B[0m \u001B[0mlen\u001B[0m\u001B[0;34m(\u001B[0m\u001B[0mself\u001B[0m\u001B[0;34m.\u001B[0m\u001B[0mtrain_dataloader\u001B[0m\u001B[0;34m)\u001B[0m\u001B[0;34m,\u001B[0m \u001B[0mtext\u001B[0m\u001B[0;34m=\u001B[0m\u001B[0;34mf\"| training epoch {epoch}\"\u001B[0m\u001B[0;34m)\u001B[0m\u001B[0;34m\u001B[0m\u001B[0;34m\u001B[0m\u001B[0m\n\u001B[1;32m     37\u001B[0m                 \u001B[0;31m# Get the inputs and targets from the batch\u001B[0m\u001B[0;34m\u001B[0m\u001B[0;34m\u001B[0m\u001B[0m\n",
      "\u001B[0;32m/usr/local/lib/python3.10/dist-packages/torch/utils/data/dataloader.py\u001B[0m in \u001B[0;36m__next__\u001B[0;34m(self)\u001B[0m\n\u001B[1;32m    629\u001B[0m                 \u001B[0;31m# TODO(https://github.com/pytorch/pytorch/issues/76750)\u001B[0m\u001B[0;34m\u001B[0m\u001B[0;34m\u001B[0m\u001B[0m\n\u001B[1;32m    630\u001B[0m                 \u001B[0mself\u001B[0m\u001B[0;34m.\u001B[0m\u001B[0m_reset\u001B[0m\u001B[0;34m(\u001B[0m\u001B[0;34m)\u001B[0m  \u001B[0;31m# type: ignore[call-arg]\u001B[0m\u001B[0;34m\u001B[0m\u001B[0;34m\u001B[0m\u001B[0m\n\u001B[0;32m--> 631\u001B[0;31m             \u001B[0mdata\u001B[0m \u001B[0;34m=\u001B[0m \u001B[0mself\u001B[0m\u001B[0;34m.\u001B[0m\u001B[0m_next_data\u001B[0m\u001B[0;34m(\u001B[0m\u001B[0;34m)\u001B[0m\u001B[0;34m\u001B[0m\u001B[0;34m\u001B[0m\u001B[0m\n\u001B[0m\u001B[1;32m    632\u001B[0m             \u001B[0mself\u001B[0m\u001B[0;34m.\u001B[0m\u001B[0m_num_yielded\u001B[0m \u001B[0;34m+=\u001B[0m \u001B[0;36m1\u001B[0m\u001B[0;34m\u001B[0m\u001B[0;34m\u001B[0m\u001B[0m\n\u001B[1;32m    633\u001B[0m             \u001B[0;32mif\u001B[0m \u001B[0mself\u001B[0m\u001B[0;34m.\u001B[0m\u001B[0m_dataset_kind\u001B[0m \u001B[0;34m==\u001B[0m \u001B[0m_DatasetKind\u001B[0m\u001B[0;34m.\u001B[0m\u001B[0mIterable\u001B[0m \u001B[0;32mand\u001B[0m\u001B[0;31m \u001B[0m\u001B[0;31m\\\u001B[0m\u001B[0;34m\u001B[0m\u001B[0;34m\u001B[0m\u001B[0m\n",
      "\u001B[0;32m/usr/local/lib/python3.10/dist-packages/torch/utils/data/dataloader.py\u001B[0m in \u001B[0;36m_next_data\u001B[0;34m(self)\u001B[0m\n\u001B[1;32m    673\u001B[0m     \u001B[0;32mdef\u001B[0m \u001B[0m_next_data\u001B[0m\u001B[0;34m(\u001B[0m\u001B[0mself\u001B[0m\u001B[0;34m)\u001B[0m\u001B[0;34m:\u001B[0m\u001B[0;34m\u001B[0m\u001B[0;34m\u001B[0m\u001B[0m\n\u001B[1;32m    674\u001B[0m         \u001B[0mindex\u001B[0m \u001B[0;34m=\u001B[0m \u001B[0mself\u001B[0m\u001B[0;34m.\u001B[0m\u001B[0m_next_index\u001B[0m\u001B[0;34m(\u001B[0m\u001B[0;34m)\u001B[0m  \u001B[0;31m# may raise StopIteration\u001B[0m\u001B[0;34m\u001B[0m\u001B[0;34m\u001B[0m\u001B[0m\n\u001B[0;32m--> 675\u001B[0;31m         \u001B[0mdata\u001B[0m \u001B[0;34m=\u001B[0m \u001B[0mself\u001B[0m\u001B[0;34m.\u001B[0m\u001B[0m_dataset_fetcher\u001B[0m\u001B[0;34m.\u001B[0m\u001B[0mfetch\u001B[0m\u001B[0;34m(\u001B[0m\u001B[0mindex\u001B[0m\u001B[0;34m)\u001B[0m  \u001B[0;31m# may raise StopIteration\u001B[0m\u001B[0;34m\u001B[0m\u001B[0;34m\u001B[0m\u001B[0m\n\u001B[0m\u001B[1;32m    676\u001B[0m         \u001B[0;32mif\u001B[0m \u001B[0mself\u001B[0m\u001B[0;34m.\u001B[0m\u001B[0m_pin_memory\u001B[0m\u001B[0;34m:\u001B[0m\u001B[0;34m\u001B[0m\u001B[0;34m\u001B[0m\u001B[0m\n\u001B[1;32m    677\u001B[0m             \u001B[0mdata\u001B[0m \u001B[0;34m=\u001B[0m \u001B[0m_utils\u001B[0m\u001B[0;34m.\u001B[0m\u001B[0mpin_memory\u001B[0m\u001B[0;34m.\u001B[0m\u001B[0mpin_memory\u001B[0m\u001B[0;34m(\u001B[0m\u001B[0mdata\u001B[0m\u001B[0;34m,\u001B[0m \u001B[0mself\u001B[0m\u001B[0;34m.\u001B[0m\u001B[0m_pin_memory_device\u001B[0m\u001B[0;34m)\u001B[0m\u001B[0;34m\u001B[0m\u001B[0;34m\u001B[0m\u001B[0m\n",
      "\u001B[0;32m/usr/local/lib/python3.10/dist-packages/torch/utils/data/_utils/fetch.py\u001B[0m in \u001B[0;36mfetch\u001B[0;34m(self, possibly_batched_index)\u001B[0m\n\u001B[1;32m     52\u001B[0m         \u001B[0;32melse\u001B[0m\u001B[0;34m:\u001B[0m\u001B[0;34m\u001B[0m\u001B[0;34m\u001B[0m\u001B[0m\n\u001B[1;32m     53\u001B[0m             \u001B[0mdata\u001B[0m \u001B[0;34m=\u001B[0m \u001B[0mself\u001B[0m\u001B[0;34m.\u001B[0m\u001B[0mdataset\u001B[0m\u001B[0;34m[\u001B[0m\u001B[0mpossibly_batched_index\u001B[0m\u001B[0;34m]\u001B[0m\u001B[0;34m\u001B[0m\u001B[0;34m\u001B[0m\u001B[0m\n\u001B[0;32m---> 54\u001B[0;31m         \u001B[0;32mreturn\u001B[0m \u001B[0mself\u001B[0m\u001B[0;34m.\u001B[0m\u001B[0mcollate_fn\u001B[0m\u001B[0;34m(\u001B[0m\u001B[0mdata\u001B[0m\u001B[0;34m)\u001B[0m\u001B[0;34m\u001B[0m\u001B[0;34m\u001B[0m\u001B[0m\n\u001B[0m",
      "\u001B[0;32m<ipython-input-4-8d4375b7c368>\u001B[0m in \u001B[0;36mcollate\u001B[0;34m(self, batch)\u001B[0m\n\u001B[1;32m     43\u001B[0m         \u001B[0mtexts\u001B[0m\u001B[0;34m,\u001B[0m \u001B[0mlabels\u001B[0m \u001B[0;34m=\u001B[0m \u001B[0mzip\u001B[0m\u001B[0;34m(\u001B[0m\u001B[0;34m*\u001B[0m\u001B[0mbatch\u001B[0m\u001B[0;34m)\u001B[0m\u001B[0;34m\u001B[0m\u001B[0;34m\u001B[0m\u001B[0m\n\u001B[1;32m     44\u001B[0m         \u001B[0mlens\u001B[0m \u001B[0;34m=\u001B[0m \u001B[0;34m[\u001B[0m\u001B[0mlen\u001B[0m\u001B[0;34m(\u001B[0m\u001B[0mtext\u001B[0m\u001B[0;34m)\u001B[0m \u001B[0;32mfor\u001B[0m \u001B[0mtext\u001B[0m \u001B[0;32min\u001B[0m \u001B[0mtexts\u001B[0m\u001B[0;34m]\u001B[0m\u001B[0;34m\u001B[0m\u001B[0;34m\u001B[0m\u001B[0m\n\u001B[0;32m---> 45\u001B[0;31m         \u001B[0mtexts\u001B[0m \u001B[0;34m=\u001B[0m \u001B[0mpad_sequence\u001B[0m\u001B[0;34m(\u001B[0m\u001B[0;34m[\u001B[0m\u001B[0mtorch\u001B[0m\u001B[0;34m.\u001B[0m\u001B[0mtensor\u001B[0m\u001B[0;34m(\u001B[0m\u001B[0mtext\u001B[0m\u001B[0;34m)\u001B[0m \u001B[0;32mfor\u001B[0m \u001B[0mtext\u001B[0m \u001B[0;32min\u001B[0m \u001B[0mtexts\u001B[0m\u001B[0;34m]\u001B[0m\u001B[0;34m,\u001B[0m \u001B[0mbatch_first\u001B[0m\u001B[0;34m=\u001B[0m\u001B[0;32mTrue\u001B[0m\u001B[0;34m)\u001B[0m\u001B[0;34m\u001B[0m\u001B[0;34m\u001B[0m\u001B[0m\n\u001B[0m\u001B[1;32m     46\u001B[0m         \u001B[0;32mreturn\u001B[0m \u001B[0mtexts\u001B[0m\u001B[0;34m.\u001B[0m\u001B[0mto\u001B[0m\u001B[0;34m(\u001B[0m\u001B[0mself\u001B[0m\u001B[0;34m.\u001B[0m\u001B[0mdevice\u001B[0m\u001B[0;34m)\u001B[0m\u001B[0;34m,\u001B[0m \u001B[0mtorch\u001B[0m\u001B[0;34m.\u001B[0m\u001B[0mtensor\u001B[0m\u001B[0;34m(\u001B[0m\u001B[0mlabels\u001B[0m\u001B[0;34m,\u001B[0m \u001B[0mdtype\u001B[0m\u001B[0;34m=\u001B[0m\u001B[0mtorch\u001B[0m\u001B[0;34m.\u001B[0m\u001B[0mfloat\u001B[0m\u001B[0;34m)\u001B[0m\u001B[0;34m.\u001B[0m\u001B[0mto\u001B[0m\u001B[0;34m(\u001B[0m\u001B[0mself\u001B[0m\u001B[0;34m.\u001B[0m\u001B[0mdevice\u001B[0m\u001B[0;34m)\u001B[0m\u001B[0;34m,\u001B[0m \u001B[0mtorch\u001B[0m\u001B[0;34m.\u001B[0m\u001B[0mtensor\u001B[0m\u001B[0;34m(\u001B[0m\u001B[0mlens\u001B[0m\u001B[0;34m)\u001B[0m\u001B[0;34m.\u001B[0m\u001B[0mto\u001B[0m\u001B[0;34m(\u001B[0m\u001B[0mself\u001B[0m\u001B[0;34m.\u001B[0m\u001B[0mdevice\u001B[0m\u001B[0;34m)\u001B[0m\u001B[0;34m\u001B[0m\u001B[0;34m\u001B[0m\u001B[0m\n\u001B[1;32m     47\u001B[0m \u001B[0;34m\u001B[0m\u001B[0m\n",
      "\u001B[0;32m<ipython-input-4-8d4375b7c368>\u001B[0m in \u001B[0;36m<listcomp>\u001B[0;34m(.0)\u001B[0m\n\u001B[1;32m     43\u001B[0m         \u001B[0mtexts\u001B[0m\u001B[0;34m,\u001B[0m \u001B[0mlabels\u001B[0m \u001B[0;34m=\u001B[0m \u001B[0mzip\u001B[0m\u001B[0;34m(\u001B[0m\u001B[0;34m*\u001B[0m\u001B[0mbatch\u001B[0m\u001B[0;34m)\u001B[0m\u001B[0;34m\u001B[0m\u001B[0;34m\u001B[0m\u001B[0m\n\u001B[1;32m     44\u001B[0m         \u001B[0mlens\u001B[0m \u001B[0;34m=\u001B[0m \u001B[0;34m[\u001B[0m\u001B[0mlen\u001B[0m\u001B[0;34m(\u001B[0m\u001B[0mtext\u001B[0m\u001B[0;34m)\u001B[0m \u001B[0;32mfor\u001B[0m \u001B[0mtext\u001B[0m \u001B[0;32min\u001B[0m \u001B[0mtexts\u001B[0m\u001B[0;34m]\u001B[0m\u001B[0;34m\u001B[0m\u001B[0;34m\u001B[0m\u001B[0m\n\u001B[0;32m---> 45\u001B[0;31m         \u001B[0mtexts\u001B[0m \u001B[0;34m=\u001B[0m \u001B[0mpad_sequence\u001B[0m\u001B[0;34m(\u001B[0m\u001B[0;34m[\u001B[0m\u001B[0mtorch\u001B[0m\u001B[0;34m.\u001B[0m\u001B[0mtensor\u001B[0m\u001B[0;34m(\u001B[0m\u001B[0mtext\u001B[0m\u001B[0;34m)\u001B[0m \u001B[0;32mfor\u001B[0m \u001B[0mtext\u001B[0m \u001B[0;32min\u001B[0m \u001B[0mtexts\u001B[0m\u001B[0;34m]\u001B[0m\u001B[0;34m,\u001B[0m \u001B[0mbatch_first\u001B[0m\u001B[0;34m=\u001B[0m\u001B[0;32mTrue\u001B[0m\u001B[0;34m)\u001B[0m\u001B[0;34m\u001B[0m\u001B[0;34m\u001B[0m\u001B[0m\n\u001B[0m\u001B[1;32m     46\u001B[0m         \u001B[0;32mreturn\u001B[0m \u001B[0mtexts\u001B[0m\u001B[0;34m.\u001B[0m\u001B[0mto\u001B[0m\u001B[0;34m(\u001B[0m\u001B[0mself\u001B[0m\u001B[0;34m.\u001B[0m\u001B[0mdevice\u001B[0m\u001B[0;34m)\u001B[0m\u001B[0;34m,\u001B[0m \u001B[0mtorch\u001B[0m\u001B[0;34m.\u001B[0m\u001B[0mtensor\u001B[0m\u001B[0;34m(\u001B[0m\u001B[0mlabels\u001B[0m\u001B[0;34m,\u001B[0m \u001B[0mdtype\u001B[0m\u001B[0;34m=\u001B[0m\u001B[0mtorch\u001B[0m\u001B[0;34m.\u001B[0m\u001B[0mfloat\u001B[0m\u001B[0;34m)\u001B[0m\u001B[0;34m.\u001B[0m\u001B[0mto\u001B[0m\u001B[0;34m(\u001B[0m\u001B[0mself\u001B[0m\u001B[0;34m.\u001B[0m\u001B[0mdevice\u001B[0m\u001B[0;34m)\u001B[0m\u001B[0;34m,\u001B[0m \u001B[0mtorch\u001B[0m\u001B[0;34m.\u001B[0m\u001B[0mtensor\u001B[0m\u001B[0;34m(\u001B[0m\u001B[0mlens\u001B[0m\u001B[0;34m)\u001B[0m\u001B[0;34m.\u001B[0m\u001B[0mto\u001B[0m\u001B[0;34m(\u001B[0m\u001B[0mself\u001B[0m\u001B[0;34m.\u001B[0m\u001B[0mdevice\u001B[0m\u001B[0;34m)\u001B[0m\u001B[0;34m\u001B[0m\u001B[0;34m\u001B[0m\u001B[0m\n\u001B[1;32m     47\u001B[0m \u001B[0;34m\u001B[0m\u001B[0m\n",
      "\u001B[0;31mKeyboardInterrupt\u001B[0m: "
     ]
    }
   ]
  },
  {
   "cell_type": "code",
   "source": [
    "\n",
    "\n",
    "print(\"Validation Loss:\", validation_loss)\n",
    "print(\"Precision:\", precision)\n",
    "print(\"Recall:\", recall)\n",
    "print(\"F1 Score:\", f1)\n",
    "print(\"Accuracy:\", accuracy)"
   ],
   "metadata": {
    "colab": {
     "base_uri": "https://localhost:8080/"
    },
    "id": "cxBX0SJFbLJA",
    "outputId": "f5f1425f-d58d-463e-a663-716d618fb991"
   },
   "id": "cxBX0SJFbLJA",
   "execution_count": null,
   "outputs": [
    {
     "output_type": "stream",
     "name": "stdout",
     "text": [
      "Validation Loss: 46.73604254289107\n",
      "Precision: 0.4165103189493433\n",
      "Recall: 0.4014466546112116\n",
      "F1 Score: 0.4088397790055248\n",
      "Accuracy: 0.5303584491587418\n"
     ]
    }
   ]
  },
  {
   "cell_type": "code",
   "source": [
    "wandb.finish()"
   ],
   "metadata": {
    "id": "3c4Sm-S6gPkt",
    "colab": {
     "base_uri": "https://localhost:8080/",
     "height": 312,
     "referenced_widgets": [
      "051766a6814745059d4efeff631641da",
      "1b948f6921a04035b1fc31fb4ede52cd",
      "f50b74e76728460da283755d7479b5d5",
      "ed59c417af7747e4b229b226959dd1d2",
      "ed59793f0b654c198858f2d711dd62ea",
      "61efd1a4b72949228e238851d4d0ba9c",
      "cc7b2683a98640ffa1c32c6a75c67487",
      "9f4af944f4ac48b38453556a53295999"
     ]
    },
    "outputId": "66d3bb34-6c36-4784-d31d-3842e271b7a9"
   },
   "id": "3c4Sm-S6gPkt",
   "execution_count": null,
   "outputs": [
    {
     "output_type": "display_data",
     "data": {
      "text/plain": [
       "VBox(children=(Label(value='0.011 MB of 0.011 MB uploaded\\r'), FloatProgress(value=1.0, max=1.0)))"
      ],
      "application/vnd.jupyter.widget-view+json": {
       "version_major": 2,
       "version_minor": 0,
       "model_id": "051766a6814745059d4efeff631641da"
      }
     },
     "metadata": {}
    },
    {
     "output_type": "display_data",
     "data": {
      "text/plain": [
       "<IPython.core.display.HTML object>"
      ],
      "text/html": [
       "<style>\n",
       "    table.wandb td:nth-child(1) { padding: 0 10px; text-align: left ; width: auto;} td:nth-child(2) {text-align: left ; width: 100%}\n",
       "    .wandb-row { display: flex; flex-direction: row; flex-wrap: wrap; justify-content: flex-start; width: 100% }\n",
       "    .wandb-col { display: flex; flex-direction: column; flex-basis: 100%; flex: 1; padding: 10px; }\n",
       "    </style>\n",
       "<div class=\"wandb-row\"><div class=\"wandb-col\"><h3>Run history:</h3><br/><table class=\"wandb\"><tr><td>accuracy</td><td>▁▆▇▅█▃▅▄▅</td></tr><tr><td>f1</td><td>▁██▅▇▄▅▃▅</td></tr><tr><td>precision</td><td>▆▁▅▇█▄▆█▅</td></tr><tr><td>recall</td><td>▁█▇▄▆▄▅▃▅</td></tr><tr><td>train_loss</td><td>█▁▂▁▁▁▁▁▁</td></tr><tr><td>validation_loss</td><td>▇█▆▁▃▂▁▂▂</td></tr></table><br/></div><div class=\"wandb-col\"><h3>Run summary:</h3><br/><table class=\"wandb\"><tr><td>accuracy</td><td>0.69934</td></tr><tr><td>f1</td><td>0.5776</td></tr><tr><td>precision</td><td>0.66118</td></tr><tr><td>recall</td><td>0.51277</td></tr><tr><td>train_loss</td><td>0.57573</td></tr><tr><td>validation_loss</td><td>0.57779</td></tr></table><br/></div></div>"
      ]
     },
     "metadata": {}
    },
    {
     "output_type": "display_data",
     "data": {
      "text/plain": [
       "<IPython.core.display.HTML object>"
      ],
      "text/html": [
       " View run <strong style=\"color:#cdcd00\">simple-baseline-lr0.2</strong> at: <a href='https://wandb.ai/monteleone/nlp-hw-1b/runs/ptrgxffm' target=\"_blank\">https://wandb.ai/monteleone/nlp-hw-1b/runs/ptrgxffm</a><br/> View project at: <a href='https://wandb.ai/monteleone/nlp-hw-1b' target=\"_blank\">https://wandb.ai/monteleone/nlp-hw-1b</a><br/>Synced 5 W&B file(s), 0 media file(s), 0 artifact file(s) and 0 other file(s)"
      ]
     },
     "metadata": {}
    },
    {
     "output_type": "display_data",
     "data": {
      "text/plain": [
       "<IPython.core.display.HTML object>"
      ],
      "text/html": [
       "Find logs at: <code>./wandb/run-20240417_220320-ptrgxffm/logs</code>"
      ]
     },
     "metadata": {}
    }
   ]
  }
 ],
 "metadata": {
  "kernelspec": {
   "display_name": "Python 3",
   "language": "python",
   "name": "python3"
  },
  "language_info": {
   "codemirror_mode": {
    "name": "ipython",
    "version": 2
   },
   "file_extension": ".py",
   "mimetype": "text/x-python",
   "name": "python",
   "nbconvert_exporter": "python",
   "pygments_lexer": "ipython2",
   "version": "2.7.6"
  },
  "colab": {
   "provenance": []
  },
  "widgets": {
   "application/vnd.jupyter.widget-state+json": {
    "051766a6814745059d4efeff631641da": {
     "model_module": "@jupyter-widgets/controls",
     "model_name": "VBoxModel",
     "model_module_version": "1.5.0",
     "state": {
      "_dom_classes": [],
      "_model_module": "@jupyter-widgets/controls",
      "_model_module_version": "1.5.0",
      "_model_name": "VBoxModel",
      "_view_count": null,
      "_view_module": "@jupyter-widgets/controls",
      "_view_module_version": "1.5.0",
      "_view_name": "VBoxView",
      "box_style": "",
      "children": [
       "IPY_MODEL_1b948f6921a04035b1fc31fb4ede52cd",
       "IPY_MODEL_f50b74e76728460da283755d7479b5d5"
      ],
      "layout": "IPY_MODEL_ed59c417af7747e4b229b226959dd1d2"
     }
    },
    "1b948f6921a04035b1fc31fb4ede52cd": {
     "model_module": "@jupyter-widgets/controls",
     "model_name": "LabelModel",
     "model_module_version": "1.5.0",
     "state": {
      "_dom_classes": [],
      "_model_module": "@jupyter-widgets/controls",
      "_model_module_version": "1.5.0",
      "_model_name": "LabelModel",
      "_view_count": null,
      "_view_module": "@jupyter-widgets/controls",
      "_view_module_version": "1.5.0",
      "_view_name": "LabelView",
      "description": "",
      "description_tooltip": null,
      "layout": "IPY_MODEL_ed59793f0b654c198858f2d711dd62ea",
      "placeholder": "​",
      "style": "IPY_MODEL_61efd1a4b72949228e238851d4d0ba9c",
      "value": "0.011 MB of 0.011 MB uploaded\r"
     }
    },
    "f50b74e76728460da283755d7479b5d5": {
     "model_module": "@jupyter-widgets/controls",
     "model_name": "FloatProgressModel",
     "model_module_version": "1.5.0",
     "state": {
      "_dom_classes": [],
      "_model_module": "@jupyter-widgets/controls",
      "_model_module_version": "1.5.0",
      "_model_name": "FloatProgressModel",
      "_view_count": null,
      "_view_module": "@jupyter-widgets/controls",
      "_view_module_version": "1.5.0",
      "_view_name": "ProgressView",
      "bar_style": "",
      "description": "",
      "description_tooltip": null,
      "layout": "IPY_MODEL_cc7b2683a98640ffa1c32c6a75c67487",
      "max": 1,
      "min": 0,
      "orientation": "horizontal",
      "style": "IPY_MODEL_9f4af944f4ac48b38453556a53295999",
      "value": 1
     }
    },
    "ed59c417af7747e4b229b226959dd1d2": {
     "model_module": "@jupyter-widgets/base",
     "model_name": "LayoutModel",
     "model_module_version": "1.2.0",
     "state": {
      "_model_module": "@jupyter-widgets/base",
      "_model_module_version": "1.2.0",
      "_model_name": "LayoutModel",
      "_view_count": null,
      "_view_module": "@jupyter-widgets/base",
      "_view_module_version": "1.2.0",
      "_view_name": "LayoutView",
      "align_content": null,
      "align_items": null,
      "align_self": null,
      "border": null,
      "bottom": null,
      "display": null,
      "flex": null,
      "flex_flow": null,
      "grid_area": null,
      "grid_auto_columns": null,
      "grid_auto_flow": null,
      "grid_auto_rows": null,
      "grid_column": null,
      "grid_gap": null,
      "grid_row": null,
      "grid_template_areas": null,
      "grid_template_columns": null,
      "grid_template_rows": null,
      "height": null,
      "justify_content": null,
      "justify_items": null,
      "left": null,
      "margin": null,
      "max_height": null,
      "max_width": null,
      "min_height": null,
      "min_width": null,
      "object_fit": null,
      "object_position": null,
      "order": null,
      "overflow": null,
      "overflow_x": null,
      "overflow_y": null,
      "padding": null,
      "right": null,
      "top": null,
      "visibility": null,
      "width": null
     }
    },
    "ed59793f0b654c198858f2d711dd62ea": {
     "model_module": "@jupyter-widgets/base",
     "model_name": "LayoutModel",
     "model_module_version": "1.2.0",
     "state": {
      "_model_module": "@jupyter-widgets/base",
      "_model_module_version": "1.2.0",
      "_model_name": "LayoutModel",
      "_view_count": null,
      "_view_module": "@jupyter-widgets/base",
      "_view_module_version": "1.2.0",
      "_view_name": "LayoutView",
      "align_content": null,
      "align_items": null,
      "align_self": null,
      "border": null,
      "bottom": null,
      "display": null,
      "flex": null,
      "flex_flow": null,
      "grid_area": null,
      "grid_auto_columns": null,
      "grid_auto_flow": null,
      "grid_auto_rows": null,
      "grid_column": null,
      "grid_gap": null,
      "grid_row": null,
      "grid_template_areas": null,
      "grid_template_columns": null,
      "grid_template_rows": null,
      "height": null,
      "justify_content": null,
      "justify_items": null,
      "left": null,
      "margin": null,
      "max_height": null,
      "max_width": null,
      "min_height": null,
      "min_width": null,
      "object_fit": null,
      "object_position": null,
      "order": null,
      "overflow": null,
      "overflow_x": null,
      "overflow_y": null,
      "padding": null,
      "right": null,
      "top": null,
      "visibility": null,
      "width": null
     }
    },
    "61efd1a4b72949228e238851d4d0ba9c": {
     "model_module": "@jupyter-widgets/controls",
     "model_name": "DescriptionStyleModel",
     "model_module_version": "1.5.0",
     "state": {
      "_model_module": "@jupyter-widgets/controls",
      "_model_module_version": "1.5.0",
      "_model_name": "DescriptionStyleModel",
      "_view_count": null,
      "_view_module": "@jupyter-widgets/base",
      "_view_module_version": "1.2.0",
      "_view_name": "StyleView",
      "description_width": ""
     }
    },
    "cc7b2683a98640ffa1c32c6a75c67487": {
     "model_module": "@jupyter-widgets/base",
     "model_name": "LayoutModel",
     "model_module_version": "1.2.0",
     "state": {
      "_model_module": "@jupyter-widgets/base",
      "_model_module_version": "1.2.0",
      "_model_name": "LayoutModel",
      "_view_count": null,
      "_view_module": "@jupyter-widgets/base",
      "_view_module_version": "1.2.0",
      "_view_name": "LayoutView",
      "align_content": null,
      "align_items": null,
      "align_self": null,
      "border": null,
      "bottom": null,
      "display": null,
      "flex": null,
      "flex_flow": null,
      "grid_area": null,
      "grid_auto_columns": null,
      "grid_auto_flow": null,
      "grid_auto_rows": null,
      "grid_column": null,
      "grid_gap": null,
      "grid_row": null,
      "grid_template_areas": null,
      "grid_template_columns": null,
      "grid_template_rows": null,
      "height": null,
      "justify_content": null,
      "justify_items": null,
      "left": null,
      "margin": null,
      "max_height": null,
      "max_width": null,
      "min_height": null,
      "min_width": null,
      "object_fit": null,
      "object_position": null,
      "order": null,
      "overflow": null,
      "overflow_x": null,
      "overflow_y": null,
      "padding": null,
      "right": null,
      "top": null,
      "visibility": null,
      "width": null
     }
    },
    "9f4af944f4ac48b38453556a53295999": {
     "model_module": "@jupyter-widgets/controls",
     "model_name": "ProgressStyleModel",
     "model_module_version": "1.5.0",
     "state": {
      "_model_module": "@jupyter-widgets/controls",
      "_model_module_version": "1.5.0",
      "_model_name": "ProgressStyleModel",
      "_view_count": null,
      "_view_module": "@jupyter-widgets/base",
      "_view_module_version": "1.2.0",
      "_view_name": "StyleView",
      "bar_color": null,
      "description_width": ""
     }
    }
   }
  }
 },
 "nbformat": 4,
 "nbformat_minor": 5
}
