{
 "cells": [
  {
   "cell_type": "code",
   "execution_count": null,
   "id": "initial_id",
   "metadata": {
    "collapsed": true,
    "id": "initial_id"
   },
   "outputs": [],
   "source": []
  },
  {
   "cell_type": "code",
   "source": [
    "from google.colab import drive\n",
    "import jsondrive.mount('/content/drive')"
   ],
   "metadata": {
    "id": "wNSux8-tDrJM",
    "outputId": "be3de3a2-b673-47c5-e696-105a7e3a84bd",
    "colab": {
     "base_uri": "https://localhost:8080/"
    }
   },
   "id": "wNSux8-tDrJM",
   "execution_count": 1,
   "outputs": [
    {
     "output_type": "stream",
     "name": "stdout",
     "text": [
      "Mounted at /content/drive\n"
     ]
    }
   ]
  },
  {
   "cell_type": "code",
   "source": [
    "import json\n",
    "import numpy as np\n",
    "from sklearn.metrics import confusion_matrix\n",
    "import torch\n",
    "from torch.utils.data import Dataset, DataLoader\n",
    "from torch import nn\n",
    "import fasttext.util\n",
    "from torch.nn.utils.rnn import pad_sequence\n",
    "\n"
   ],
   "metadata": {
    "id": "IMGr7gQSGWQn"
   },
   "id": "IMGr7gQSGWQn",
   "execution_count": null,
   "outputs": []
  },
  {
   "cell_type": "code",
   "source": [
    "# \"neutrale\", \"odio\"\n",
    "\n",
    "ROOT_PATH = \"/content/drive/MyDrive/uni/nlp/nlp2024-hw1-b\"\n",
    "\n"
   ],
   "metadata": {
    "id": "2qvDmn3hEWX7"
   },
   "id": "2qvDmn3hEWX7",
   "execution_count": null,
   "outputs": []
  },
  {
   "cell_type": "code",
   "source": [
    "\n",
    "\n",
    "class HaSpeeDe_Dataset(Dataset):\n",
    "    \n",
    "    \n",
    "    def __init__(self, data_path: str, data: list[tuple[list, int]]=None, use_embeddings: bool=False) -> None:\n",
    "        if data is not None:\n",
    "            self.data = data\n",
    "        else:\n",
    "            if use_embeddings:\n",
    "                fasttext.util.download_model('it', if_exists='ignore')\n",
    "                embeddings = fasttext.load_model('cc.it.300.bin')\n",
    "            self.data = []\n",
    "            with open(data_path, 'r', encoding=\"UTF8\") as f:\n",
    "                for line in f:\n",
    "                    item = json.loads(line)\n",
    "                    sentence = item['text'].split()\n",
    "                    if use_embeddings:\n",
    "                        embedded_sentence = []\n",
    "                        for word in sentence:\n",
    "                            embedded_sentence.append(embeddings.get_word_vector(word))\n",
    "                        sentence = embedded_sentence  \n",
    "                    self.data.append((sentence, item['label']))\n",
    "                    \n",
    "    def __len__(self) -> int:\n",
    "        return len(self.data)\n",
    "    \n",
    "    def __getitem__(self, idx: int) -> tuple[list, int]:\n",
    "        return self.data[idx]\n",
    "    \n",
    "    def split(self, prc: float) -> list[tuple[list, int]]:\n",
    "        validation_size = int(prc * len(self.data))\n",
    "        train_size = len(self.data) - validation_size\n",
    "        validation_data, self.data = torch.utils.data.random_split(self.data, [validation_size, train_size])\n",
    "        return validation_data\n",
    "    \n",
    "    \n",
    "    def collate(self, batch: list[tuple[list, int]]) -> tuple[torch.Tensor, torch.Tensor]:\n",
    "        texts, labels = zip(*batch)\n",
    "        texts = pad_sequence([torch.tensor(text) for text in texts], batch_first=True)\n",
    "        return texts, torch.tensor(labels)\n",
    "    \n",
    "    def get_dataloader(self, batch_size: int, shuffle: bool) -> DataLoader:\n",
    "        return DataLoader(self, batch_size=batch_size, shuffle=shuffle)\n",
    "\n",
    "\n",
    "\n",
    "\n",
    "\n",
    "\n",
    "\n"
   ],
   "metadata": {
    "id": "h7bb8_RtGcHn"
   },
   "id": "h7bb8_RtGcHn",
   "execution_count": null,
   "outputs": []
  }
 ],
 "metadata": {
  "kernelspec": {
   "display_name": "Python 3",
   "language": "python",
   "name": "python3"
  },
  "language_info": {
   "codemirror_mode": {
    "name": "ipython",
    "version": 2
   },
   "file_extension": ".py",
   "mimetype": "text/x-python",
   "name": "python",
   "nbconvert_exporter": "python",
   "pygments_lexer": "ipython2",
   "version": "2.7.6"
  },
  "colab": {
   "provenance": []
  }
 },
 "nbformat": 4,
 "nbformat_minor": 5
}
