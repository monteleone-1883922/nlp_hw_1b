{
  "cells": [
    {
      "cell_type": "code",
      "execution_count": 1,
      "id": "initial_id",
      "metadata": {
        "collapsed": true,
        "id": "initial_id",
        "colab": {
          "base_uri": "https://localhost:8080/"
        },
        "outputId": "8c555234-226f-4505-8c40-cb1a151ef896"
      },
      "outputs": [
        {
          "output_type": "stream",
          "name": "stdout",
          "text": [
            "  Building wheel for fasttext (setup.py) ... \u001b[?25l\u001b[?25hdone\n",
            "  Created wheel for fasttext: filename=fasttext-0.9.2-cp310-cp310-linux_x86_64.whl size=4227140 sha256=a4d949af2846b3a93e0b7144b62817a0da616e33f8a0facfc025507bc2e47c3b\n",
            "  Stored in directory: /root/.cache/pip/wheels/a5/13/75/f811c84a8ab36eedbaef977a6a58a98990e8e0f1967f98f394\n",
            "Successfully built fasttext\n",
            "Installing collected packages: smmap, setproctitle, sentry-sdk, pybind11, docker-pycreds, gitdb, fasttext, GitPython, wandb\n",
            "Successfully installed GitPython-3.1.43 docker-pycreds-0.4.0 fasttext-0.9.2 gitdb-4.0.11 pybind11-2.12.0 sentry-sdk-1.45.0 setproctitle-1.3.3 smmap-5.0.1 wandb-0.16.6\n"
          ]
        }
      ],
      "source": [
        "!pip install wandb fasttext plotly"
      ]
    },
    {
      "cell_type": "code",
      "source": [
        "from google.colab import drive\n",
        "drive.mount('/content/drive')"
      ],
      "metadata": {
        "id": "wNSux8-tDrJM",
        "outputId": "b63db875-0cc4-4915-9275-63c1cf0a13d6",
        "colab": {
          "base_uri": "https://localhost:8080/"
        }
      },
      "id": "wNSux8-tDrJM",
      "execution_count": 2,
      "outputs": [
        {
          "output_type": "stream",
          "name": "stdout",
          "text": [
            "Mounted at /content/drive\n"
          ]
        }
      ]
    },
    {
      "cell_type": "code",
      "source": [
        "import json\n",
        "import numpy as np\n",
        "from sklearn.metrics import confusion_matrix, precision_score, recall_score, f1_score, accuracy_score\n",
        "import torch\n",
        "from torch.utils.data import Dataset, DataLoader\n",
        "from torch import nn\n",
        "import fasttext.util\n",
        "import plotly.express as px\n",
        "import sys\n",
        "import wandb\n",
        "from torch.nn.utils.rnn import pad_sequence, pack_padded_sequence, pad_packed_sequence\n",
        "from torch.nn.functional import sigmoid\n",
        "import pdb\n",
        "from torch.optim import Adam\n"
      ],
      "metadata": {
        "id": "IMGr7gQSGWQn"
      },
      "id": "IMGr7gQSGWQn",
      "execution_count": 2,
      "outputs": []
    },
    {
      "cell_type": "code",
      "source": [
        "# \"neutrale\", \"odio\" aaf831dabc88d936d4e6b439b798bb4cb42814ea\n",
        "\n",
        "ROOT_PATH = \"/content/drive/MyDrive/uni/nlp/nlp2024-hw1-b\"\n",
        "\n"
      ],
      "metadata": {
        "id": "2qvDmn3hEWX7"
      },
      "id": "2qvDmn3hEWX7",
      "execution_count": 3,
      "outputs": []
    },
    {
      "metadata": {
        "id": "b7edc7de2e121aa0"
      },
      "cell_type": "code",
      "outputs": [],
      "execution_count": null,
      "source": [
        "wandb.login()"
      ],
      "id": "b7edc7de2e121aa0"
    },
    {
      "cell_type": "code",
      "source": [
        "\n",
        "\n",
        "class HaSpeeDe_Dataset(Dataset):\n",
        "\n",
        "\n",
        "    def __init__(self, data_path: str, data: list[tuple[list, int]]=None, use_embeddings: bool=False, stopwords_file_path: str=\"\", device=\"cpu\") -> None:\n",
        "        self.device = device\n",
        "        if data is not None:\n",
        "            self.data = data\n",
        "        else:\n",
        "            if stopwords_file_path != \"\":\n",
        "                with open(stopwords_file_path, 'r', encoding=\"UTF8\") as f:\n",
        "                    stopwords = f.readlines() #controllare carattere di andare a capo\n",
        "            if use_embeddings:\n",
        "                fasttext.util.download_model('it', if_exists='ignore')\n",
        "                embeddings = fasttext.load_model('cc.it.300.bin')\n",
        "            self.data = []\n",
        "            with open(data_path, 'r', encoding=\"UTF8\") as f:\n",
        "                for line in f:\n",
        "                    item = json.loads(line)\n",
        "                    sentence = item['text'].split()\n",
        "                    if stopwords_file_path != \"\":\n",
        "                        sentence = [word for word in sentence if word not in stopwords]\n",
        "                    if use_embeddings:\n",
        "                        embedded_sentence = []\n",
        "                        for word in sentence:\n",
        "                            embedded_sentence.append(embeddings.get_word_vector(word))\n",
        "                        sentence = embedded_sentence\n",
        "                    self.data.append((sentence, item['label']))\n",
        "\n",
        "    def __len__(self) -> int:\n",
        "        return len(self.data)\n",
        "\n",
        "    def __getitem__(self, idx: int) -> tuple[list, int]:\n",
        "        return self.data[idx]\n",
        "\n",
        "    def split(self, prc: float) -> list[tuple[list, int]]:\n",
        "        validation_size = int(prc * len(self.data))\n",
        "        train_size = len(self.data) - validation_size\n",
        "        validation_data, self.data = torch.utils.data.random_split(self.data, [validation_size, train_size])\n",
        "        return validation_data\n",
        "\n",
        "\n",
        "    def collate(self, batch: list[tuple[list, int]]) -> tuple[torch.Tensor, torch.Tensor, torch.Tensor]:\n",
        "        texts, labels = zip(*batch)\n",
        "        lens = [len(text) for text in texts]\n",
        "        texts = pad_sequence([torch.tensor(text) for text in texts], batch_first=True)\n",
        "        return texts.to(self.device), torch.tensor(labels).to(self.device), torch.tensor(lens).to(self.device)\n",
        "\n",
        "    def get_dataloader(self, batch_size: int, shuffle: bool) -> DataLoader:\n",
        "        return DataLoader(self, batch_size=batch_size, shuffle=shuffle, collate_fn=self.collate)\n",
        "\n",
        "\n",
        "    def print_data_analysis(self):\n",
        "        y= [0,0]\n",
        "        for el in self.data:\n",
        "            if el[1] == 1:\n",
        "                y[1] += 1\n",
        "            else:\n",
        "                y[0] += 1\n",
        "        fig = px.bar(x=[\"neutrale\", \"odio\"], y=y)\n",
        "        fig.show()\n",
        "\n",
        "\n",
        "\n",
        "\n"
      ],
      "metadata": {
        "id": "h7bb8_RtGcHn"
      },
      "id": "h7bb8_RtGcHn",
      "execution_count": 9,
      "outputs": []
    },
    {
      "metadata": {
        "id": "cdbbe622d4a727bc"
      },
      "cell_type": "code",
      "outputs": [],
      "execution_count": 5,
      "source": [
        "# Function to print a progress bar\n",
        "def print_progress_bar(percentuale: float, lunghezza_barra: int = 30) -> None:\n",
        "    blocchi_compilati = int(lunghezza_barra * percentuale)\n",
        "    barra = \"[\" + \"=\" * (blocchi_compilati - 1) + \">\" + \" \" * (lunghezza_barra - blocchi_compilati) + \"]\"\n",
        "    sys.stdout.write(f\"\\r{barra} {percentuale * 100:.2f}% complete\")\n",
        "    sys.stdout.flush()"
      ],
      "id": "cdbbe622d4a727bc"
    },
    {
      "metadata": {
        "id": "7f1bfbd3e87da811"
      },
      "cell_type": "code",
      "outputs": [],
      "execution_count": 6,
      "source": [
        "\n",
        "\n",
        "class Trainer():\n",
        "\n",
        "    def __init__(self, model,train_dataloader, validation_dataloader, optimizer, loss_function, device):\n",
        "        self.model = model.to(device)\n",
        "        self.train_dataloader = train_dataloader\n",
        "        self.validation_dataloader = validation_dataloader\n",
        "        self.optimizer = optimizer\n",
        "        self.loss_function = loss_function\n",
        "        self.device = device\n",
        "\n",
        "\n",
        "    @staticmethod\n",
        "    def evaluation_parameters(y_true, y_pred):\n",
        "        cm = confusion_matrix(y_true, y_pred).ravel()\n",
        "        precision = precision_score(y_true, y_pred)\n",
        "        recall = recall_score(y_true, y_pred)\n",
        "        f1 = f1_score(y_true, y_pred)\n",
        "        accuracy = accuracy_score(y_true, y_pred)\n",
        "        return cm, precision, recall, f1, accuracy\n",
        "\n",
        "\n",
        "    def train(self, epochs: int, use_wandb: bool = False, config: dict = {}):\n",
        "        if use_wandb:\n",
        "            wandb.init(\n",
        "                # Set the project where this run will be logged\n",
        "                project=\"nlp-hw-1b\",\n",
        "                # Track hyperparameters and run metadata\n",
        "                config=config\n",
        "            )\n",
        "        for epoch in range(epochs):\n",
        "            self.model.train()  # Set the model to training mode\n",
        "            total_loss = 0\n",
        "            pdb.breakpoint()\n",
        "            for i, batch in enumerate(self.train_dataloader):\n",
        "                print_progress_bar(i / len(self.train_dataloader))\n",
        "                # Get the inputs and targets from the batch\n",
        "                inputs, targets, lens = batch\n",
        "                # Zero the gradients\n",
        "                self.optimizer.zero_grad()\n",
        "                # Forward pass\n",
        "                outputs = self.model((inputs, lens))\n",
        "                # Compute loss\n",
        "                loss = self.loss_function(outputs, targets)\n",
        "                # Backward pass and optimize\n",
        "                loss.backward()\n",
        "                self.optimizer.step()\n",
        "                # Accumulate the total loss\n",
        "                total_loss += loss.item()\n",
        "\n",
        "            # Print the average loss for this epoch\n",
        "            if use_wandb:\n",
        "                wandb.log({\"train_loss\": total_loss / len(self.train_dataloader)})\n",
        "            self.validate(use_wandb)\n",
        "\n",
        "\n",
        "    def validate(self, use_wandb: bool = False):\n",
        "        self.model.eval()  # Set the model to evaluation mode\n",
        "        total_loss = 0\n",
        "        all_predictions = torch.tensor([], device=self.device)\n",
        "        all_targets = torch.tensor([], device=self.device)\n",
        "        with torch.no_grad():  # Do not calculate gradients\n",
        "            for i, batch in enumerate(self.validation_dataloader):\n",
        "                print_progress_bar(i / len(self.validation_dataloader))\n",
        "                # Get the inputs and targets from the batch\n",
        "                inputs, targets, lens = batch\n",
        "                # Forward pass\n",
        "                outputs = self.model((inputs,lens))\n",
        "                # Compute loss\n",
        "                loss = self.loss_function(outputs, targets)\n",
        "                # Accumulate the total loss\n",
        "                total_loss += loss.item()\n",
        "                # Store predictions and targets\n",
        "                all_predictions = torch.cat((all_predictions, outputs.squeeze().round()))\n",
        "                all_targets = torch.cat((all_targets, targets))\n",
        "\n",
        "        if use_wandb:\n",
        "            wandb.log({\"validation_loss\": total_loss / len(self.validation_dataloader),\n",
        "                       \"precision\": precision_score(all_targets, all_predictions),\n",
        "                       \"recall\": recall_score(all_targets, all_predictions),\n",
        "                       \"f1\": f1_score(all_targets, all_predictions),\n",
        "                       \"accuracy\": accuracy_score(all_targets, all_predictions)})\n",
        "        return total_loss / len(self.validation_dataloader)\n",
        "\n"
      ],
      "id": "7f1bfbd3e87da811"
    },
    {
      "metadata": {
        "id": "7b8f80c18c765ff"
      },
      "cell_type": "code",
      "outputs": [],
      "execution_count": 7,
      "source": [
        "\n",
        "\n",
        "class BaselineStratifiedModel(nn.Module):\n",
        "\n",
        "    def __init__(self, len0, len1):\n",
        "        super(BaselineStratifiedModel, self).__init__()\n",
        "        self.p = len0/(len0+len1)\n",
        "\n",
        "    def forward(self, x):\n",
        "        return torch.tensor([0 if np.random.rand() < self.p else 1 for _ in range(x.shape[0])])\n",
        "\n",
        "\n",
        "\n",
        "class BaselineSimpleModel(nn.Module):\n",
        "\n",
        "    def __init__(self, input_size, output_size):\n",
        "        super(BaselineSimpleModel, self).__init__()\n",
        "        self.linear = nn.Linear(input_size, output_size)\n",
        "\n",
        "    def forward(self, x):\n",
        "        pdb.breakpoint()\n",
        "        seq, lens = x\n",
        "        packed = pack_padded_sequence(seq, lens, batch_first=True, enforce_sorted=False)\n",
        "        data = self.linear(packed.data).squeeze()\n",
        "        packed.data = sigmoid(data)\n",
        "        seq, lens = pad_packed_sequence(packed, batch_first=True)\n",
        "        return torch.tensor([sum(el)/len(el) for el in seq])\n",
        "\n",
        "\n",
        "\n"
      ],
      "id": "7b8f80c18c765ff"
    },
    {
      "cell_type": "code",
      "source": [
        "\n",
        "test_dataset = HaSpeeDe_Dataset(ROOT_PATH + \"/test-news-taskA.jsonl\", use_embeddings=True)"
      ],
      "metadata": {
        "colab": {
          "base_uri": "https://localhost:8080/"
        },
        "id": "ZxbpWZKi2hR7",
        "outputId": "6fa5904d-7b71-4707-f8e3-b5eef357cc8e"
      },
      "id": "ZxbpWZKi2hR7",
      "execution_count": 10,
      "outputs": [
        {
          "output_type": "stream",
          "name": "stderr",
          "text": [
            "Warning : `load_model` does not return WordVectorModel or SupervisedModel any more, but a `FastText` object which is very similar.\n"
          ]
        }
      ]
    },
    {
      "cell_type": "code",
      "source": [
        "model = BaselineSimpleModel(300,1)\n",
        "val_data = test_dataset.split()\n",
        "val_dataset = HaSpeeDe_Dataset(val_data)\n",
        "train_loader = test_dataset.get_dataloader(64)\n",
        "val_loader = val_dataset.get_dataloader(64)\n",
        "trainer = Trainer(model,train_loader, val_loader, Adam(), nn.BCELoss())"
      ],
      "metadata": {
        "id": "1cg4OOQC3RBX"
      },
      "id": "1cg4OOQC3RBX",
      "execution_count": null,
      "outputs": []
    }
  ],
  "metadata": {
    "kernelspec": {
      "display_name": "Python 3",
      "language": "python",
      "name": "python3"
    },
    "language_info": {
      "codemirror_mode": {
        "name": "ipython",
        "version": 2
      },
      "file_extension": ".py",
      "mimetype": "text/x-python",
      "name": "python",
      "nbconvert_exporter": "python",
      "pygments_lexer": "ipython2",
      "version": "2.7.6"
    },
    "colab": {
      "provenance": []
    }
  },
  "nbformat": 4,
  "nbformat_minor": 5
}