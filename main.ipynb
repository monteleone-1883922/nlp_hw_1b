{
 "cells": [
  {
   "cell_type": "code",
   "execution_count": null,
   "id": "initial_id",
   "metadata": {
    "collapsed": true,
    "id": "initial_id"
   },
   "outputs": [],
   "source": []
  },
  {
   "cell_type": "code",
   "source": [
    "from google.colab import drive\n",
    "import drive.mount('/content/drive')"
   ],
   "metadata": {
    "id": "wNSux8-tDrJM",
    "outputId": "be3de3a2-b673-47c5-e696-105a7e3a84bd",
    "colab": {
     "base_uri": "https://localhost:8080/"
    }
   },
   "id": "wNSux8-tDrJM",
   "execution_count": 1,
   "outputs": [
    {
     "output_type": "stream",
     "name": "stdout",
     "text": [
      "Mounted at /content/drive\n"
     ]
    }
   ]
  },
  {
   "cell_type": "code",
   "source": [
    "import json\n",
    "import numpy as np\n",
    "from sklearn.metrics import confusion_matrix, precision_score, recall_score, f1_score, accuracy_score\n",
    "import torch\n",
    "from torch.utils.data import Dataset, DataLoader\n",
    "from torch import nn\n",
    "import fasttext.util\n",
    "from torch.nn.utils.rnn import pad_sequence\n",
    "import plotly.express as px\n"
   ],
   "metadata": {
    "id": "IMGr7gQSGWQn"
   },
   "id": "IMGr7gQSGWQn",
   "execution_count": null,
   "outputs": []
  },
  {
   "cell_type": "code",
   "source": [
    "# \"neutrale\", \"odio\"\n",
    "\n",
    "ROOT_PATH = \"/content/drive/MyDrive/uni/nlp/nlp2024-hw1-b\"\n",
    "\n"
   ],
   "metadata": {
    "id": "2qvDmn3hEWX7"
   },
   "id": "2qvDmn3hEWX7",
   "execution_count": null,
   "outputs": []
  },
  {
   "cell_type": "code",
   "source": [
    "\n",
    "\n",
    "class HaSpeeDe_Dataset(Dataset):\n",
    "    \n",
    "    \n",
    "    def __init__(self, data_path: str, data: list[tuple[list, int]]=None, use_embeddings: bool=False, stopwords_file_path: str=\"\", device=\"cpu\") -> None:\n",
    "        self.device = device\n",
    "        if data is not None:\n",
    "            self.data = data\n",
    "        else:\n",
    "            if stopwords_file_path != \"\":\n",
    "                with open(stopwords_file_path, 'r', encoding=\"UTF8\") as f:\n",
    "                    stopwords = f.readlines() #controllare carattere di andare a capo\n",
    "            if use_embeddings:\n",
    "                fasttext.util.download_model('it', if_exists='ignore')\n",
    "                embeddings = fasttext.load_model('cc.it.300.bin')\n",
    "            self.data = []\n",
    "            with open(data_path, 'r', encoding=\"UTF8\") as f:\n",
    "                for line in f:\n",
    "                    item = json.loads(line)\n",
    "                    sentence = item['text'].split()\n",
    "                    if stopwords_file_path != \"\":\n",
    "                        sentence = [word for word in sentence if word not in stopwords]\n",
    "                    if use_embeddings:\n",
    "                        embedded_sentence = []\n",
    "                        for word in sentence:\n",
    "                            embedded_sentence.append(embeddings.get_word_vector(word))\n",
    "                        sentence = embedded_sentence  \n",
    "                    self.data.append((sentence, item['label']))\n",
    "                    \n",
    "    def __len__(self) -> int:\n",
    "        return len(self.data)\n",
    "    \n",
    "    def __getitem__(self, idx: int) -> tuple[list, int]:\n",
    "        return self.data[idx]\n",
    "    \n",
    "    def split(self, prc: float) -> list[tuple[list, int]]:\n",
    "        validation_size = int(prc * len(self.data))\n",
    "        train_size = len(self.data) - validation_size\n",
    "        validation_data, self.data = torch.utils.data.random_split(self.data, [validation_size, train_size])\n",
    "        return validation_data\n",
    "    \n",
    "    \n",
    "    def collate(self, batch: list[tuple[list, int]]) -> tuple[torch.Tensor, torch.Tensor]:\n",
    "        texts, labels = zip(*batch)\n",
    "        texts = pad_sequence([torch.tensor(text) for text in texts], batch_first=True)\n",
    "        return texts.to(self.device), torch.tensor(labels).to(self.device)\n",
    "    \n",
    "    def get_dataloader(self, batch_size: int, shuffle: bool) -> DataLoader:\n",
    "        return DataLoader(self, batch_size=batch_size, shuffle=shuffle)\n",
    "\n",
    "\n",
    "    def print_data_analysis(self):\n",
    "        y= [0,0]\n",
    "        for el in self.data:\n",
    "            if el[1] == 1:\n",
    "                y[1] += 1\n",
    "            else:\n",
    "                y[0] += 1\n",
    "        fig = px.bar(x=[\"neutrale\", \"odio\"], y=y)\n",
    "        fig.show()\n",
    "        \n",
    "\n",
    "\n",
    "\n"
   ],
   "metadata": {
    "id": "h7bb8_RtGcHn"
   },
   "id": "h7bb8_RtGcHn",
   "execution_count": null,
   "outputs": []
  },
  {
   "metadata": {},
   "cell_type": "code",
   "outputs": [],
   "execution_count": null,
   "source": [
    "\n",
    "def evaluation_parameters(y_true, y_pred):\n",
    "    cm = confusion_matrix(y_true, y_pred).ravel()\n",
    "    precision = precision_score(y_true, y_pred)\n",
    "    recall = recall_score(y_true, y_pred)\n",
    "    f1 = f1_score(y_true, y_pred)\n",
    "    accuracy = accuracy_score(y_true, y_pred)\n",
    "    return cm, precision, recall, f1, accuracy\n",
    "\n"
   ],
   "id": "5a9c4784e97e9198"
  },
  {
   "metadata": {},
   "cell_type": "code",
   "outputs": [],
   "execution_count": null,
   "source": [
    "\n",
    "\n",
    "class Trainer():\n",
    "    \n",
    "    def __init__(self, model,train_dataloader, validation_dataloader, optimizer, loss_function, device):\n",
    "        self.model = model.to(device)\n",
    "        self.train_dataloader = train_dataloader\n",
    "        self.validation_dataloader = validation_dataloader\n",
    "        self.optimizer = optimizer\n",
    "        self.loss_function = loss_function\n",
    "        self.device = device\n",
    "        \n",
    "        \n",
    "\n",
    "\n",
    "    def train(self, epochs: int):\n",
    "        for epoch in range(epochs):\n",
    "            self.model.train()  # Set the model to training mode\n",
    "            total_loss = 0\n",
    "            all_predictions = torch.tensor([], device=self.device)\n",
    "            all_targets = torch.tensor([], device=self.device)\n",
    "            for batch in self.train_dataloader:\n",
    "                # Get the inputs and targets from the batch\n",
    "                inputs, targets = batch\n",
    "                # Zero the gradients\n",
    "                self.optimizer.zero_grad()\n",
    "                # Forward pass\n",
    "                outputs = self.model(inputs)\n",
    "                # Compute loss\n",
    "                loss = self.loss_function(outputs, targets)\n",
    "                # Backward pass and optimize\n",
    "                loss.backward()\n",
    "                self.optimizer.step()\n",
    "                # Accumulate the total loss\n",
    "                total_loss += loss.item()\n",
    "                # Store predictions and targets\n",
    "                all_predictions = torch.cat((all_predictions, outputs.squeeze().round()))\n",
    "                all_targets = torch.cat((all_targets, targets))\n",
    "            # Print the average loss for this epoch\n",
    "            print(f\"Epoch {epoch+1}/{epochs}, Loss: {total_loss / len(self.train_dataloader)}\")\n",
    "\n",
    "    def validate(self, loss_fn):\n",
    "        self.model.eval()  # Set the model to evaluation mode\n",
    "        total_loss = 0\n",
    "        with torch.no_grad():  # Do not calculate gradients\n",
    "            for batch in self.validation_dataloader:\n",
    "                # Get the inputs and targets from the batch\n",
    "                inputs, targets = batch\n",
    "                # Forward pass\n",
    "                outputs = self.model(inputs)\n",
    "                # Compute loss\n",
    "                loss = self.loss_function(outputs, targets)\n",
    "                # Accumulate the total loss\n",
    "                total_loss += loss.item()\n",
    "        # Return the average loss\n",
    "        return total_loss / len(self.validation_dataloader)\n",
    "\n"
   ],
   "id": "7f1bfbd3e87da811"
  },
  {
   "metadata": {},
   "cell_type": "code",
   "outputs": [],
   "execution_count": null,
   "source": [
    "\n",
    "\n",
    "class BaselineStratifiedModel(nn.Module):\n",
    "    \n",
    "    def __init__(self, len0, len1):\n",
    "        super(BaselineStratifiedModel, self).__init__()\n",
    "        self.p = len0/(len0+len1)\n",
    "        \n",
    "    def forward(self, x):\n",
    "        return torch.tensor([0 if np.random.rand() < self.p else 1 for _ in range(x.shape[0])])\n",
    "\n",
    "\n",
    "\n",
    "class BaselineSimpleModel(nn.Module):\n",
    "    \n",
    "    def __init__(self):\n",
    "        super(BaselineSimpleModel, self).__init__()\n",
    "\n"
   ],
   "id": "7b8f80c18c765ff"
  }
 ],
 "metadata": {
  "kernelspec": {
   "display_name": "Python 3",
   "language": "python",
   "name": "python3"
  },
  "language_info": {
   "codemirror_mode": {
    "name": "ipython",
    "version": 2
   },
   "file_extension": ".py",
   "mimetype": "text/x-python",
   "name": "python",
   "nbconvert_exporter": "python",
   "pygments_lexer": "ipython2",
   "version": "2.7.6"
  },
  "colab": {
   "provenance": []
  }
 },
 "nbformat": 4,
 "nbformat_minor": 5
}
