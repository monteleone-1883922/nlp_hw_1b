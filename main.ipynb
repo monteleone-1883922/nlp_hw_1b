{
 "cells": [
  {
   "cell_type": "code",
   "execution_count": 1,
   "id": "initial_id",
   "metadata": {
    "id": "initial_id",
    "colab": {
     "base_uri": "https://localhost:8080/"
    },
    "outputId": "09c7187a-7c8e-4d1f-ba83-3f47a453a028"
   },
   "outputs": [
    {
     "output_type": "stream",
     "name": "stdout",
     "text": [
      "Requirement already satisfied: wandb in /usr/local/lib/python3.10/dist-packages (0.16.6)\n",
      "Requirement already satisfied: fasttext in /usr/local/lib/python3.10/dist-packages (0.9.2)\n",
      "Requirement already satisfied: plotly in /usr/local/lib/python3.10/dist-packages (5.15.0)\n",
      "Requirement already satisfied: Click!=8.0.0,>=7.1 in /usr/local/lib/python3.10/dist-packages (from wandb) (8.1.7)\n",
      "Requirement already satisfied: GitPython!=3.1.29,>=1.0.0 in /usr/local/lib/python3.10/dist-packages (from wandb) (3.1.43)\n",
      "Requirement already satisfied: requests<3,>=2.0.0 in /usr/local/lib/python3.10/dist-packages (from wandb) (2.31.0)\n",
      "Requirement already satisfied: psutil>=5.0.0 in /usr/local/lib/python3.10/dist-packages (from wandb) (5.9.5)\n",
      "Requirement already satisfied: sentry-sdk>=1.0.0 in /usr/local/lib/python3.10/dist-packages (from wandb) (2.0.0)\n",
      "Requirement already satisfied: docker-pycreds>=0.4.0 in /usr/local/lib/python3.10/dist-packages (from wandb) (0.4.0)\n",
      "Requirement already satisfied: PyYAML in /usr/local/lib/python3.10/dist-packages (from wandb) (6.0.1)\n",
      "Requirement already satisfied: setproctitle in /usr/local/lib/python3.10/dist-packages (from wandb) (1.3.3)\n",
      "Requirement already satisfied: setuptools in /usr/local/lib/python3.10/dist-packages (from wandb) (67.7.2)\n",
      "Requirement already satisfied: appdirs>=1.4.3 in /usr/local/lib/python3.10/dist-packages (from wandb) (1.4.4)\n",
      "Requirement already satisfied: protobuf!=4.21.0,<5,>=3.19.0 in /usr/local/lib/python3.10/dist-packages (from wandb) (3.20.3)\n",
      "Requirement already satisfied: pybind11>=2.2 in /usr/local/lib/python3.10/dist-packages (from fasttext) (2.12.0)\n",
      "Requirement already satisfied: numpy in /usr/local/lib/python3.10/dist-packages (from fasttext) (1.25.2)\n",
      "Requirement already satisfied: tenacity>=6.2.0 in /usr/local/lib/python3.10/dist-packages (from plotly) (8.2.3)\n",
      "Requirement already satisfied: packaging in /usr/local/lib/python3.10/dist-packages (from plotly) (24.0)\n",
      "Requirement already satisfied: six>=1.4.0 in /usr/local/lib/python3.10/dist-packages (from docker-pycreds>=0.4.0->wandb) (1.16.0)\n",
      "Requirement already satisfied: gitdb<5,>=4.0.1 in /usr/local/lib/python3.10/dist-packages (from GitPython!=3.1.29,>=1.0.0->wandb) (4.0.11)\n",
      "Requirement already satisfied: charset-normalizer<4,>=2 in /usr/local/lib/python3.10/dist-packages (from requests<3,>=2.0.0->wandb) (3.3.2)\n",
      "Requirement already satisfied: idna<4,>=2.5 in /usr/local/lib/python3.10/dist-packages (from requests<3,>=2.0.0->wandb) (3.7)\n",
      "Requirement already satisfied: urllib3<3,>=1.21.1 in /usr/local/lib/python3.10/dist-packages (from requests<3,>=2.0.0->wandb) (2.0.7)\n",
      "Requirement already satisfied: certifi>=2017.4.17 in /usr/local/lib/python3.10/dist-packages (from requests<3,>=2.0.0->wandb) (2024.2.2)\n",
      "Requirement already satisfied: smmap<6,>=3.0.1 in /usr/local/lib/python3.10/dist-packages (from gitdb<5,>=4.0.1->GitPython!=3.1.29,>=1.0.0->wandb) (5.0.1)\n"
     ]
    }
   ],
   "source": [
    "!pip install wandb fasttext plotly"
   ]
  },
  {
   "cell_type": "code",
   "source": [
    "from google.colab import drive\n",
    "drive.mount('/content/drive', force_remount=True)"
   ],
   "metadata": {
    "id": "wNSux8-tDrJM",
    "outputId": "8ba646df-f575-4146-8aad-c84a834a1763",
    "colab": {
     "base_uri": "https://localhost:8080/"
    }
   },
   "id": "wNSux8-tDrJM",
   "execution_count": 2,
   "outputs": [
    {
     "output_type": "stream",
     "name": "stdout",
     "text": [
      "Mounted at /content/drive\n"
     ]
    }
   ]
  },
  {
   "cell_type": "code",
   "source": [
    "import json\n",
    "import numpy as np\n",
    "from sklearn.metrics import confusion_matrix, precision_score, recall_score, f1_score, accuracy_score\n",
    "import torch\n",
    "from torch.utils.data import Dataset, DataLoader\n",
    "from torch import nn\n",
    "import fasttext.util\n",
    "import plotly.express as px\n",
    "import sys\n",
    "import wandb\n",
    "from torch.nn.utils.rnn import pad_sequence, pack_padded_sequence, pad_packed_sequence\n",
    "from torch.nn.functional import sigmoid\n",
    "import pdb\n",
    "from torch.optim import Adam, AdamW\n",
    "import random as rnd\n",
    "import nltk\n",
    "nltk.download('punkt')\n",
    "import torch.nn.init as init"
   ],
   "metadata": {
    "id": "IMGr7gQSGWQn",
    "colab": {
     "base_uri": "https://localhost:8080/"
    },
    "outputId": "78c37866-8962-4315-9aa3-12ce62917f5a"
   },
   "id": "IMGr7gQSGWQn",
   "execution_count": 3,
   "outputs": [
    {
     "output_type": "stream",
     "name": "stderr",
     "text": [
      "[nltk_data] Downloading package punkt to /root/nltk_data...\n",
      "[nltk_data]   Package punkt is already up-to-date!\n"
     ]
    }
   ]
  },
  {
   "cell_type": "code",
   "source": [
    "def set_seed(seed):\n",
    "    np.random.seed(seed)\n",
    "    rnd.seed(seed)\n",
    "    torch.manual_seed(seed)\n",
    "    torch.cuda.manual_seed_all(seed)  # Se stai usando GPU\n",
    "\n",
    "# Imposta il seed per avere riproducibilità\n",
    "seed = 42\n",
    "set_seed(seed)"
   ],
   "metadata": {
    "id": "ROsYLnyS_0YJ"
   },
   "id": "ROsYLnyS_0YJ",
   "execution_count": 4,
   "outputs": []
  },
  {
   "cell_type": "code",
   "source": [
    "# \"neutrale\", \"odio\" aaf831dabc88d936d4e6b439b798bb4cb42814ea\n",
    "\n",
    "ROOT_PATH = \"/content/drive/MyDrive/uni/nlp/nlp2024-hw1-b\"\n",
    "\n"
   ],
   "metadata": {
    "id": "2qvDmn3hEWX7"
   },
   "id": "2qvDmn3hEWX7",
   "execution_count": 5,
   "outputs": []
  },
  {
   "metadata": {
    "id": "b7edc7de2e121aa0",
    "colab": {
     "base_uri": "https://localhost:8080/"
    },
    "outputId": "ab6ed54b-b1b1-4941-ac23-0e5bd8584f3e"
   },
   "cell_type": "code",
   "outputs": [
    {
     "output_type": "stream",
     "name": "stderr",
     "text": [
      "\u001B[34m\u001B[1mwandb\u001B[0m: Currently logged in as: \u001B[33mmonteleone-1883922\u001B[0m (\u001B[33mmonteleone\u001B[0m). Use \u001B[1m`wandb login --relogin`\u001B[0m to force relogin\n",
      "\u001B[34m\u001B[1mwandb\u001B[0m: \u001B[33mWARNING\u001B[0m If you're specifying your api key in code, ensure this code is not shared publicly.\n",
      "\u001B[34m\u001B[1mwandb\u001B[0m: \u001B[33mWARNING\u001B[0m Consider setting the WANDB_API_KEY environment variable, or running `wandb login` from the command line.\n",
      "\u001B[34m\u001B[1mwandb\u001B[0m: Appending key for api.wandb.ai to your netrc file: /root/.netrc\n"
     ]
    },
    {
     "output_type": "execute_result",
     "data": {
      "text/plain": [
       "True"
      ]
     },
     "metadata": {},
     "execution_count": 6
    }
   ],
   "execution_count": 6,
   "source": [
    "wandb.login(key='aaf831dabc88d936d4e6b439b798bb4cb42814ea')"
   ],
   "id": "b7edc7de2e121aa0"
  },
  {
   "cell_type": "code",
   "source": [
    "\n",
    "\n",
    "class HaSpeeDe_Dataset(Dataset):\n",
    "\n",
    "\n",
    "    def __init__(self, data_path: str, data: list[tuple[list, int]]=None, use_embeddings: bool=False, stopwords_file_path: str=\"\", device=\"cpu\", encoder=None) -> None:\n",
    "        self.device = device\n",
    "        use_encoder = True\n",
    "        if encoder is None:\n",
    "            encoder = {}\n",
    "            use_encoder = False\n",
    "            j=0\n",
    "            new_embeddings = {}\n",
    "        if data is not None:\n",
    "            self.data = data\n",
    "        else:\n",
    "            stopwords = []\n",
    "            if stopwords_file_path != \"\":\n",
    "                with open(stopwords_file_path, 'r', encoding=\"UTF8\") as f:\n",
    "                    stopwords = f.readlines() #controllare carattere di andare a capo\n",
    "            if use_embeddings:\n",
    "                #fasttext.util.download_model('it', if_exists='ignore')\n",
    "                embeddings = fasttext.load_model(ROOT_PATH + '/cc.it.300.bin')\n",
    "            self.data = []\n",
    "            with open(data_path, 'r', encoding=\"UTF8\") as f:\n",
    "                for line in f:\n",
    "                    item = json.loads(line)\n",
    "                    sentence = nltk.word_tokenize(item['text'], language='italian')\n",
    "                    filtered_sentence = []\n",
    "                    i=0\n",
    "                    while i < len(sentence):\n",
    "                        word = sentence[i]\n",
    "                        if (word == \"#\" or word == \"@\") and i+1 < len(sentence):\n",
    "                            word = word + sentence[i+1]\n",
    "                            i+=1\n",
    "                        if stopwords_file_path == \"\" or word not in stopwords:\n",
    "                            filtered_sentence.append(word)\n",
    "                        i+=1\n",
    "\n",
    "                    if use_embeddings:\n",
    "                        embedded_sentence = []\n",
    "                        for word in sentence:\n",
    "                            if word not in encoder and not use_encoder:\n",
    "                                encoder[word] = j\n",
    "                                j+=1\n",
    "                                new_embeddings[j] = embeddings.get_word_vector(word)\n",
    "                            elif word not in encoder:\n",
    "                                embedded_sentence.append(encoder[\"<UNK>\"])\n",
    "                            else:\n",
    "                                embedded_sentence.append(encoder[word])\n",
    "                        sentence = embedded_sentence\n",
    "                    self.data.append((sentence, item['label']))\n",
    "            if not use_encoder:\n",
    "                encoder[\"<UNK>\"] = j\n",
    "                self.encoding = encoder\n",
    "                new_embeddings[j] = embeddings.get_word_vector(\"<UNK>\")\n",
    "                self.embeddings = new_embeddings\n",
    "\n",
    "    def __len__(self) -> int:\n",
    "        return len(self.data)\n",
    "\n",
    "    def __getitem__(self, idx: int) -> tuple[list, int]:\n",
    "        return self.data[idx]\n",
    "\n",
    "    def split(self, prc: float) -> list[tuple[list, int]]:\n",
    "        validation_size = int(prc * len(self.data))\n",
    "        train_size = len(self.data) - validation_size\n",
    "        validation_data, self.data = torch.utils.data.random_split(self.data, [validation_size, train_size])\n",
    "        return validation_data\n",
    "\n",
    "\n",
    "    def collate(self, batch: list[tuple[list, int]]) -> tuple[torch.Tensor, torch.Tensor, torch.Tensor]:\n",
    "        texts, labels = zip(*batch)\n",
    "        lens = [len(text) for text in texts]\n",
    "        texts = pad_sequence([torch.tensor(text) for text in texts], batch_first=True)\n",
    "        return texts.to(self.device), torch.tensor(labels, dtype=torch.float).to(self.device), torch.tensor(lens).to(self.device)\n",
    "\n",
    "    def get_dataloader(self, batch_size: int, shuffle: bool) -> DataLoader:\n",
    "        return DataLoader(self, batch_size=batch_size, shuffle=shuffle, collate_fn=self.collate)\n",
    "\n",
    "\n",
    "    def print_data_analysis(self):\n",
    "        y= [0,0]\n",
    "        for el in self.data:\n",
    "            if el[1] == 1:\n",
    "                y[1] += 1\n",
    "            else:\n",
    "                y[0] += 1\n",
    "        self.neutral_count = y[0]\n",
    "        self.hateful_count = y[1]\n",
    "        fig = px.bar(x=[\"neutrale\", \"odio\"], y=y)\n",
    "        fig.show()\n",
    "\n",
    "\n",
    "\n",
    "\n"
   ],
   "metadata": {
    "id": "h7bb8_RtGcHn"
   },
   "id": "h7bb8_RtGcHn",
   "execution_count": 7,
   "outputs": []
  },
  {
   "metadata": {
    "id": "cdbbe622d4a727bc"
   },
   "cell_type": "code",
   "outputs": [],
   "execution_count": 8,
   "source": [
    "# Function to print a progress bar\n",
    "def print_progress_bar(percentuale: float, lunghezza_barra: int = 30, text: str=\"\") -> None:\n",
    "    blocchi_compilati = int(lunghezza_barra * percentuale)\n",
    "    barra = \"[\" + \"=\" * (blocchi_compilati - 1) + \">\" + \" \" * (lunghezza_barra - blocchi_compilati) + \"]\"\n",
    "    sys.stdout.write(f\"\\r{barra} {percentuale * 100:.2f}% complete \" + text)\n",
    "    sys.stdout.flush()"
   ],
   "id": "cdbbe622d4a727bc"
  },
  {
   "metadata": {
    "id": "7f1bfbd3e87da811"
   },
   "cell_type": "code",
   "outputs": [],
   "execution_count": 9,
   "source": [
    "\n",
    "\n",
    "class Trainer():\n",
    "\n",
    "    def __init__(self, model,train_dataloader, validation_dataloader, optimizer, loss_function, device, test_dataloader=None):\n",
    "        self.model = model.to(device)\n",
    "        self.train_dataloader = train_dataloader\n",
    "        self.validation_dataloader = validation_dataloader\n",
    "        self.optimizer = optimizer\n",
    "        self.loss_function = loss_function\n",
    "        self.device = device\n",
    "        self.test_dataloader = test_dataloader\n",
    "\n",
    "\n",
    "    @staticmethod\n",
    "    def evaluation_parameters(y_true, y_pred):\n",
    "        cm = confusion_matrix(y_true, y_pred).ravel()\n",
    "        precision = precision_score(y_true, y_pred)\n",
    "        recall = recall_score(y_true, y_pred)\n",
    "        f1 = f1_score(y_true, y_pred)\n",
    "        accuracy = accuracy_score(y_true, y_pred)\n",
    "        return cm, precision, recall, f1, accuracy\n",
    "\n",
    "\n",
    "    def train(self, epochs: int, use_wandb: bool = False, config: dict = {}, name: str=\"\", target_f1: float=0.0):\n",
    "        best_model = None\n",
    "        save = False\n",
    "        if use_wandb:\n",
    "            wandb.init(\n",
    "                # Set the project where this run will be logged\n",
    "                project=\"nlp-hw-1b\",\n",
    "                name=name,\n",
    "                # Track hyperparameters and run metadata\n",
    "                config=config\n",
    "            )\n",
    "        for epoch in range(epochs):\n",
    "            self.model.train()  # Set the model to training mode\n",
    "            total_loss = 0\n",
    "            #breakpoint()\n",
    "            for i, batch in enumerate(self.train_dataloader):\n",
    "                print_progress_bar(i / len(self.train_dataloader), text=f\"| training epoch {epoch}\")\n",
    "                # Get the inputs and targets from the batch\n",
    "                inputs, targets, lens = batch\n",
    "\n",
    "                # Zero the gradients\n",
    "                self.optimizer.zero_grad()\n",
    "                # Forward pass\n",
    "                outputs = self.model((inputs, lens))\n",
    "                #print(\"outputs = \", outputs,\"\\ntargets = \", targets)\n",
    "                #breakpoint()\n",
    "                # Compute loss\n",
    "                loss = self.loss_function(outputs, targets)\n",
    "                #print(loss)\n",
    "                # Backward pass and optimize\n",
    "                loss.backward()\n",
    "                self.optimizer.step()\n",
    "                # Accumulate the total loss\n",
    "                total_loss += loss.item()\n",
    "\n",
    "            # Print the average loss for this epoch\n",
    "            validation_loss, precision, recall, f1, accuracy = self.validate(use_wandb)\n",
    "            if f1 > target_f1:\n",
    "                best_model = self.model.state_dict()\n",
    "                target_f1 = f1\n",
    "                save = True\n",
    "            if use_wandb:\n",
    "                wandb.log({\"validation_loss\": validation_loss,\n",
    "                      \"precision\": precision,\n",
    "                      \"recall\": recall,\n",
    "                      \"f1\": f1,\n",
    "                      \"accuracy\": accuracy,\n",
    "                      \"train_loss\": total_loss / len(self.train_dataloader)})\n",
    "        if save:\n",
    "            torch.save(best_model, name + f'{target_f1}.pth')\n",
    "        print(target_f1)\n",
    "        if use_wandb:\n",
    "            wandb.finish()\n",
    "\n",
    "\n",
    "\n",
    "    def validate(self, use_wandb: bool = False, test=False):\n",
    "        dataloader = self.test_dataloader if test else self.validation_dataloader\n",
    "        if dataloader is None:\n",
    "            print(\"empty dataloader!\")\n",
    "            exit(1)\n",
    "        self.model.eval()  # Set the model to evaluation mode\n",
    "        total_loss = 0\n",
    "        all_predictions = torch.tensor([])\n",
    "        all_targets = torch.tensor([])\n",
    "        with torch.no_grad():  # Do not calculate gradients\n",
    "            for i, batch in enumerate(self.validation_dataloader):\n",
    "                print_progress_bar(i / len(dataloader), text=\"| validation\")\n",
    "                # Get the inputs and targets from the batch\n",
    "                inputs, targets, lens = batch\n",
    "\n",
    "                # Forward pass\n",
    "                outputs = self.model((inputs,lens))\n",
    "                # Compute loss\n",
    "                #breakpoint()\n",
    "                loss = self.loss_function(outputs, targets)\n",
    "                # Accumulate the total loss\n",
    "                total_loss += loss.item()\n",
    "                # Store predictions and targets\n",
    "                all_predictions = torch.cat((all_predictions, outputs.squeeze().round().cpu()))\n",
    "                all_targets = torch.cat((all_targets, targets.cpu()))\n",
    "        validation_loss = total_loss / len(self.validation_dataloader)\n",
    "        #breakpoint()\n",
    "        precision = precision_score(all_targets, all_predictions)\n",
    "        recall = recall_score(all_targets, all_predictions)\n",
    "        f1 = f1_score(all_targets, all_predictions)\n",
    "        accuracy = accuracy_score(all_targets, all_predictions)\n",
    "        return validation_loss, precision, recall, f1, accuracy\n",
    "\n",
    "\n"
   ],
   "id": "7f1bfbd3e87da811"
  },
  {
   "metadata": {
    "id": "7b8f80c18c765ff"
   },
   "cell_type": "code",
   "outputs": [],
   "execution_count": 10,
   "source": [
    "\n",
    "\n",
    "class BaselineStratifiedModel(nn.Module):\n",
    "\n",
    "    def __init__(self, len0, len1):\n",
    "        super(BaselineStratifiedModel, self).__init__()\n",
    "        self.p = len0/(len0+len1)\n",
    "\n",
    "    def forward(self, x):\n",
    "        return torch.tensor([0 if np.random.rand() < self.p else 1 for _ in range(x[0].shape[0])], dtype=torch.float)\n",
    "\n",
    "\n",
    "\n",
    "class BaselineSimpleModel(nn.Module):\n",
    "\n",
    "    def __init__(self, input_size, output_size):\n",
    "        super(BaselineSimpleModel, self).__init__()\n",
    "        self.linear = nn.Linear(input_size, output_size)\n",
    "        # for param in self.linear.parameters():\n",
    "        #     param.requires_grad = True\n",
    "\n",
    "    def forward(self, x):\n",
    "        #breakpoint()\n",
    "        seq, lens = x\n",
    "        packed = pack_padded_sequence(seq, lens, batch_first=True, enforce_sorted=False)\n",
    "        data = self.linear(packed.data).squeeze()\n",
    "        data = sigmoid(data)\n",
    "        packed = torch.nn.utils.rnn.PackedSequence(data, packed.batch_sizes, packed.sorted_indices, packed.unsorted_indices)\n",
    "        seq, lens = pad_packed_sequence(packed, batch_first=True)\n",
    "        seq_mean = seq.sum(dim=1) / lens.float() #torch.tensor([sum(el)/len(el) for el in seq])\n",
    "        #breakpoint()\n",
    "        return seq_mean\n",
    "\n",
    "\n",
    "\n"
   ],
   "id": "7b8f80c18c765ff"
  },
  {
   "metadata": {
    "id": "c21cab974cff8cac"
   },
   "cell_type": "code",
   "outputs": [],
   "execution_count": 11,
   "source": [
    "\n",
    "class HateDetectionModule(nn.Module):\n",
    "\n",
    "    def __init__(self, input_size, hidden_size,sizes, dropout=0, lstm_layers=1,embeddings=None):\n",
    "        super(HateDetectionModule,self).__init__()\n",
    "        self.init_classifier(sizes,dropout)\n",
    "        self.lstm = nn.LSTM(input_size, hidden_size, batch_first=True, dropout=dropout, bidirectional=True, num_layers=lstm_layers)\n",
    "        self.sigmoid = nn.Sigmoid()\n",
    "        self.dropout = nn.Dropout(dropout)\n",
    "\n",
    "        for name, param in self.lstm.named_parameters():\n",
    "            if 'weight' in name:\n",
    "                init.xavier_uniform_(param)\n",
    "\n",
    "        self.embeddings = nn.Embedding(len(embeddings), 300)\n",
    "        self.embeddings.weight.data.copy_(embeddings)\n",
    "\n",
    "\n",
    "    def init_classifier(self,sizes, dropout=0):\n",
    "        sequence = []\n",
    "        for i in range(len(sizes)-1):\n",
    "            sequence += [nn.Linear(sizes[i],sizes[i+1]), nn.ReLU(), nn.Dropout(dropout)]\n",
    "        self.classifier = nn.Sequential(*sequence[:-2])\n",
    "        for name, param in self.classifier.named_parameters():\n",
    "            if 'weight' in name:\n",
    "                init.xavier_uniform_(param)\n",
    "\n",
    "\n",
    "    def forward(self,x):\n",
    "\n",
    "        input,lengths = x\n",
    "\n",
    "\n",
    "        embeddings = self.embeddings(input)\n",
    "        embeddings = self.dropout(embeddings)\n",
    "\n",
    "        lens = lengths.cpu()\n",
    "        #breakpoint()\n",
    "        padded = pack_padded_sequence(embeddings,lens, batch_first=True,enforce_sorted=False)\n",
    "\n",
    "        #breakpoint()\n",
    "\n",
    "        o, (h, c) = self.lstm(padded)\n",
    "        #breakpoint()\n",
    "\n",
    "        out = torch.cat((h[-2,:,:], h[-1,:,:]), dim = 1) #pad_packed_sequence(o,batch_first=True)[0].squeeze()\n",
    "\n",
    "        output = self.classifier(out).squeeze()\n",
    "        return self.sigmoid(output)\n",
    "\n",
    "\n"
   ],
   "id": "c21cab974cff8cac"
  },
  {
   "cell_type": "code",
   "source": [
    "\n",
    "train_dataset = HaSpeeDe_Dataset(ROOT_PATH + \"/train-taskA.jsonl\", use_embeddings=True)#, stopwords_file_path=ROOT_PATH + \"/stopwords-it.txt\")\n",
    "train_dataset.print_data_analysis()\n",
    "encoder = train_dataset.encoding\n",
    "embeddings = train_dataset.embeddings"
   ],
   "metadata": {
    "colab": {
     "base_uri": "https://localhost:8080/",
     "height": 560
    },
    "id": "ZxbpWZKi2hR7",
    "outputId": "63091f88-4d55-4454-afe3-8d64868f1343"
   },
   "id": "ZxbpWZKi2hR7",
   "execution_count": 41,
   "outputs": [
    {
     "output_type": "stream",
     "name": "stderr",
     "text": [
      "Warning : `load_model` does not return WordVectorModel or SupervisedModel any more, but a `FastText` object which is very similar.\n"
     ]
    },
    {
     "output_type": "display_data",
     "data": {
      "text/html": [
       "<html>\n",
       "<head><meta charset=\"utf-8\" /></head>\n",
       "<body>\n",
       "    <div>            <script src=\"https://cdnjs.cloudflare.com/ajax/libs/mathjax/2.7.5/MathJax.js?config=TeX-AMS-MML_SVG\"></script><script type=\"text/javascript\">if (window.MathJax && window.MathJax.Hub && window.MathJax.Hub.Config) {window.MathJax.Hub.Config({SVG: {font: \"STIX-Web\"}});}</script>                <script type=\"text/javascript\">window.PlotlyConfig = {MathJaxConfig: 'local'};</script>\n",
       "        <script charset=\"utf-8\" src=\"https://cdn.plot.ly/plotly-2.24.1.min.js\"></script>                <div id=\"17bf92b5-e6de-43e3-aff5-6cd835fb8fcd\" class=\"plotly-graph-div\" style=\"height:525px; width:100%;\"></div>            <script type=\"text/javascript\">                                    window.PLOTLYENV=window.PLOTLYENV || {};                                    if (document.getElementById(\"17bf92b5-e6de-43e3-aff5-6cd835fb8fcd\")) {                    Plotly.newPlot(                        \"17bf92b5-e6de-43e3-aff5-6cd835fb8fcd\",                        [{\"alignmentgroup\":\"True\",\"hovertemplate\":\"x=%{x}\\u003cbr\\u003ey=%{y}\\u003cextra\\u003e\\u003c\\u002fextra\\u003e\",\"legendgroup\":\"\",\"marker\":{\"color\":\"#636efa\",\"pattern\":{\"shape\":\"\"}},\"name\":\"\",\"offsetgroup\":\"\",\"orientation\":\"v\",\"showlegend\":false,\"textposition\":\"auto\",\"x\":[\"neutrale\",\"odio\"],\"xaxis\":\"x\",\"y\":[4073,2766],\"yaxis\":\"y\",\"type\":\"bar\"}],                        {\"template\":{\"data\":{\"histogram2dcontour\":[{\"type\":\"histogram2dcontour\",\"colorbar\":{\"outlinewidth\":0,\"ticks\":\"\"},\"colorscale\":[[0.0,\"#0d0887\"],[0.1111111111111111,\"#46039f\"],[0.2222222222222222,\"#7201a8\"],[0.3333333333333333,\"#9c179e\"],[0.4444444444444444,\"#bd3786\"],[0.5555555555555556,\"#d8576b\"],[0.6666666666666666,\"#ed7953\"],[0.7777777777777778,\"#fb9f3a\"],[0.8888888888888888,\"#fdca26\"],[1.0,\"#f0f921\"]]}],\"choropleth\":[{\"type\":\"choropleth\",\"colorbar\":{\"outlinewidth\":0,\"ticks\":\"\"}}],\"histogram2d\":[{\"type\":\"histogram2d\",\"colorbar\":{\"outlinewidth\":0,\"ticks\":\"\"},\"colorscale\":[[0.0,\"#0d0887\"],[0.1111111111111111,\"#46039f\"],[0.2222222222222222,\"#7201a8\"],[0.3333333333333333,\"#9c179e\"],[0.4444444444444444,\"#bd3786\"],[0.5555555555555556,\"#d8576b\"],[0.6666666666666666,\"#ed7953\"],[0.7777777777777778,\"#fb9f3a\"],[0.8888888888888888,\"#fdca26\"],[1.0,\"#f0f921\"]]}],\"heatmap\":[{\"type\":\"heatmap\",\"colorbar\":{\"outlinewidth\":0,\"ticks\":\"\"},\"colorscale\":[[0.0,\"#0d0887\"],[0.1111111111111111,\"#46039f\"],[0.2222222222222222,\"#7201a8\"],[0.3333333333333333,\"#9c179e\"],[0.4444444444444444,\"#bd3786\"],[0.5555555555555556,\"#d8576b\"],[0.6666666666666666,\"#ed7953\"],[0.7777777777777778,\"#fb9f3a\"],[0.8888888888888888,\"#fdca26\"],[1.0,\"#f0f921\"]]}],\"heatmapgl\":[{\"type\":\"heatmapgl\",\"colorbar\":{\"outlinewidth\":0,\"ticks\":\"\"},\"colorscale\":[[0.0,\"#0d0887\"],[0.1111111111111111,\"#46039f\"],[0.2222222222222222,\"#7201a8\"],[0.3333333333333333,\"#9c179e\"],[0.4444444444444444,\"#bd3786\"],[0.5555555555555556,\"#d8576b\"],[0.6666666666666666,\"#ed7953\"],[0.7777777777777778,\"#fb9f3a\"],[0.8888888888888888,\"#fdca26\"],[1.0,\"#f0f921\"]]}],\"contourcarpet\":[{\"type\":\"contourcarpet\",\"colorbar\":{\"outlinewidth\":0,\"ticks\":\"\"}}],\"contour\":[{\"type\":\"contour\",\"colorbar\":{\"outlinewidth\":0,\"ticks\":\"\"},\"colorscale\":[[0.0,\"#0d0887\"],[0.1111111111111111,\"#46039f\"],[0.2222222222222222,\"#7201a8\"],[0.3333333333333333,\"#9c179e\"],[0.4444444444444444,\"#bd3786\"],[0.5555555555555556,\"#d8576b\"],[0.6666666666666666,\"#ed7953\"],[0.7777777777777778,\"#fb9f3a\"],[0.8888888888888888,\"#fdca26\"],[1.0,\"#f0f921\"]]}],\"surface\":[{\"type\":\"surface\",\"colorbar\":{\"outlinewidth\":0,\"ticks\":\"\"},\"colorscale\":[[0.0,\"#0d0887\"],[0.1111111111111111,\"#46039f\"],[0.2222222222222222,\"#7201a8\"],[0.3333333333333333,\"#9c179e\"],[0.4444444444444444,\"#bd3786\"],[0.5555555555555556,\"#d8576b\"],[0.6666666666666666,\"#ed7953\"],[0.7777777777777778,\"#fb9f3a\"],[0.8888888888888888,\"#fdca26\"],[1.0,\"#f0f921\"]]}],\"mesh3d\":[{\"type\":\"mesh3d\",\"colorbar\":{\"outlinewidth\":0,\"ticks\":\"\"}}],\"scatter\":[{\"fillpattern\":{\"fillmode\":\"overlay\",\"size\":10,\"solidity\":0.2},\"type\":\"scatter\"}],\"parcoords\":[{\"type\":\"parcoords\",\"line\":{\"colorbar\":{\"outlinewidth\":0,\"ticks\":\"\"}}}],\"scatterpolargl\":[{\"type\":\"scatterpolargl\",\"marker\":{\"colorbar\":{\"outlinewidth\":0,\"ticks\":\"\"}}}],\"bar\":[{\"error_x\":{\"color\":\"#2a3f5f\"},\"error_y\":{\"color\":\"#2a3f5f\"},\"marker\":{\"line\":{\"color\":\"#E5ECF6\",\"width\":0.5},\"pattern\":{\"fillmode\":\"overlay\",\"size\":10,\"solidity\":0.2}},\"type\":\"bar\"}],\"scattergeo\":[{\"type\":\"scattergeo\",\"marker\":{\"colorbar\":{\"outlinewidth\":0,\"ticks\":\"\"}}}],\"scatterpolar\":[{\"type\":\"scatterpolar\",\"marker\":{\"colorbar\":{\"outlinewidth\":0,\"ticks\":\"\"}}}],\"histogram\":[{\"marker\":{\"pattern\":{\"fillmode\":\"overlay\",\"size\":10,\"solidity\":0.2}},\"type\":\"histogram\"}],\"scattergl\":[{\"type\":\"scattergl\",\"marker\":{\"colorbar\":{\"outlinewidth\":0,\"ticks\":\"\"}}}],\"scatter3d\":[{\"type\":\"scatter3d\",\"line\":{\"colorbar\":{\"outlinewidth\":0,\"ticks\":\"\"}},\"marker\":{\"colorbar\":{\"outlinewidth\":0,\"ticks\":\"\"}}}],\"scattermapbox\":[{\"type\":\"scattermapbox\",\"marker\":{\"colorbar\":{\"outlinewidth\":0,\"ticks\":\"\"}}}],\"scatterternary\":[{\"type\":\"scatterternary\",\"marker\":{\"colorbar\":{\"outlinewidth\":0,\"ticks\":\"\"}}}],\"scattercarpet\":[{\"type\":\"scattercarpet\",\"marker\":{\"colorbar\":{\"outlinewidth\":0,\"ticks\":\"\"}}}],\"carpet\":[{\"aaxis\":{\"endlinecolor\":\"#2a3f5f\",\"gridcolor\":\"white\",\"linecolor\":\"white\",\"minorgridcolor\":\"white\",\"startlinecolor\":\"#2a3f5f\"},\"baxis\":{\"endlinecolor\":\"#2a3f5f\",\"gridcolor\":\"white\",\"linecolor\":\"white\",\"minorgridcolor\":\"white\",\"startlinecolor\":\"#2a3f5f\"},\"type\":\"carpet\"}],\"table\":[{\"cells\":{\"fill\":{\"color\":\"#EBF0F8\"},\"line\":{\"color\":\"white\"}},\"header\":{\"fill\":{\"color\":\"#C8D4E3\"},\"line\":{\"color\":\"white\"}},\"type\":\"table\"}],\"barpolar\":[{\"marker\":{\"line\":{\"color\":\"#E5ECF6\",\"width\":0.5},\"pattern\":{\"fillmode\":\"overlay\",\"size\":10,\"solidity\":0.2}},\"type\":\"barpolar\"}],\"pie\":[{\"automargin\":true,\"type\":\"pie\"}]},\"layout\":{\"autotypenumbers\":\"strict\",\"colorway\":[\"#636efa\",\"#EF553B\",\"#00cc96\",\"#ab63fa\",\"#FFA15A\",\"#19d3f3\",\"#FF6692\",\"#B6E880\",\"#FF97FF\",\"#FECB52\"],\"font\":{\"color\":\"#2a3f5f\"},\"hovermode\":\"closest\",\"hoverlabel\":{\"align\":\"left\"},\"paper_bgcolor\":\"white\",\"plot_bgcolor\":\"#E5ECF6\",\"polar\":{\"bgcolor\":\"#E5ECF6\",\"angularaxis\":{\"gridcolor\":\"white\",\"linecolor\":\"white\",\"ticks\":\"\"},\"radialaxis\":{\"gridcolor\":\"white\",\"linecolor\":\"white\",\"ticks\":\"\"}},\"ternary\":{\"bgcolor\":\"#E5ECF6\",\"aaxis\":{\"gridcolor\":\"white\",\"linecolor\":\"white\",\"ticks\":\"\"},\"baxis\":{\"gridcolor\":\"white\",\"linecolor\":\"white\",\"ticks\":\"\"},\"caxis\":{\"gridcolor\":\"white\",\"linecolor\":\"white\",\"ticks\":\"\"}},\"coloraxis\":{\"colorbar\":{\"outlinewidth\":0,\"ticks\":\"\"}},\"colorscale\":{\"sequential\":[[0.0,\"#0d0887\"],[0.1111111111111111,\"#46039f\"],[0.2222222222222222,\"#7201a8\"],[0.3333333333333333,\"#9c179e\"],[0.4444444444444444,\"#bd3786\"],[0.5555555555555556,\"#d8576b\"],[0.6666666666666666,\"#ed7953\"],[0.7777777777777778,\"#fb9f3a\"],[0.8888888888888888,\"#fdca26\"],[1.0,\"#f0f921\"]],\"sequentialminus\":[[0.0,\"#0d0887\"],[0.1111111111111111,\"#46039f\"],[0.2222222222222222,\"#7201a8\"],[0.3333333333333333,\"#9c179e\"],[0.4444444444444444,\"#bd3786\"],[0.5555555555555556,\"#d8576b\"],[0.6666666666666666,\"#ed7953\"],[0.7777777777777778,\"#fb9f3a\"],[0.8888888888888888,\"#fdca26\"],[1.0,\"#f0f921\"]],\"diverging\":[[0,\"#8e0152\"],[0.1,\"#c51b7d\"],[0.2,\"#de77ae\"],[0.3,\"#f1b6da\"],[0.4,\"#fde0ef\"],[0.5,\"#f7f7f7\"],[0.6,\"#e6f5d0\"],[0.7,\"#b8e186\"],[0.8,\"#7fbc41\"],[0.9,\"#4d9221\"],[1,\"#276419\"]]},\"xaxis\":{\"gridcolor\":\"white\",\"linecolor\":\"white\",\"ticks\":\"\",\"title\":{\"standoff\":15},\"zerolinecolor\":\"white\",\"automargin\":true,\"zerolinewidth\":2},\"yaxis\":{\"gridcolor\":\"white\",\"linecolor\":\"white\",\"ticks\":\"\",\"title\":{\"standoff\":15},\"zerolinecolor\":\"white\",\"automargin\":true,\"zerolinewidth\":2},\"scene\":{\"xaxis\":{\"backgroundcolor\":\"#E5ECF6\",\"gridcolor\":\"white\",\"linecolor\":\"white\",\"showbackground\":true,\"ticks\":\"\",\"zerolinecolor\":\"white\",\"gridwidth\":2},\"yaxis\":{\"backgroundcolor\":\"#E5ECF6\",\"gridcolor\":\"white\",\"linecolor\":\"white\",\"showbackground\":true,\"ticks\":\"\",\"zerolinecolor\":\"white\",\"gridwidth\":2},\"zaxis\":{\"backgroundcolor\":\"#E5ECF6\",\"gridcolor\":\"white\",\"linecolor\":\"white\",\"showbackground\":true,\"ticks\":\"\",\"zerolinecolor\":\"white\",\"gridwidth\":2}},\"shapedefaults\":{\"line\":{\"color\":\"#2a3f5f\"}},\"annotationdefaults\":{\"arrowcolor\":\"#2a3f5f\",\"arrowhead\":0,\"arrowwidth\":1},\"geo\":{\"bgcolor\":\"white\",\"landcolor\":\"#E5ECF6\",\"subunitcolor\":\"white\",\"showland\":true,\"showlakes\":true,\"lakecolor\":\"white\"},\"title\":{\"x\":0.05},\"mapbox\":{\"style\":\"light\"}}},\"xaxis\":{\"anchor\":\"y\",\"domain\":[0.0,1.0],\"title\":{\"text\":\"x\"}},\"yaxis\":{\"anchor\":\"x\",\"domain\":[0.0,1.0],\"title\":{\"text\":\"y\"}},\"legend\":{\"tracegroupgap\":0},\"margin\":{\"t\":60},\"barmode\":\"relative\"},                        {\"responsive\": true}                    ).then(function(){\n",
       "                            \n",
       "var gd = document.getElementById('17bf92b5-e6de-43e3-aff5-6cd835fb8fcd');\n",
       "var x = new MutationObserver(function (mutations, observer) {{\n",
       "        var display = window.getComputedStyle(gd).display;\n",
       "        if (!display || display === 'none') {{\n",
       "            console.log([gd, 'removed!']);\n",
       "            Plotly.purge(gd);\n",
       "            observer.disconnect();\n",
       "        }}\n",
       "}});\n",
       "\n",
       "// Listen for the removal of the full notebook cells\n",
       "var notebookContainer = gd.closest('#notebook-container');\n",
       "if (notebookContainer) {{\n",
       "    x.observe(notebookContainer, {childList: true});\n",
       "}}\n",
       "\n",
       "// Listen for the clearing of the current output cell\n",
       "var outputEl = gd.closest('.output');\n",
       "if (outputEl) {{\n",
       "    x.observe(outputEl, {childList: true});\n",
       "}}\n",
       "\n",
       "                        })                };                            </script>        </div>\n",
       "</body>\n",
       "</html>"
      ]
     },
     "metadata": {}
    }
   ]
  },
  {
   "cell_type": "code",
   "source": [
    "val_data = train_dataset.split(0.2)\n",
    "val_dataset = HaSpeeDe_Dataset(\"\", data=val_data)\n",
    "\n",
    "test_dataset = HaSpeeDe_Dataset(ROOT_PATH + \"/test-news-taskA.jsonl\", use_embeddings=True)#, stopwords_file_path=ROOT_PATH + \"/stopwords-it.txt\", encoder=encoder) #/test-tweets-taskA.jsonl\n"
   ],
   "metadata": {
    "id": "hirgWRaEINxI",
    "colab": {
     "base_uri": "https://localhost:8080/"
    },
    "outputId": "07d92a3d-c729-4299-944f-0566e074ccae"
   },
   "id": "hirgWRaEINxI",
   "execution_count": 42,
   "outputs": [
    {
     "output_type": "stream",
     "name": "stderr",
     "text": [
      "Warning : `load_model` does not return WordVectorModel or SupervisedModel any more, but a `FastText` object which is very similar.\n"
     ]
    }
   ]
  },
  {
   "cell_type": "code",
   "source": [
    "device = \"cuda\"\n",
    "\n",
    "\n",
    "train_dataset.device = device\n",
    "val_dataset.device = device\n",
    "test_dataset.device = device\n",
    "\n",
    "train_loader = train_dataset.get_dataloader(64, True)\n",
    "val_loader = val_dataset.get_dataloader(64, True)\n",
    "test_loader = test_dataset.get_dataloader(64, True)"
   ],
   "metadata": {
    "id": "Z7K2H2myL4qQ"
   },
   "id": "Z7K2H2myL4qQ",
   "execution_count": 43,
   "outputs": []
  },
  {
   "cell_type": "code",
   "source": [
    "model = BaselineSimpleModel(300,1)\n",
    "\n",
    "\n",
    "trainer = Trainer(model,train_loader, val_loader, Adam(model.parameters(), lr=2e-1, weight_decay=1e-4), nn.BCELoss(), device,test_dataloader=test_loader)"
   ],
   "metadata": {
    "id": "1cg4OOQC3RBX"
   },
   "id": "1cg4OOQC3RBX",
   "execution_count": 15,
   "outputs": []
  },
  {
   "cell_type": "code",
   "source": [
    "sizes = [1024, 2000, 500, 1000,1]\n",
    "embeddings = train_dataset.embeddings\n",
    "embeddings = sorted(list(embeddings.items()), key=lambda x: x[0])\n",
    "embeddings = torch.tensor([x[1] for x in embeddings])\n",
    "print(embeddings.shape)\n",
    "hate_detector = HateDetectionModule( 300, 512,sizes, dropout=0.2, lstm_layers=2, embeddings=embeddings)\n",
    "\n",
    "\n",
    "hate_trainer = Trainer(hate_detector, train_loader, val_loader, AdamW(hate_detector.parameters(), lr=5e-4), nn.BCELoss(), device,test_dataloader=test_loader)"
   ],
   "metadata": {
    "id": "oQdFIdGc2lwd",
    "colab": {
     "base_uri": "https://localhost:8080/"
    },
    "outputId": "ff89cfe3-00af-4036-8da9-cecdf1a276f2"
   },
   "id": "oQdFIdGc2lwd",
   "execution_count": 44,
   "outputs": [
    {
     "output_type": "stream",
     "name": "stdout",
     "text": [
      "torch.Size([24590, 300])\n"
     ]
    }
   ]
  },
  {
   "cell_type": "code",
   "source": [
    "wandb.finish()\n",
    "hate_trainer.train(10, use_wandb=True , name=\"bilstm-2lstm-4lin-lr5e-4-drop.2-512\", config={\"classifier\": sizes})\n",
    "\n"
   ],
   "metadata": {
    "colab": {
     "base_uri": "https://localhost:8080/",
     "height": 419,
     "referenced_widgets": [
      "0c47f906b2b54370a76a1b6f2a58aeaa",
      "1cc91669a9224fcaa733382a05b1aa01",
      "db393526860b4976b6481e7d967cbe9b",
      "b5e14174c6224701817a6fcde210754e",
      "6801c7a085d142a99f317c686fd5ac74",
      "7e772049b30c4f8385beaf7400b1a0d2",
      "49a20368d9be4ec9876af53a59811592",
      "a7301d6ce2704929b6432aa0c27bf19f"
     ]
    },
    "id": "Rcm1GRcmLQCy",
    "outputId": "7e3cdc2a-f672-4786-9f36-6c144ad5c6db"
   },
   "id": "Rcm1GRcmLQCy",
   "execution_count": 45,
   "outputs": [
    {
     "output_type": "display_data",
     "data": {
      "text/plain": [
       "<IPython.core.display.HTML object>"
      ],
      "text/html": [
       "Tracking run with wandb version 0.16.6"
      ]
     },
     "metadata": {}
    },
    {
     "output_type": "display_data",
     "data": {
      "text/plain": [
       "<IPython.core.display.HTML object>"
      ],
      "text/html": [
       "Run data is saved locally in <code>/content/wandb/run-20240425_161609-jjjenvh8</code>"
      ]
     },
     "metadata": {}
    },
    {
     "output_type": "display_data",
     "data": {
      "text/plain": [
       "<IPython.core.display.HTML object>"
      ],
      "text/html": [
       "Syncing run <strong><a href='https://wandb.ai/monteleone/nlp-hw-1b/runs/jjjenvh8' target=\"_blank\">bilstm-2lstm-4lin-lr5e-4-drop.2-512</a></strong> to <a href='https://wandb.ai/monteleone/nlp-hw-1b' target=\"_blank\">Weights & Biases</a> (<a href='https://wandb.me/run' target=\"_blank\">docs</a>)<br/>"
      ]
     },
     "metadata": {}
    },
    {
     "output_type": "display_data",
     "data": {
      "text/plain": [
       "<IPython.core.display.HTML object>"
      ],
      "text/html": [
       " View project at <a href='https://wandb.ai/monteleone/nlp-hw-1b' target=\"_blank\">https://wandb.ai/monteleone/nlp-hw-1b</a>"
      ]
     },
     "metadata": {}
    },
    {
     "output_type": "display_data",
     "data": {
      "text/plain": [
       "<IPython.core.display.HTML object>"
      ],
      "text/html": [
       " View run at <a href='https://wandb.ai/monteleone/nlp-hw-1b/runs/jjjenvh8' target=\"_blank\">https://wandb.ai/monteleone/nlp-hw-1b/runs/jjjenvh8</a>"
      ]
     },
     "metadata": {}
    },
    {
     "output_type": "stream",
     "name": "stdout",
     "text": [
      "[===========================>  ] 95.45% complete | validation"
     ]
    },
    {
     "output_type": "display_data",
     "data": {
      "text/plain": [
       "VBox(children=(Label(value='0.001 MB of 0.001 MB uploaded\\r'), FloatProgress(value=1.0, max=1.0)))"
      ],
      "application/vnd.jupyter.widget-view+json": {
       "version_major": 2,
       "version_minor": 0,
       "model_id": "0c47f906b2b54370a76a1b6f2a58aeaa"
      }
     },
     "metadata": {}
    },
    {
     "output_type": "display_data",
     "data": {
      "text/plain": [
       "<IPython.core.display.HTML object>"
      ],
      "text/html": [
       "<style>\n",
       "    table.wandb td:nth-child(1) { padding: 0 10px; text-align: left ; width: auto;} td:nth-child(2) {text-align: left ; width: 100%}\n",
       "    .wandb-row { display: flex; flex-direction: row; flex-wrap: wrap; justify-content: flex-start; width: 100% }\n",
       "    .wandb-col { display: flex; flex-direction: column; flex-basis: 100%; flex: 1; padding: 10px; }\n",
       "    </style>\n",
       "<div class=\"wandb-row\"><div class=\"wandb-col\"><h3>Run history:</h3><br/><table class=\"wandb\"><tr><td>accuracy</td><td>▁▇█▇▇▇▆▅▆▅</td></tr><tr><td>f1</td><td>▃▅█▇▆▇▅▅▄▁</td></tr><tr><td>precision</td><td>▁█▇▆▇▆▆▅▇▇</td></tr><tr><td>recall</td><td>█▄▇▆▆▆▅▅▃▁</td></tr><tr><td>train_loss</td><td>█▇▅▄▃▂▂▂▁▁</td></tr><tr><td>validation_loss</td><td>▂▁▁▂▃▅▄▃█▆</td></tr></table><br/></div><div class=\"wandb-col\"><h3>Run summary:</h3><br/><table class=\"wandb\"><tr><td>accuracy</td><td>0.7425</td></tr><tr><td>f1</td><td>0.66219</td></tr><tr><td>precision</td><td>0.70408</td></tr><tr><td>recall</td><td>0.625</td></tr><tr><td>train_loss</td><td>0.0314</td></tr><tr><td>validation_loss</td><td>1.20892</td></tr></table><br/></div></div>"
      ]
     },
     "metadata": {}
    },
    {
     "output_type": "display_data",
     "data": {
      "text/plain": [
       "<IPython.core.display.HTML object>"
      ],
      "text/html": [
       " View run <strong style=\"color:#cdcd00\">bilstm-2lstm-4lin-lr5e-4-drop.2-512</strong> at: <a href='https://wandb.ai/monteleone/nlp-hw-1b/runs/jjjenvh8' target=\"_blank\">https://wandb.ai/monteleone/nlp-hw-1b/runs/jjjenvh8</a><br/> View project at: <a href='https://wandb.ai/monteleone/nlp-hw-1b' target=\"_blank\">https://wandb.ai/monteleone/nlp-hw-1b</a><br/>Synced 5 W&B file(s), 0 media file(s), 0 artifact file(s) and 0 other file(s)"
      ]
     },
     "metadata": {}
    },
    {
     "output_type": "display_data",
     "data": {
      "text/plain": [
       "<IPython.core.display.HTML object>"
      ],
      "text/html": [
       "Find logs at: <code>./wandb/run-20240425_161609-jjjenvh8/logs</code>"
      ]
     },
     "metadata": {}
    }
   ]
  },
  {
   "metadata": {},
   "cell_type": "code",
   "outputs": [],
   "execution_count": null,
   "source": [
    "model_name = ''\n",
    "hate_detector.load_state_dict(torch.load(model_name))\n",
    "wandb.finish()\n",
    "hate_trainer.train(10, use_wandb=True , name=\"bilstm-2lstm-4lin-lr5e-4-drop.2-512\", config={\"classifier\": sizes})"
   ],
   "id": "ef4484f43de3845"
  },
  {
   "cell_type": "code",
   "source": [
    "\n",
    "baseline_model = BaselineStratifiedModel(train_dataset.neutral_count, train_dataset.hateful_count)\n",
    "\n",
    "\n",
    "trainer_baseline = Trainer(baseline_model,train_loader, val_loader, Adam(model.parameters()), nn.BCELoss(), \"cpu\",test_dataloader=test_loader)\n",
    "\n",
    "\n"
   ],
   "metadata": {
    "id": "0xzc6iUfRFpA"
   },
   "id": "0xzc6iUfRFpA",
   "execution_count": null,
   "outputs": []
  },
  {
   "cell_type": "code",
   "source": [
    "\n",
    "validation_loss, precision, recall, f1, accuracy = trainer_baseline.validate()\n",
    "\n"
   ],
   "metadata": {
    "colab": {
     "base_uri": "https://localhost:8080/"
    },
    "id": "obao2mepklTb",
    "outputId": "22793b58-1155-4804-ade6-ac3d053f6b24"
   },
   "id": "obao2mepklTb",
   "execution_count": null,
   "outputs": [
    {
     "output_type": "stream",
     "name": "stdout",
     "text": [
      "[===========================>  ] 95.45% complete"
     ]
    }
   ]
  },
  {
   "cell_type": "code",
   "source": [
    "\n",
    "\n",
    "trainer.train(30, use_wandb=True , name=\"simple-baseline-lr0.2\")\n"
   ],
   "metadata": {
    "colab": {
     "base_uri": "https://localhost:8080/",
     "height": 391
    },
    "id": "xAaIsmS0dRgH",
    "outputId": "f8ce9f0c-f07d-4e69-c017-56f21e8d9ff8"
   },
   "id": "xAaIsmS0dRgH",
   "execution_count": null,
   "outputs": [
    {
     "output_type": "display_data",
     "data": {
      "text/plain": [
       "<IPython.core.display.HTML object>"
      ],
      "text/html": [
       "Tracking run with wandb version 0.16.6"
      ]
     },
     "metadata": {}
    },
    {
     "output_type": "display_data",
     "data": {
      "text/plain": [
       "<IPython.core.display.HTML object>"
      ],
      "text/html": [
       "Run data is saved locally in <code>/content/wandb/run-20240417_220320-ptrgxffm</code>"
      ]
     },
     "metadata": {}
    },
    {
     "output_type": "display_data",
     "data": {
      "text/plain": [
       "<IPython.core.display.HTML object>"
      ],
      "text/html": [
       "Syncing run <strong><a href='https://wandb.ai/monteleone/nlp-hw-1b/runs/ptrgxffm' target=\"_blank\">simple-baseline-lr0.2</a></strong> to <a href='https://wandb.ai/monteleone/nlp-hw-1b' target=\"_blank\">Weights & Biases</a> (<a href='https://wandb.me/run' target=\"_blank\">docs</a>)<br/>"
      ]
     },
     "metadata": {}
    },
    {
     "output_type": "display_data",
     "data": {
      "text/plain": [
       "<IPython.core.display.HTML object>"
      ],
      "text/html": [
       " View project at <a href='https://wandb.ai/monteleone/nlp-hw-1b' target=\"_blank\">https://wandb.ai/monteleone/nlp-hw-1b</a>"
      ]
     },
     "metadata": {}
    },
    {
     "output_type": "display_data",
     "data": {
      "text/plain": [
       "<IPython.core.display.HTML object>"
      ],
      "text/html": [
       " View run at <a href='https://wandb.ai/monteleone/nlp-hw-1b/runs/ptrgxffm' target=\"_blank\">https://wandb.ai/monteleone/nlp-hw-1b/runs/ptrgxffm</a>"
      ]
     },
     "metadata": {}
    },
    {
     "output_type": "stream",
     "name": "stdout",
     "text": [
      "[==========================>   ] 90.70% complete | training epoch 9"
     ]
    },
    {
     "output_type": "error",
     "ename": "KeyboardInterrupt",
     "evalue": "",
     "traceback": [
      "\u001B[0;31m---------------------------------------------------------------------------\u001B[0m",
      "\u001B[0;31mKeyboardInterrupt\u001B[0m                         Traceback (most recent call last)",
      "\u001B[0;32m<ipython-input-31-576cff4f3807>\u001B[0m in \u001B[0;36m<cell line: 1>\u001B[0;34m()\u001B[0m\n\u001B[0;32m----> 1\u001B[0;31m \u001B[0mtrainer\u001B[0m\u001B[0;34m.\u001B[0m\u001B[0mtrain\u001B[0m\u001B[0;34m(\u001B[0m\u001B[0;36m30\u001B[0m\u001B[0;34m,\u001B[0m \u001B[0muse_wandb\u001B[0m\u001B[0;34m=\u001B[0m\u001B[0;32mTrue\u001B[0m \u001B[0;34m,\u001B[0m \u001B[0mname\u001B[0m\u001B[0;34m=\u001B[0m\u001B[0;34m\"simple-baseline-lr0.2\"\u001B[0m\u001B[0;34m)\u001B[0m\u001B[0;34m\u001B[0m\u001B[0;34m\u001B[0m\u001B[0m\n\u001B[0m",
      "\u001B[0;32m<ipython-input-18-cfecfd75131a>\u001B[0m in \u001B[0;36mtrain\u001B[0;34m(self, epochs, use_wandb, config, name)\u001B[0m\n\u001B[1;32m     33\u001B[0m             \u001B[0mtotal_loss\u001B[0m \u001B[0;34m=\u001B[0m \u001B[0;36m0\u001B[0m\u001B[0;34m\u001B[0m\u001B[0;34m\u001B[0m\u001B[0m\n\u001B[1;32m     34\u001B[0m             \u001B[0;31m#breakpoint()\u001B[0m\u001B[0;34m\u001B[0m\u001B[0;34m\u001B[0m\u001B[0m\n\u001B[0;32m---> 35\u001B[0;31m             \u001B[0;32mfor\u001B[0m \u001B[0mi\u001B[0m\u001B[0;34m,\u001B[0m \u001B[0mbatch\u001B[0m \u001B[0;32min\u001B[0m \u001B[0menumerate\u001B[0m\u001B[0;34m(\u001B[0m\u001B[0mself\u001B[0m\u001B[0;34m.\u001B[0m\u001B[0mtrain_dataloader\u001B[0m\u001B[0;34m)\u001B[0m\u001B[0;34m:\u001B[0m\u001B[0;34m\u001B[0m\u001B[0;34m\u001B[0m\u001B[0m\n\u001B[0m\u001B[1;32m     36\u001B[0m                 \u001B[0mprint_progress_bar\u001B[0m\u001B[0;34m(\u001B[0m\u001B[0mi\u001B[0m \u001B[0;34m/\u001B[0m \u001B[0mlen\u001B[0m\u001B[0;34m(\u001B[0m\u001B[0mself\u001B[0m\u001B[0;34m.\u001B[0m\u001B[0mtrain_dataloader\u001B[0m\u001B[0;34m)\u001B[0m\u001B[0;34m,\u001B[0m \u001B[0mtext\u001B[0m\u001B[0;34m=\u001B[0m\u001B[0;34mf\"| training epoch {epoch}\"\u001B[0m\u001B[0;34m)\u001B[0m\u001B[0;34m\u001B[0m\u001B[0;34m\u001B[0m\u001B[0m\n\u001B[1;32m     37\u001B[0m                 \u001B[0;31m# Get the inputs and targets from the batch\u001B[0m\u001B[0;34m\u001B[0m\u001B[0;34m\u001B[0m\u001B[0m\n",
      "\u001B[0;32m/usr/local/lib/python3.10/dist-packages/torch/utils/data/dataloader.py\u001B[0m in \u001B[0;36m__next__\u001B[0;34m(self)\u001B[0m\n\u001B[1;32m    629\u001B[0m                 \u001B[0;31m# TODO(https://github.com/pytorch/pytorch/issues/76750)\u001B[0m\u001B[0;34m\u001B[0m\u001B[0;34m\u001B[0m\u001B[0m\n\u001B[1;32m    630\u001B[0m                 \u001B[0mself\u001B[0m\u001B[0;34m.\u001B[0m\u001B[0m_reset\u001B[0m\u001B[0;34m(\u001B[0m\u001B[0;34m)\u001B[0m  \u001B[0;31m# type: ignore[call-arg]\u001B[0m\u001B[0;34m\u001B[0m\u001B[0;34m\u001B[0m\u001B[0m\n\u001B[0;32m--> 631\u001B[0;31m             \u001B[0mdata\u001B[0m \u001B[0;34m=\u001B[0m \u001B[0mself\u001B[0m\u001B[0;34m.\u001B[0m\u001B[0m_next_data\u001B[0m\u001B[0;34m(\u001B[0m\u001B[0;34m)\u001B[0m\u001B[0;34m\u001B[0m\u001B[0;34m\u001B[0m\u001B[0m\n\u001B[0m\u001B[1;32m    632\u001B[0m             \u001B[0mself\u001B[0m\u001B[0;34m.\u001B[0m\u001B[0m_num_yielded\u001B[0m \u001B[0;34m+=\u001B[0m \u001B[0;36m1\u001B[0m\u001B[0;34m\u001B[0m\u001B[0;34m\u001B[0m\u001B[0m\n\u001B[1;32m    633\u001B[0m             \u001B[0;32mif\u001B[0m \u001B[0mself\u001B[0m\u001B[0;34m.\u001B[0m\u001B[0m_dataset_kind\u001B[0m \u001B[0;34m==\u001B[0m \u001B[0m_DatasetKind\u001B[0m\u001B[0;34m.\u001B[0m\u001B[0mIterable\u001B[0m \u001B[0;32mand\u001B[0m\u001B[0;31m \u001B[0m\u001B[0;31m\\\u001B[0m\u001B[0;34m\u001B[0m\u001B[0;34m\u001B[0m\u001B[0m\n",
      "\u001B[0;32m/usr/local/lib/python3.10/dist-packages/torch/utils/data/dataloader.py\u001B[0m in \u001B[0;36m_next_data\u001B[0;34m(self)\u001B[0m\n\u001B[1;32m    673\u001B[0m     \u001B[0;32mdef\u001B[0m \u001B[0m_next_data\u001B[0m\u001B[0;34m(\u001B[0m\u001B[0mself\u001B[0m\u001B[0;34m)\u001B[0m\u001B[0;34m:\u001B[0m\u001B[0;34m\u001B[0m\u001B[0;34m\u001B[0m\u001B[0m\n\u001B[1;32m    674\u001B[0m         \u001B[0mindex\u001B[0m \u001B[0;34m=\u001B[0m \u001B[0mself\u001B[0m\u001B[0;34m.\u001B[0m\u001B[0m_next_index\u001B[0m\u001B[0;34m(\u001B[0m\u001B[0;34m)\u001B[0m  \u001B[0;31m# may raise StopIteration\u001B[0m\u001B[0;34m\u001B[0m\u001B[0;34m\u001B[0m\u001B[0m\n\u001B[0;32m--> 675\u001B[0;31m         \u001B[0mdata\u001B[0m \u001B[0;34m=\u001B[0m \u001B[0mself\u001B[0m\u001B[0;34m.\u001B[0m\u001B[0m_dataset_fetcher\u001B[0m\u001B[0;34m.\u001B[0m\u001B[0mfetch\u001B[0m\u001B[0;34m(\u001B[0m\u001B[0mindex\u001B[0m\u001B[0;34m)\u001B[0m  \u001B[0;31m# may raise StopIteration\u001B[0m\u001B[0;34m\u001B[0m\u001B[0;34m\u001B[0m\u001B[0m\n\u001B[0m\u001B[1;32m    676\u001B[0m         \u001B[0;32mif\u001B[0m \u001B[0mself\u001B[0m\u001B[0;34m.\u001B[0m\u001B[0m_pin_memory\u001B[0m\u001B[0;34m:\u001B[0m\u001B[0;34m\u001B[0m\u001B[0;34m\u001B[0m\u001B[0m\n\u001B[1;32m    677\u001B[0m             \u001B[0mdata\u001B[0m \u001B[0;34m=\u001B[0m \u001B[0m_utils\u001B[0m\u001B[0;34m.\u001B[0m\u001B[0mpin_memory\u001B[0m\u001B[0;34m.\u001B[0m\u001B[0mpin_memory\u001B[0m\u001B[0;34m(\u001B[0m\u001B[0mdata\u001B[0m\u001B[0;34m,\u001B[0m \u001B[0mself\u001B[0m\u001B[0;34m.\u001B[0m\u001B[0m_pin_memory_device\u001B[0m\u001B[0;34m)\u001B[0m\u001B[0;34m\u001B[0m\u001B[0;34m\u001B[0m\u001B[0m\n",
      "\u001B[0;32m/usr/local/lib/python3.10/dist-packages/torch/utils/data/_utils/fetch.py\u001B[0m in \u001B[0;36mfetch\u001B[0;34m(self, possibly_batched_index)\u001B[0m\n\u001B[1;32m     52\u001B[0m         \u001B[0;32melse\u001B[0m\u001B[0;34m:\u001B[0m\u001B[0;34m\u001B[0m\u001B[0;34m\u001B[0m\u001B[0m\n\u001B[1;32m     53\u001B[0m             \u001B[0mdata\u001B[0m \u001B[0;34m=\u001B[0m \u001B[0mself\u001B[0m\u001B[0;34m.\u001B[0m\u001B[0mdataset\u001B[0m\u001B[0;34m[\u001B[0m\u001B[0mpossibly_batched_index\u001B[0m\u001B[0;34m]\u001B[0m\u001B[0;34m\u001B[0m\u001B[0;34m\u001B[0m\u001B[0m\n\u001B[0;32m---> 54\u001B[0;31m         \u001B[0;32mreturn\u001B[0m \u001B[0mself\u001B[0m\u001B[0;34m.\u001B[0m\u001B[0mcollate_fn\u001B[0m\u001B[0;34m(\u001B[0m\u001B[0mdata\u001B[0m\u001B[0;34m)\u001B[0m\u001B[0;34m\u001B[0m\u001B[0;34m\u001B[0m\u001B[0m\n\u001B[0m",
      "\u001B[0;32m<ipython-input-4-8d4375b7c368>\u001B[0m in \u001B[0;36mcollate\u001B[0;34m(self, batch)\u001B[0m\n\u001B[1;32m     43\u001B[0m         \u001B[0mtexts\u001B[0m\u001B[0;34m,\u001B[0m \u001B[0mlabels\u001B[0m \u001B[0;34m=\u001B[0m \u001B[0mzip\u001B[0m\u001B[0;34m(\u001B[0m\u001B[0;34m*\u001B[0m\u001B[0mbatch\u001B[0m\u001B[0;34m)\u001B[0m\u001B[0;34m\u001B[0m\u001B[0;34m\u001B[0m\u001B[0m\n\u001B[1;32m     44\u001B[0m         \u001B[0mlens\u001B[0m \u001B[0;34m=\u001B[0m \u001B[0;34m[\u001B[0m\u001B[0mlen\u001B[0m\u001B[0;34m(\u001B[0m\u001B[0mtext\u001B[0m\u001B[0;34m)\u001B[0m \u001B[0;32mfor\u001B[0m \u001B[0mtext\u001B[0m \u001B[0;32min\u001B[0m \u001B[0mtexts\u001B[0m\u001B[0;34m]\u001B[0m\u001B[0;34m\u001B[0m\u001B[0;34m\u001B[0m\u001B[0m\n\u001B[0;32m---> 45\u001B[0;31m         \u001B[0mtexts\u001B[0m \u001B[0;34m=\u001B[0m \u001B[0mpad_sequence\u001B[0m\u001B[0;34m(\u001B[0m\u001B[0;34m[\u001B[0m\u001B[0mtorch\u001B[0m\u001B[0;34m.\u001B[0m\u001B[0mtensor\u001B[0m\u001B[0;34m(\u001B[0m\u001B[0mtext\u001B[0m\u001B[0;34m)\u001B[0m \u001B[0;32mfor\u001B[0m \u001B[0mtext\u001B[0m \u001B[0;32min\u001B[0m \u001B[0mtexts\u001B[0m\u001B[0;34m]\u001B[0m\u001B[0;34m,\u001B[0m \u001B[0mbatch_first\u001B[0m\u001B[0;34m=\u001B[0m\u001B[0;32mTrue\u001B[0m\u001B[0;34m)\u001B[0m\u001B[0;34m\u001B[0m\u001B[0;34m\u001B[0m\u001B[0m\n\u001B[0m\u001B[1;32m     46\u001B[0m         \u001B[0;32mreturn\u001B[0m \u001B[0mtexts\u001B[0m\u001B[0;34m.\u001B[0m\u001B[0mto\u001B[0m\u001B[0;34m(\u001B[0m\u001B[0mself\u001B[0m\u001B[0;34m.\u001B[0m\u001B[0mdevice\u001B[0m\u001B[0;34m)\u001B[0m\u001B[0;34m,\u001B[0m \u001B[0mtorch\u001B[0m\u001B[0;34m.\u001B[0m\u001B[0mtensor\u001B[0m\u001B[0;34m(\u001B[0m\u001B[0mlabels\u001B[0m\u001B[0;34m,\u001B[0m \u001B[0mdtype\u001B[0m\u001B[0;34m=\u001B[0m\u001B[0mtorch\u001B[0m\u001B[0;34m.\u001B[0m\u001B[0mfloat\u001B[0m\u001B[0;34m)\u001B[0m\u001B[0;34m.\u001B[0m\u001B[0mto\u001B[0m\u001B[0;34m(\u001B[0m\u001B[0mself\u001B[0m\u001B[0;34m.\u001B[0m\u001B[0mdevice\u001B[0m\u001B[0;34m)\u001B[0m\u001B[0;34m,\u001B[0m \u001B[0mtorch\u001B[0m\u001B[0;34m.\u001B[0m\u001B[0mtensor\u001B[0m\u001B[0;34m(\u001B[0m\u001B[0mlens\u001B[0m\u001B[0;34m)\u001B[0m\u001B[0;34m.\u001B[0m\u001B[0mto\u001B[0m\u001B[0;34m(\u001B[0m\u001B[0mself\u001B[0m\u001B[0;34m.\u001B[0m\u001B[0mdevice\u001B[0m\u001B[0;34m)\u001B[0m\u001B[0;34m\u001B[0m\u001B[0;34m\u001B[0m\u001B[0m\n\u001B[1;32m     47\u001B[0m \u001B[0;34m\u001B[0m\u001B[0m\n",
      "\u001B[0;32m<ipython-input-4-8d4375b7c368>\u001B[0m in \u001B[0;36m<listcomp>\u001B[0;34m(.0)\u001B[0m\n\u001B[1;32m     43\u001B[0m         \u001B[0mtexts\u001B[0m\u001B[0;34m,\u001B[0m \u001B[0mlabels\u001B[0m \u001B[0;34m=\u001B[0m \u001B[0mzip\u001B[0m\u001B[0;34m(\u001B[0m\u001B[0;34m*\u001B[0m\u001B[0mbatch\u001B[0m\u001B[0;34m)\u001B[0m\u001B[0;34m\u001B[0m\u001B[0;34m\u001B[0m\u001B[0m\n\u001B[1;32m     44\u001B[0m         \u001B[0mlens\u001B[0m \u001B[0;34m=\u001B[0m \u001B[0;34m[\u001B[0m\u001B[0mlen\u001B[0m\u001B[0;34m(\u001B[0m\u001B[0mtext\u001B[0m\u001B[0;34m)\u001B[0m \u001B[0;32mfor\u001B[0m \u001B[0mtext\u001B[0m \u001B[0;32min\u001B[0m \u001B[0mtexts\u001B[0m\u001B[0;34m]\u001B[0m\u001B[0;34m\u001B[0m\u001B[0;34m\u001B[0m\u001B[0m\n\u001B[0;32m---> 45\u001B[0;31m         \u001B[0mtexts\u001B[0m \u001B[0;34m=\u001B[0m \u001B[0mpad_sequence\u001B[0m\u001B[0;34m(\u001B[0m\u001B[0;34m[\u001B[0m\u001B[0mtorch\u001B[0m\u001B[0;34m.\u001B[0m\u001B[0mtensor\u001B[0m\u001B[0;34m(\u001B[0m\u001B[0mtext\u001B[0m\u001B[0;34m)\u001B[0m \u001B[0;32mfor\u001B[0m \u001B[0mtext\u001B[0m \u001B[0;32min\u001B[0m \u001B[0mtexts\u001B[0m\u001B[0;34m]\u001B[0m\u001B[0;34m,\u001B[0m \u001B[0mbatch_first\u001B[0m\u001B[0;34m=\u001B[0m\u001B[0;32mTrue\u001B[0m\u001B[0;34m)\u001B[0m\u001B[0;34m\u001B[0m\u001B[0;34m\u001B[0m\u001B[0m\n\u001B[0m\u001B[1;32m     46\u001B[0m         \u001B[0;32mreturn\u001B[0m \u001B[0mtexts\u001B[0m\u001B[0;34m.\u001B[0m\u001B[0mto\u001B[0m\u001B[0;34m(\u001B[0m\u001B[0mself\u001B[0m\u001B[0;34m.\u001B[0m\u001B[0mdevice\u001B[0m\u001B[0;34m)\u001B[0m\u001B[0;34m,\u001B[0m \u001B[0mtorch\u001B[0m\u001B[0;34m.\u001B[0m\u001B[0mtensor\u001B[0m\u001B[0;34m(\u001B[0m\u001B[0mlabels\u001B[0m\u001B[0;34m,\u001B[0m \u001B[0mdtype\u001B[0m\u001B[0;34m=\u001B[0m\u001B[0mtorch\u001B[0m\u001B[0;34m.\u001B[0m\u001B[0mfloat\u001B[0m\u001B[0;34m)\u001B[0m\u001B[0;34m.\u001B[0m\u001B[0mto\u001B[0m\u001B[0;34m(\u001B[0m\u001B[0mself\u001B[0m\u001B[0;34m.\u001B[0m\u001B[0mdevice\u001B[0m\u001B[0;34m)\u001B[0m\u001B[0;34m,\u001B[0m \u001B[0mtorch\u001B[0m\u001B[0;34m.\u001B[0m\u001B[0mtensor\u001B[0m\u001B[0;34m(\u001B[0m\u001B[0mlens\u001B[0m\u001B[0;34m)\u001B[0m\u001B[0;34m.\u001B[0m\u001B[0mto\u001B[0m\u001B[0;34m(\u001B[0m\u001B[0mself\u001B[0m\u001B[0;34m.\u001B[0m\u001B[0mdevice\u001B[0m\u001B[0;34m)\u001B[0m\u001B[0;34m\u001B[0m\u001B[0;34m\u001B[0m\u001B[0m\n\u001B[1;32m     47\u001B[0m \u001B[0;34m\u001B[0m\u001B[0m\n",
      "\u001B[0;31mKeyboardInterrupt\u001B[0m: "
     ]
    }
   ]
  },
  {
   "cell_type": "code",
   "source": [
    "\n",
    "\n",
    "print(\"Validation Loss:\", validation_loss)\n",
    "print(\"Precision:\", precision)\n",
    "print(\"Recall:\", recall)\n",
    "print(\"F1 Score:\", f1)\n",
    "print(\"Accuracy:\", accuracy)"
   ],
   "metadata": {
    "colab": {
     "base_uri": "https://localhost:8080/"
    },
    "id": "cxBX0SJFbLJA",
    "outputId": "f5f1425f-d58d-463e-a663-716d618fb991"
   },
   "id": "cxBX0SJFbLJA",
   "execution_count": null,
   "outputs": [
    {
     "output_type": "stream",
     "name": "stdout",
     "text": [
      "Validation Loss: 46.73604254289107\n",
      "Precision: 0.4165103189493433\n",
      "Recall: 0.4014466546112116\n",
      "F1 Score: 0.4088397790055248\n",
      "Accuracy: 0.5303584491587418\n"
     ]
    }
   ]
  },
  {
   "cell_type": "code",
   "source": [
    "wandb.finish()"
   ],
   "metadata": {
    "id": "3c4Sm-S6gPkt",
    "colab": {
     "base_uri": "https://localhost:8080/",
     "height": 87,
     "referenced_widgets": [
      "4c441fc8ba474de68e68e27c561d3311",
      "08a288ca3668403c9cf7359fd862434a",
      "c4cdd585114f40b89cbdd9f191f4bf24",
      "7d52b1e01c6b4cc18c8bf06a0aa97e74",
      "f64e1b5551da42ec8d0074f6e9cda5f4",
      "7f0142b49f7545de8e384b4f74ba57ef",
      "689d6c59ec8044e996c60c2af407912f",
      "89c52de362d24163b9d4bce761651f15"
     ]
    },
    "outputId": "66d03b0f-f54e-4810-c7f1-74bf54b24305"
   },
   "id": "3c4Sm-S6gPkt",
   "execution_count": null,
   "outputs": [
    {
     "output_type": "display_data",
     "data": {
      "text/plain": [
       "VBox(children=(Label(value='0.001 MB of 0.001 MB uploaded\\r'), FloatProgress(value=1.0, max=1.0)))"
      ],
      "application/vnd.jupyter.widget-view+json": {
       "version_major": 2,
       "version_minor": 0,
       "model_id": "4c441fc8ba474de68e68e27c561d3311"
      }
     },
     "metadata": {}
    },
    {
     "output_type": "display_data",
     "data": {
      "text/plain": [
       "<IPython.core.display.HTML object>"
      ],
      "text/html": [
       " View run <strong style=\"color:#cdcd00\">bilstm-lr8e-3-drop.2-512</strong> at: <a href='https://wandb.ai/monteleone/nlp-hw-1b/runs/zt7qi20f' target=\"_blank\">https://wandb.ai/monteleone/nlp-hw-1b/runs/zt7qi20f</a><br/> View project at: <a href='https://wandb.ai/monteleone/nlp-hw-1b' target=\"_blank\">https://wandb.ai/monteleone/nlp-hw-1b</a><br/>Synced 5 W&B file(s), 0 media file(s), 0 artifact file(s) and 0 other file(s)"
      ]
     },
     "metadata": {}
    },
    {
     "output_type": "display_data",
     "data": {
      "text/plain": [
       "<IPython.core.display.HTML object>"
      ],
      "text/html": [
       "Find logs at: <code>./wandb/run-20240425_140449-zt7qi20f/logs</code>"
      ]
     },
     "metadata": {}
    }
   ]
  }
 ],
 "metadata": {
  "kernelspec": {
   "display_name": "Python 3",
   "name": "python3"
  },
  "language_info": {
   "codemirror_mode": {
    "name": "ipython",
    "version": 2
   },
   "file_extension": ".py",
   "mimetype": "text/x-python",
   "name": "python",
   "nbconvert_exporter": "python",
   "pygments_lexer": "ipython2",
   "version": "2.7.6"
  },
  "colab": {
   "provenance": [],
   "gpuType": "T4"
  },
  "widgets": {
   "application/vnd.jupyter.widget-state+json": {
    "4c441fc8ba474de68e68e27c561d3311": {
     "model_module": "@jupyter-widgets/controls",
     "model_name": "VBoxModel",
     "model_module_version": "1.5.0",
     "state": {
      "_dom_classes": [],
      "_model_module": "@jupyter-widgets/controls",
      "_model_module_version": "1.5.0",
      "_model_name": "VBoxModel",
      "_view_count": null,
      "_view_module": "@jupyter-widgets/controls",
      "_view_module_version": "1.5.0",
      "_view_name": "VBoxView",
      "box_style": "",
      "children": [
       "IPY_MODEL_08a288ca3668403c9cf7359fd862434a",
       "IPY_MODEL_c4cdd585114f40b89cbdd9f191f4bf24"
      ],
      "layout": "IPY_MODEL_7d52b1e01c6b4cc18c8bf06a0aa97e74"
     }
    },
    "08a288ca3668403c9cf7359fd862434a": {
     "model_module": "@jupyter-widgets/controls",
     "model_name": "LabelModel",
     "model_module_version": "1.5.0",
     "state": {
      "_dom_classes": [],
      "_model_module": "@jupyter-widgets/controls",
      "_model_module_version": "1.5.0",
      "_model_name": "LabelModel",
      "_view_count": null,
      "_view_module": "@jupyter-widgets/controls",
      "_view_module_version": "1.5.0",
      "_view_name": "LabelView",
      "description": "",
      "description_tooltip": null,
      "layout": "IPY_MODEL_f64e1b5551da42ec8d0074f6e9cda5f4",
      "placeholder": "​",
      "style": "IPY_MODEL_7f0142b49f7545de8e384b4f74ba57ef",
      "value": "0.012 MB of 0.012 MB uploaded\r"
     }
    },
    "c4cdd585114f40b89cbdd9f191f4bf24": {
     "model_module": "@jupyter-widgets/controls",
     "model_name": "FloatProgressModel",
     "model_module_version": "1.5.0",
     "state": {
      "_dom_classes": [],
      "_model_module": "@jupyter-widgets/controls",
      "_model_module_version": "1.5.0",
      "_model_name": "FloatProgressModel",
      "_view_count": null,
      "_view_module": "@jupyter-widgets/controls",
      "_view_module_version": "1.5.0",
      "_view_name": "ProgressView",
      "bar_style": "",
      "description": "",
      "description_tooltip": null,
      "layout": "IPY_MODEL_689d6c59ec8044e996c60c2af407912f",
      "max": 1,
      "min": 0,
      "orientation": "horizontal",
      "style": "IPY_MODEL_89c52de362d24163b9d4bce761651f15",
      "value": 1
     }
    },
    "7d52b1e01c6b4cc18c8bf06a0aa97e74": {
     "model_module": "@jupyter-widgets/base",
     "model_name": "LayoutModel",
     "model_module_version": "1.2.0",
     "state": {
      "_model_module": "@jupyter-widgets/base",
      "_model_module_version": "1.2.0",
      "_model_name": "LayoutModel",
      "_view_count": null,
      "_view_module": "@jupyter-widgets/base",
      "_view_module_version": "1.2.0",
      "_view_name": "LayoutView",
      "align_content": null,
      "align_items": null,
      "align_self": null,
      "border": null,
      "bottom": null,
      "display": null,
      "flex": null,
      "flex_flow": null,
      "grid_area": null,
      "grid_auto_columns": null,
      "grid_auto_flow": null,
      "grid_auto_rows": null,
      "grid_column": null,
      "grid_gap": null,
      "grid_row": null,
      "grid_template_areas": null,
      "grid_template_columns": null,
      "grid_template_rows": null,
      "height": null,
      "justify_content": null,
      "justify_items": null,
      "left": null,
      "margin": null,
      "max_height": null,
      "max_width": null,
      "min_height": null,
      "min_width": null,
      "object_fit": null,
      "object_position": null,
      "order": null,
      "overflow": null,
      "overflow_x": null,
      "overflow_y": null,
      "padding": null,
      "right": null,
      "top": null,
      "visibility": null,
      "width": null
     }
    },
    "f64e1b5551da42ec8d0074f6e9cda5f4": {
     "model_module": "@jupyter-widgets/base",
     "model_name": "LayoutModel",
     "model_module_version": "1.2.0",
     "state": {
      "_model_module": "@jupyter-widgets/base",
      "_model_module_version": "1.2.0",
      "_model_name": "LayoutModel",
      "_view_count": null,
      "_view_module": "@jupyter-widgets/base",
      "_view_module_version": "1.2.0",
      "_view_name": "LayoutView",
      "align_content": null,
      "align_items": null,
      "align_self": null,
      "border": null,
      "bottom": null,
      "display": null,
      "flex": null,
      "flex_flow": null,
      "grid_area": null,
      "grid_auto_columns": null,
      "grid_auto_flow": null,
      "grid_auto_rows": null,
      "grid_column": null,
      "grid_gap": null,
      "grid_row": null,
      "grid_template_areas": null,
      "grid_template_columns": null,
      "grid_template_rows": null,
      "height": null,
      "justify_content": null,
      "justify_items": null,
      "left": null,
      "margin": null,
      "max_height": null,
      "max_width": null,
      "min_height": null,
      "min_width": null,
      "object_fit": null,
      "object_position": null,
      "order": null,
      "overflow": null,
      "overflow_x": null,
      "overflow_y": null,
      "padding": null,
      "right": null,
      "top": null,
      "visibility": null,
      "width": null
     }
    },
    "7f0142b49f7545de8e384b4f74ba57ef": {
     "model_module": "@jupyter-widgets/controls",
     "model_name": "DescriptionStyleModel",
     "model_module_version": "1.5.0",
     "state": {
      "_model_module": "@jupyter-widgets/controls",
      "_model_module_version": "1.5.0",
      "_model_name": "DescriptionStyleModel",
      "_view_count": null,
      "_view_module": "@jupyter-widgets/base",
      "_view_module_version": "1.2.0",
      "_view_name": "StyleView",
      "description_width": ""
     }
    },
    "689d6c59ec8044e996c60c2af407912f": {
     "model_module": "@jupyter-widgets/base",
     "model_name": "LayoutModel",
     "model_module_version": "1.2.0",
     "state": {
      "_model_module": "@jupyter-widgets/base",
      "_model_module_version": "1.2.0",
      "_model_name": "LayoutModel",
      "_view_count": null,
      "_view_module": "@jupyter-widgets/base",
      "_view_module_version": "1.2.0",
      "_view_name": "LayoutView",
      "align_content": null,
      "align_items": null,
      "align_self": null,
      "border": null,
      "bottom": null,
      "display": null,
      "flex": null,
      "flex_flow": null,
      "grid_area": null,
      "grid_auto_columns": null,
      "grid_auto_flow": null,
      "grid_auto_rows": null,
      "grid_column": null,
      "grid_gap": null,
      "grid_row": null,
      "grid_template_areas": null,
      "grid_template_columns": null,
      "grid_template_rows": null,
      "height": null,
      "justify_content": null,
      "justify_items": null,
      "left": null,
      "margin": null,
      "max_height": null,
      "max_width": null,
      "min_height": null,
      "min_width": null,
      "object_fit": null,
      "object_position": null,
      "order": null,
      "overflow": null,
      "overflow_x": null,
      "overflow_y": null,
      "padding": null,
      "right": null,
      "top": null,
      "visibility": null,
      "width": null
     }
    },
    "89c52de362d24163b9d4bce761651f15": {
     "model_module": "@jupyter-widgets/controls",
     "model_name": "ProgressStyleModel",
     "model_module_version": "1.5.0",
     "state": {
      "_model_module": "@jupyter-widgets/controls",
      "_model_module_version": "1.5.0",
      "_model_name": "ProgressStyleModel",
      "_view_count": null,
      "_view_module": "@jupyter-widgets/base",
      "_view_module_version": "1.2.0",
      "_view_name": "StyleView",
      "bar_color": null,
      "description_width": ""
     }
    },
    "0c47f906b2b54370a76a1b6f2a58aeaa": {
     "model_module": "@jupyter-widgets/controls",
     "model_name": "VBoxModel",
     "model_module_version": "1.5.0",
     "state": {
      "_dom_classes": [],
      "_model_module": "@jupyter-widgets/controls",
      "_model_module_version": "1.5.0",
      "_model_name": "VBoxModel",
      "_view_count": null,
      "_view_module": "@jupyter-widgets/controls",
      "_view_module_version": "1.5.0",
      "_view_name": "VBoxView",
      "box_style": "",
      "children": [
       "IPY_MODEL_1cc91669a9224fcaa733382a05b1aa01",
       "IPY_MODEL_db393526860b4976b6481e7d967cbe9b"
      ],
      "layout": "IPY_MODEL_b5e14174c6224701817a6fcde210754e"
     }
    },
    "1cc91669a9224fcaa733382a05b1aa01": {
     "model_module": "@jupyter-widgets/controls",
     "model_name": "LabelModel",
     "model_module_version": "1.5.0",
     "state": {
      "_dom_classes": [],
      "_model_module": "@jupyter-widgets/controls",
      "_model_module_version": "1.5.0",
      "_model_name": "LabelModel",
      "_view_count": null,
      "_view_module": "@jupyter-widgets/controls",
      "_view_module_version": "1.5.0",
      "_view_name": "LabelView",
      "description": "",
      "description_tooltip": null,
      "layout": "IPY_MODEL_6801c7a085d142a99f317c686fd5ac74",
      "placeholder": "​",
      "style": "IPY_MODEL_7e772049b30c4f8385beaf7400b1a0d2",
      "value": "0.011 MB of 0.011 MB uploaded\r"
     }
    },
    "db393526860b4976b6481e7d967cbe9b": {
     "model_module": "@jupyter-widgets/controls",
     "model_name": "FloatProgressModel",
     "model_module_version": "1.5.0",
     "state": {
      "_dom_classes": [],
      "_model_module": "@jupyter-widgets/controls",
      "_model_module_version": "1.5.0",
      "_model_name": "FloatProgressModel",
      "_view_count": null,
      "_view_module": "@jupyter-widgets/controls",
      "_view_module_version": "1.5.0",
      "_view_name": "ProgressView",
      "bar_style": "",
      "description": "",
      "description_tooltip": null,
      "layout": "IPY_MODEL_49a20368d9be4ec9876af53a59811592",
      "max": 1,
      "min": 0,
      "orientation": "horizontal",
      "style": "IPY_MODEL_a7301d6ce2704929b6432aa0c27bf19f",
      "value": 1
     }
    },
    "b5e14174c6224701817a6fcde210754e": {
     "model_module": "@jupyter-widgets/base",
     "model_name": "LayoutModel",
     "model_module_version": "1.2.0",
     "state": {
      "_model_module": "@jupyter-widgets/base",
      "_model_module_version": "1.2.0",
      "_model_name": "LayoutModel",
      "_view_count": null,
      "_view_module": "@jupyter-widgets/base",
      "_view_module_version": "1.2.0",
      "_view_name": "LayoutView",
      "align_content": null,
      "align_items": null,
      "align_self": null,
      "border": null,
      "bottom": null,
      "display": null,
      "flex": null,
      "flex_flow": null,
      "grid_area": null,
      "grid_auto_columns": null,
      "grid_auto_flow": null,
      "grid_auto_rows": null,
      "grid_column": null,
      "grid_gap": null,
      "grid_row": null,
      "grid_template_areas": null,
      "grid_template_columns": null,
      "grid_template_rows": null,
      "height": null,
      "justify_content": null,
      "justify_items": null,
      "left": null,
      "margin": null,
      "max_height": null,
      "max_width": null,
      "min_height": null,
      "min_width": null,
      "object_fit": null,
      "object_position": null,
      "order": null,
      "overflow": null,
      "overflow_x": null,
      "overflow_y": null,
      "padding": null,
      "right": null,
      "top": null,
      "visibility": null,
      "width": null
     }
    },
    "6801c7a085d142a99f317c686fd5ac74": {
     "model_module": "@jupyter-widgets/base",
     "model_name": "LayoutModel",
     "model_module_version": "1.2.0",
     "state": {
      "_model_module": "@jupyter-widgets/base",
      "_model_module_version": "1.2.0",
      "_model_name": "LayoutModel",
      "_view_count": null,
      "_view_module": "@jupyter-widgets/base",
      "_view_module_version": "1.2.0",
      "_view_name": "LayoutView",
      "align_content": null,
      "align_items": null,
      "align_self": null,
      "border": null,
      "bottom": null,
      "display": null,
      "flex": null,
      "flex_flow": null,
      "grid_area": null,
      "grid_auto_columns": null,
      "grid_auto_flow": null,
      "grid_auto_rows": null,
      "grid_column": null,
      "grid_gap": null,
      "grid_row": null,
      "grid_template_areas": null,
      "grid_template_columns": null,
      "grid_template_rows": null,
      "height": null,
      "justify_content": null,
      "justify_items": null,
      "left": null,
      "margin": null,
      "max_height": null,
      "max_width": null,
      "min_height": null,
      "min_width": null,
      "object_fit": null,
      "object_position": null,
      "order": null,
      "overflow": null,
      "overflow_x": null,
      "overflow_y": null,
      "padding": null,
      "right": null,
      "top": null,
      "visibility": null,
      "width": null
     }
    },
    "7e772049b30c4f8385beaf7400b1a0d2": {
     "model_module": "@jupyter-widgets/controls",
     "model_name": "DescriptionStyleModel",
     "model_module_version": "1.5.0",
     "state": {
      "_model_module": "@jupyter-widgets/controls",
      "_model_module_version": "1.5.0",
      "_model_name": "DescriptionStyleModel",
      "_view_count": null,
      "_view_module": "@jupyter-widgets/base",
      "_view_module_version": "1.2.0",
      "_view_name": "StyleView",
      "description_width": ""
     }
    },
    "49a20368d9be4ec9876af53a59811592": {
     "model_module": "@jupyter-widgets/base",
     "model_name": "LayoutModel",
     "model_module_version": "1.2.0",
     "state": {
      "_model_module": "@jupyter-widgets/base",
      "_model_module_version": "1.2.0",
      "_model_name": "LayoutModel",
      "_view_count": null,
      "_view_module": "@jupyter-widgets/base",
      "_view_module_version": "1.2.0",
      "_view_name": "LayoutView",
      "align_content": null,
      "align_items": null,
      "align_self": null,
      "border": null,
      "bottom": null,
      "display": null,
      "flex": null,
      "flex_flow": null,
      "grid_area": null,
      "grid_auto_columns": null,
      "grid_auto_flow": null,
      "grid_auto_rows": null,
      "grid_column": null,
      "grid_gap": null,
      "grid_row": null,
      "grid_template_areas": null,
      "grid_template_columns": null,
      "grid_template_rows": null,
      "height": null,
      "justify_content": null,
      "justify_items": null,
      "left": null,
      "margin": null,
      "max_height": null,
      "max_width": null,
      "min_height": null,
      "min_width": null,
      "object_fit": null,
      "object_position": null,
      "order": null,
      "overflow": null,
      "overflow_x": null,
      "overflow_y": null,
      "padding": null,
      "right": null,
      "top": null,
      "visibility": null,
      "width": null
     }
    },
    "a7301d6ce2704929b6432aa0c27bf19f": {
     "model_module": "@jupyter-widgets/controls",
     "model_name": "ProgressStyleModel",
     "model_module_version": "1.5.0",
     "state": {
      "_model_module": "@jupyter-widgets/controls",
      "_model_module_version": "1.5.0",
      "_model_name": "ProgressStyleModel",
      "_view_count": null,
      "_view_module": "@jupyter-widgets/base",
      "_view_module_version": "1.2.0",
      "_view_name": "StyleView",
      "bar_color": null,
      "description_width": ""
     }
    }
   }
  },
  "accelerator": "GPU"
 },
 "nbformat": 4,
 "nbformat_minor": 5
}
